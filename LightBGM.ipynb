{
 "cells": [
  {
   "cell_type": "markdown",
   "metadata": {
    "id": "542H_t2bk5Sh"
   },
   "source": [
    "# Required"
   ]
  },
  {
   "cell_type": "code",
   "execution_count": 1,
   "metadata": {
    "colab": {
     "base_uri": "https://localhost:8080/"
    },
    "executionInfo": {
     "elapsed": 10469,
     "status": "ok",
     "timestamp": 1697364005487,
     "user": {
      "displayName": "Leenmel",
      "userId": "15039834560745532025"
     },
     "user_tz": -480
    },
    "id": "rOWQfU1ThPFn",
    "outputId": "6417bbb4-4272-493e-cf81-ffeab128de77"
   },
   "outputs": [
    {
     "name": "stdout",
     "output_type": "stream",
     "text": [
      "Requirement already satisfied: catboost in c:\\users\\leenm\\anaconda3\\lib\\site-packages (1.2.2)\n",
      "Requirement already satisfied: graphviz in c:\\users\\leenm\\anaconda3\\lib\\site-packages (from catboost) (0.20.1)\n",
      "Requirement already satisfied: matplotlib in c:\\users\\leenm\\anaconda3\\lib\\site-packages (from catboost) (3.7.2)\n",
      "Requirement already satisfied: numpy>=1.16.0 in c:\\users\\leenm\\anaconda3\\lib\\site-packages (from catboost) (1.24.3)\n",
      "Requirement already satisfied: pandas>=0.24 in c:\\users\\leenm\\anaconda3\\lib\\site-packages (from catboost) (2.0.3)\n",
      "Requirement already satisfied: scipy in c:\\users\\leenm\\anaconda3\\lib\\site-packages (from catboost) (1.11.1)\n",
      "Requirement already satisfied: plotly in c:\\users\\leenm\\anaconda3\\lib\\site-packages (from catboost) (5.9.0)\n",
      "Requirement already satisfied: six in c:\\users\\leenm\\anaconda3\\lib\\site-packages (from catboost) (1.16.0)\n",
      "Requirement already satisfied: python-dateutil>=2.8.2 in c:\\users\\leenm\\anaconda3\\lib\\site-packages (from pandas>=0.24->catboost) (2.8.2)\n",
      "Requirement already satisfied: pytz>=2020.1 in c:\\users\\leenm\\anaconda3\\lib\\site-packages (from pandas>=0.24->catboost) (2023.3.post1)\n",
      "Requirement already satisfied: tzdata>=2022.1 in c:\\users\\leenm\\anaconda3\\lib\\site-packages (from pandas>=0.24->catboost) (2023.3)\n",
      "Requirement already satisfied: contourpy>=1.0.1 in c:\\users\\leenm\\anaconda3\\lib\\site-packages (from matplotlib->catboost) (1.0.5)\n",
      "Requirement already satisfied: cycler>=0.10 in c:\\users\\leenm\\anaconda3\\lib\\site-packages (from matplotlib->catboost) (0.11.0)\n",
      "Requirement already satisfied: fonttools>=4.22.0 in c:\\users\\leenm\\anaconda3\\lib\\site-packages (from matplotlib->catboost) (4.25.0)\n",
      "Requirement already satisfied: kiwisolver>=1.0.1 in c:\\users\\leenm\\anaconda3\\lib\\site-packages (from matplotlib->catboost) (1.4.4)\n",
      "Requirement already satisfied: packaging>=20.0 in c:\\users\\leenm\\anaconda3\\lib\\site-packages (from matplotlib->catboost) (23.1)\n",
      "Requirement already satisfied: pillow>=6.2.0 in c:\\users\\leenm\\anaconda3\\lib\\site-packages (from matplotlib->catboost) (9.4.0)\n",
      "Requirement already satisfied: pyparsing<3.1,>=2.3.1 in c:\\users\\leenm\\anaconda3\\lib\\site-packages (from matplotlib->catboost) (3.0.9)\n",
      "Requirement already satisfied: tenacity>=6.2.0 in c:\\users\\leenm\\anaconda3\\lib\\site-packages (from plotly->catboost) (8.2.2)\n",
      "Note: you may need to restart the kernel to use updated packages.\n"
     ]
    }
   ],
   "source": [
    "pip install catboost\n"
   ]
  },
  {
   "cell_type": "code",
   "execution_count": 2,
   "metadata": {
    "executionInfo": {
     "elapsed": 2448,
     "status": "ok",
     "timestamp": 1697364007929,
     "user": {
      "displayName": "Leenmel",
      "userId": "15039834560745532025"
     },
     "user_tz": -480
    },
    "id": "j54ZefR9PWsH"
   },
   "outputs": [],
   "source": [
    "# Importing the basic libraries we will require for the project\n",
    "\n",
    "# Libraries to help with reading and manipulating data\n",
    "import pandas as pd\n",
    "import numpy as np\n",
    "\n",
    "# Libaries to help with data visualization\n",
    "import matplotlib.pyplot as plt\n",
    "import seaborn as sns\n",
    "sns.set()\n",
    "\n",
    "# Importing the Machine Learning models we require from Scikit-Learn\n",
    "#from sklearn.linear_model import LogisticRegression\n",
    "#from sklearn.svm import SVC\n",
    "from sklearn.tree import DecisionTreeClassifier\n",
    "from sklearn import tree\n",
    "from sklearn.ensemble import RandomForestClassifier\n",
    "\n",
    "# Importing the other functions we may require from Scikit-Learn\n",
    "from sklearn.model_selection import train_test_split, GridSearchCV, RandomizedSearchCV\n",
    "from sklearn.preprocessing import MinMaxScaler, LabelEncoder, OneHotEncoder\n",
    "from sklearn.impute import SimpleImputer\n",
    "\n",
    "# To get different metric scores\n",
    "from sklearn.metrics import confusion_matrix,classification_report,roc_auc_score,precision_recall_curve,roc_curve,make_scorer\n",
    "\n",
    "# Code to ignore warnings from function usage\n",
    "import warnings;\n",
    "import numpy as np\n",
    "warnings.filterwarnings('ignore')\n",
    "\n",
    "# To get different metric scores\n",
    "import sklearn.metrics as metrics\n",
    "from sklearn.metrics import (\n",
    "    f1_score,\n",
    "    accuracy_score,\n",
    "    recall_score,\n",
    "    precision_score,\n",
    "    confusion_matrix,\n",
    "    classification_report,\n",
    "    roc_auc_score,\n",
    "    precision_recall_curve,\n",
    "    roc_curve,\n",
    "    make_scorer,\n",
    ")"
   ]
  },
  {
   "cell_type": "code",
   "execution_count": 3,
   "metadata": {
    "colab": {
     "base_uri": "https://localhost:8080/"
    },
    "executionInfo": {
     "elapsed": 6876,
     "status": "ok",
     "timestamp": 1697364014802,
     "user": {
      "displayName": "Leenmel",
      "userId": "15039834560745532025"
     },
     "user_tz": -480
    },
    "id": "8hSMTxjuYYJL",
    "outputId": "a6751b02-008d-4188-9ee3-f994a58429f4"
   },
   "outputs": [
    {
     "name": "stdout",
     "output_type": "stream",
     "text": [
      "Requirement already satisfied: xgboost in c:\\users\\leenm\\anaconda3\\lib\\site-packages (2.0.0)\n",
      "Requirement already satisfied: numpy in c:\\users\\leenm\\anaconda3\\lib\\site-packages (from xgboost) (1.24.3)\n",
      "Requirement already satisfied: scipy in c:\\users\\leenm\\anaconda3\\lib\\site-packages (from xgboost) (1.11.1)\n",
      "Note: you may need to restart the kernel to use updated packages.\n"
     ]
    }
   ],
   "source": [
    "pip install xgboost"
   ]
  },
  {
   "cell_type": "code",
   "execution_count": 4,
   "metadata": {
    "executionInfo": {
     "elapsed": 11,
     "status": "ok",
     "timestamp": 1697364014802,
     "user": {
      "displayName": "Leenmel",
      "userId": "15039834560745532025"
     },
     "user_tz": -480
    },
    "id": "F4NBh4I0YfwS"
   },
   "outputs": [],
   "source": [
    "import xgboost as xgb\n",
    "from xgboost import XGBClassifier, XGBRegressor\n",
    "from sklearn.metrics import accuracy_score, mean_squared_error\n"
   ]
  },
  {
   "cell_type": "code",
   "execution_count": 5,
   "metadata": {
    "colab": {
     "base_uri": "https://localhost:8080/"
    },
    "executionInfo": {
     "elapsed": 110466,
     "status": "ok",
     "timestamp": 1697364125258,
     "user": {
      "displayName": "Leenmel",
      "userId": "15039834560745532025"
     },
     "user_tz": -480
    },
    "id": "60tsaE4ASexA",
    "outputId": "3832314e-af67-4e2d-a532-c3eb4574d2dc"
   },
   "outputs": [],
   "source": [
    "#from google.colab import drive\n",
    "#drive.mount('/content/drive')"
   ]
  },
  {
   "cell_type": "code",
   "execution_count": 7,
   "metadata": {
    "executionInfo": {
     "elapsed": 1472,
     "status": "ok",
     "timestamp": 1697364126725,
     "user": {
      "displayName": "Leenmel",
      "userId": "15039834560745532025"
     },
     "user_tz": -480
    },
    "id": "f84QkRv0S1wk"
   },
   "outputs": [],
   "source": [
    "# survey data\n",
    "data_survey = pd.read_csv(r\"C:\\Users\\leenm\\Documents\\MIT\\Surveydata_train.csv\")"
   ]
  },
  {
   "cell_type": "code",
   "execution_count": 8,
   "metadata": {
    "executionInfo": {
     "elapsed": 12,
     "status": "ok",
     "timestamp": 1697364126725,
     "user": {
      "displayName": "Leenmel",
      "userId": "15039834560745532025"
     },
     "user_tz": -480
    },
    "id": "VEMXAuTpTK_k"
   },
   "outputs": [],
   "source": [
    "# travel data\n",
    "data_travel=pd.read_csv(r\"C:\\Users\\leenm\\Documents\\MIT\\Traveldata_train.csv\")"
   ]
  },
  {
   "cell_type": "code",
   "execution_count": 9,
   "metadata": {
    "colab": {
     "base_uri": "https://localhost:8080/",
     "height": 278
    },
    "executionInfo": {
     "elapsed": 11,
     "status": "ok",
     "timestamp": 1697364126725,
     "user": {
      "displayName": "Leenmel",
      "userId": "15039834560745532025"
     },
     "user_tz": -480
    },
    "id": "knhQ7OONTsDQ",
    "outputId": "8022744a-a7e3-43e6-a43b-e12770b8e52a"
   },
   "outputs": [
    {
     "data": {
      "text/html": [
       "<div>\n",
       "<style scoped>\n",
       "    .dataframe tbody tr th:only-of-type {\n",
       "        vertical-align: middle;\n",
       "    }\n",
       "\n",
       "    .dataframe tbody tr th {\n",
       "        vertical-align: top;\n",
       "    }\n",
       "\n",
       "    .dataframe thead th {\n",
       "        text-align: right;\n",
       "    }\n",
       "</style>\n",
       "<table border=\"1\" class=\"dataframe\">\n",
       "  <thead>\n",
       "    <tr style=\"text-align: right;\">\n",
       "      <th></th>\n",
       "      <th>ID</th>\n",
       "      <th>Overall_Experience</th>\n",
       "      <th>Seat_Comfort</th>\n",
       "      <th>Seat_Class</th>\n",
       "      <th>Arrival_Time_Convenient</th>\n",
       "      <th>Catering</th>\n",
       "      <th>Platform_Location</th>\n",
       "      <th>Onboard_Wifi_Service</th>\n",
       "      <th>Onboard_Entertainment</th>\n",
       "      <th>Online_Support</th>\n",
       "      <th>Ease_of_Online_Booking</th>\n",
       "      <th>Onboard_Service</th>\n",
       "      <th>Legroom</th>\n",
       "      <th>Baggage_Handling</th>\n",
       "      <th>CheckIn_Service</th>\n",
       "      <th>Cleanliness</th>\n",
       "      <th>Online_Boarding</th>\n",
       "    </tr>\n",
       "  </thead>\n",
       "  <tbody>\n",
       "    <tr>\n",
       "      <th>0</th>\n",
       "      <td>98800001</td>\n",
       "      <td>0</td>\n",
       "      <td>Needs Improvement</td>\n",
       "      <td>Green Car</td>\n",
       "      <td>Excellent</td>\n",
       "      <td>Excellent</td>\n",
       "      <td>Very Convenient</td>\n",
       "      <td>Good</td>\n",
       "      <td>Needs Improvement</td>\n",
       "      <td>Acceptable</td>\n",
       "      <td>Needs Improvement</td>\n",
       "      <td>Needs Improvement</td>\n",
       "      <td>Acceptable</td>\n",
       "      <td>Needs Improvement</td>\n",
       "      <td>Good</td>\n",
       "      <td>Needs Improvement</td>\n",
       "      <td>Poor</td>\n",
       "    </tr>\n",
       "    <tr>\n",
       "      <th>1</th>\n",
       "      <td>98800002</td>\n",
       "      <td>0</td>\n",
       "      <td>Poor</td>\n",
       "      <td>Ordinary</td>\n",
       "      <td>Excellent</td>\n",
       "      <td>Poor</td>\n",
       "      <td>Needs Improvement</td>\n",
       "      <td>Good</td>\n",
       "      <td>Poor</td>\n",
       "      <td>Good</td>\n",
       "      <td>Good</td>\n",
       "      <td>Excellent</td>\n",
       "      <td>Needs Improvement</td>\n",
       "      <td>Poor</td>\n",
       "      <td>Needs Improvement</td>\n",
       "      <td>Good</td>\n",
       "      <td>Good</td>\n",
       "    </tr>\n",
       "    <tr>\n",
       "      <th>2</th>\n",
       "      <td>98800003</td>\n",
       "      <td>1</td>\n",
       "      <td>Needs Improvement</td>\n",
       "      <td>Green Car</td>\n",
       "      <td>Needs Improvement</td>\n",
       "      <td>Needs Improvement</td>\n",
       "      <td>Needs Improvement</td>\n",
       "      <td>Needs Improvement</td>\n",
       "      <td>Good</td>\n",
       "      <td>Excellent</td>\n",
       "      <td>Excellent</td>\n",
       "      <td>Excellent</td>\n",
       "      <td>Excellent</td>\n",
       "      <td>Excellent</td>\n",
       "      <td>Good</td>\n",
       "      <td>Excellent</td>\n",
       "      <td>Excellent</td>\n",
       "    </tr>\n",
       "    <tr>\n",
       "      <th>3</th>\n",
       "      <td>98800004</td>\n",
       "      <td>0</td>\n",
       "      <td>Acceptable</td>\n",
       "      <td>Ordinary</td>\n",
       "      <td>Needs Improvement</td>\n",
       "      <td>NaN</td>\n",
       "      <td>Needs Improvement</td>\n",
       "      <td>Acceptable</td>\n",
       "      <td>Needs Improvement</td>\n",
       "      <td>Acceptable</td>\n",
       "      <td>Acceptable</td>\n",
       "      <td>Acceptable</td>\n",
       "      <td>Acceptable</td>\n",
       "      <td>Acceptable</td>\n",
       "      <td>Good</td>\n",
       "      <td>Acceptable</td>\n",
       "      <td>Acceptable</td>\n",
       "    </tr>\n",
       "    <tr>\n",
       "      <th>4</th>\n",
       "      <td>98800005</td>\n",
       "      <td>1</td>\n",
       "      <td>Acceptable</td>\n",
       "      <td>Ordinary</td>\n",
       "      <td>Acceptable</td>\n",
       "      <td>Acceptable</td>\n",
       "      <td>Manageable</td>\n",
       "      <td>Needs Improvement</td>\n",
       "      <td>Good</td>\n",
       "      <td>Excellent</td>\n",
       "      <td>Good</td>\n",
       "      <td>Good</td>\n",
       "      <td>Good</td>\n",
       "      <td>Good</td>\n",
       "      <td>Good</td>\n",
       "      <td>Good</td>\n",
       "      <td>Good</td>\n",
       "    </tr>\n",
       "  </tbody>\n",
       "</table>\n",
       "</div>"
      ],
      "text/plain": [
       "         ID  Overall_Experience       Seat_Comfort Seat_Class  \\\n",
       "0  98800001                   0  Needs Improvement  Green Car   \n",
       "1  98800002                   0               Poor   Ordinary   \n",
       "2  98800003                   1  Needs Improvement  Green Car   \n",
       "3  98800004                   0         Acceptable   Ordinary   \n",
       "4  98800005                   1         Acceptable   Ordinary   \n",
       "\n",
       "  Arrival_Time_Convenient           Catering  Platform_Location  \\\n",
       "0               Excellent          Excellent    Very Convenient   \n",
       "1               Excellent               Poor  Needs Improvement   \n",
       "2       Needs Improvement  Needs Improvement  Needs Improvement   \n",
       "3       Needs Improvement                NaN  Needs Improvement   \n",
       "4              Acceptable         Acceptable         Manageable   \n",
       "\n",
       "  Onboard_Wifi_Service Onboard_Entertainment Online_Support  \\\n",
       "0                 Good     Needs Improvement     Acceptable   \n",
       "1                 Good                  Poor           Good   \n",
       "2    Needs Improvement                  Good      Excellent   \n",
       "3           Acceptable     Needs Improvement     Acceptable   \n",
       "4    Needs Improvement                  Good      Excellent   \n",
       "\n",
       "  Ease_of_Online_Booking    Onboard_Service            Legroom  \\\n",
       "0      Needs Improvement  Needs Improvement         Acceptable   \n",
       "1                   Good          Excellent  Needs Improvement   \n",
       "2              Excellent          Excellent          Excellent   \n",
       "3             Acceptable         Acceptable         Acceptable   \n",
       "4                   Good               Good               Good   \n",
       "\n",
       "    Baggage_Handling    CheckIn_Service        Cleanliness Online_Boarding  \n",
       "0  Needs Improvement               Good  Needs Improvement            Poor  \n",
       "1               Poor  Needs Improvement               Good            Good  \n",
       "2          Excellent               Good          Excellent       Excellent  \n",
       "3         Acceptable               Good         Acceptable      Acceptable  \n",
       "4               Good               Good               Good            Good  "
      ]
     },
     "execution_count": 9,
     "metadata": {},
     "output_type": "execute_result"
    }
   ],
   "source": [
    "data_survey.head()"
   ]
  },
  {
   "cell_type": "code",
   "execution_count": 10,
   "metadata": {
    "colab": {
     "base_uri": "https://localhost:8080/",
     "height": 206
    },
    "executionInfo": {
     "elapsed": 9,
     "status": "ok",
     "timestamp": 1697364126725,
     "user": {
      "displayName": "Leenmel",
      "userId": "15039834560745532025"
     },
     "user_tz": -480
    },
    "id": "QDWku4OFTwv0",
    "outputId": "021dea5d-5c91-40b5-b084-f60d980fa295"
   },
   "outputs": [
    {
     "data": {
      "text/html": [
       "<div>\n",
       "<style scoped>\n",
       "    .dataframe tbody tr th:only-of-type {\n",
       "        vertical-align: middle;\n",
       "    }\n",
       "\n",
       "    .dataframe tbody tr th {\n",
       "        vertical-align: top;\n",
       "    }\n",
       "\n",
       "    .dataframe thead th {\n",
       "        text-align: right;\n",
       "    }\n",
       "</style>\n",
       "<table border=\"1\" class=\"dataframe\">\n",
       "  <thead>\n",
       "    <tr style=\"text-align: right;\">\n",
       "      <th></th>\n",
       "      <th>ID</th>\n",
       "      <th>Gender</th>\n",
       "      <th>Customer_Type</th>\n",
       "      <th>Age</th>\n",
       "      <th>Type_Travel</th>\n",
       "      <th>Travel_Class</th>\n",
       "      <th>Travel_Distance</th>\n",
       "      <th>Departure_Delay_in_Mins</th>\n",
       "      <th>Arrival_Delay_in_Mins</th>\n",
       "    </tr>\n",
       "  </thead>\n",
       "  <tbody>\n",
       "    <tr>\n",
       "      <th>0</th>\n",
       "      <td>98800001</td>\n",
       "      <td>Female</td>\n",
       "      <td>Loyal Customer</td>\n",
       "      <td>52.0</td>\n",
       "      <td>NaN</td>\n",
       "      <td>Business</td>\n",
       "      <td>272</td>\n",
       "      <td>0.0</td>\n",
       "      <td>5.0</td>\n",
       "    </tr>\n",
       "    <tr>\n",
       "      <th>1</th>\n",
       "      <td>98800002</td>\n",
       "      <td>Male</td>\n",
       "      <td>Loyal Customer</td>\n",
       "      <td>48.0</td>\n",
       "      <td>Personal Travel</td>\n",
       "      <td>Eco</td>\n",
       "      <td>2200</td>\n",
       "      <td>9.0</td>\n",
       "      <td>0.0</td>\n",
       "    </tr>\n",
       "    <tr>\n",
       "      <th>2</th>\n",
       "      <td>98800003</td>\n",
       "      <td>Female</td>\n",
       "      <td>Loyal Customer</td>\n",
       "      <td>43.0</td>\n",
       "      <td>Business Travel</td>\n",
       "      <td>Business</td>\n",
       "      <td>1061</td>\n",
       "      <td>77.0</td>\n",
       "      <td>119.0</td>\n",
       "    </tr>\n",
       "    <tr>\n",
       "      <th>3</th>\n",
       "      <td>98800004</td>\n",
       "      <td>Female</td>\n",
       "      <td>Loyal Customer</td>\n",
       "      <td>44.0</td>\n",
       "      <td>Business Travel</td>\n",
       "      <td>Business</td>\n",
       "      <td>780</td>\n",
       "      <td>13.0</td>\n",
       "      <td>18.0</td>\n",
       "    </tr>\n",
       "    <tr>\n",
       "      <th>4</th>\n",
       "      <td>98800005</td>\n",
       "      <td>Female</td>\n",
       "      <td>Loyal Customer</td>\n",
       "      <td>50.0</td>\n",
       "      <td>Business Travel</td>\n",
       "      <td>Business</td>\n",
       "      <td>1981</td>\n",
       "      <td>0.0</td>\n",
       "      <td>0.0</td>\n",
       "    </tr>\n",
       "  </tbody>\n",
       "</table>\n",
       "</div>"
      ],
      "text/plain": [
       "         ID  Gender   Customer_Type   Age      Type_Travel Travel_Class  \\\n",
       "0  98800001  Female  Loyal Customer  52.0              NaN     Business   \n",
       "1  98800002    Male  Loyal Customer  48.0  Personal Travel          Eco   \n",
       "2  98800003  Female  Loyal Customer  43.0  Business Travel     Business   \n",
       "3  98800004  Female  Loyal Customer  44.0  Business Travel     Business   \n",
       "4  98800005  Female  Loyal Customer  50.0  Business Travel     Business   \n",
       "\n",
       "   Travel_Distance  Departure_Delay_in_Mins  Arrival_Delay_in_Mins  \n",
       "0              272                      0.0                    5.0  \n",
       "1             2200                      9.0                    0.0  \n",
       "2             1061                     77.0                  119.0  \n",
       "3              780                     13.0                   18.0  \n",
       "4             1981                      0.0                    0.0  "
      ]
     },
     "execution_count": 10,
     "metadata": {},
     "output_type": "execute_result"
    }
   ],
   "source": [
    "data_travel.head()"
   ]
  },
  {
   "cell_type": "code",
   "execution_count": 11,
   "metadata": {
    "colab": {
     "base_uri": "https://localhost:8080/",
     "height": 206
    },
    "executionInfo": {
     "elapsed": 21,
     "status": "ok",
     "timestamp": 1697364127075,
     "user": {
      "displayName": "Leenmel",
      "userId": "15039834560745532025"
     },
     "user_tz": -480
    },
    "id": "CqAMsqrrVJWq",
    "outputId": "eb726f71-14e9-4198-9d84-7ed7f4a85760"
   },
   "outputs": [
    {
     "data": {
      "text/html": [
       "<div>\n",
       "<style scoped>\n",
       "    .dataframe tbody tr th:only-of-type {\n",
       "        vertical-align: middle;\n",
       "    }\n",
       "\n",
       "    .dataframe tbody tr th {\n",
       "        vertical-align: top;\n",
       "    }\n",
       "\n",
       "    .dataframe thead th {\n",
       "        text-align: right;\n",
       "    }\n",
       "</style>\n",
       "<table border=\"1\" class=\"dataframe\">\n",
       "  <thead>\n",
       "    <tr style=\"text-align: right;\">\n",
       "      <th></th>\n",
       "      <th>ID</th>\n",
       "      <th>Gender</th>\n",
       "      <th>Customer_Type</th>\n",
       "      <th>Age</th>\n",
       "      <th>Type_Travel</th>\n",
       "      <th>Travel_Class</th>\n",
       "      <th>Travel_Distance</th>\n",
       "      <th>Departure_Delay_in_Mins</th>\n",
       "      <th>Arrival_Delay_in_Mins</th>\n",
       "    </tr>\n",
       "  </thead>\n",
       "  <tbody>\n",
       "    <tr>\n",
       "      <th>94374</th>\n",
       "      <td>98894375</td>\n",
       "      <td>Male</td>\n",
       "      <td>Loyal Customer</td>\n",
       "      <td>32.0</td>\n",
       "      <td>Business Travel</td>\n",
       "      <td>Business</td>\n",
       "      <td>1357</td>\n",
       "      <td>83.0</td>\n",
       "      <td>125.0</td>\n",
       "    </tr>\n",
       "    <tr>\n",
       "      <th>94375</th>\n",
       "      <td>98894376</td>\n",
       "      <td>Male</td>\n",
       "      <td>Loyal Customer</td>\n",
       "      <td>44.0</td>\n",
       "      <td>Business Travel</td>\n",
       "      <td>Business</td>\n",
       "      <td>592</td>\n",
       "      <td>5.0</td>\n",
       "      <td>11.0</td>\n",
       "    </tr>\n",
       "    <tr>\n",
       "      <th>94376</th>\n",
       "      <td>98894377</td>\n",
       "      <td>Male</td>\n",
       "      <td>NaN</td>\n",
       "      <td>63.0</td>\n",
       "      <td>Business Travel</td>\n",
       "      <td>Business</td>\n",
       "      <td>2794</td>\n",
       "      <td>0.0</td>\n",
       "      <td>0.0</td>\n",
       "    </tr>\n",
       "    <tr>\n",
       "      <th>94377</th>\n",
       "      <td>98894378</td>\n",
       "      <td>Male</td>\n",
       "      <td>Loyal Customer</td>\n",
       "      <td>16.0</td>\n",
       "      <td>Personal Travel</td>\n",
       "      <td>Eco</td>\n",
       "      <td>2744</td>\n",
       "      <td>0.0</td>\n",
       "      <td>0.0</td>\n",
       "    </tr>\n",
       "    <tr>\n",
       "      <th>94378</th>\n",
       "      <td>98894379</td>\n",
       "      <td>Male</td>\n",
       "      <td>Loyal Customer</td>\n",
       "      <td>54.0</td>\n",
       "      <td>NaN</td>\n",
       "      <td>Eco</td>\n",
       "      <td>2107</td>\n",
       "      <td>28.0</td>\n",
       "      <td>28.0</td>\n",
       "    </tr>\n",
       "  </tbody>\n",
       "</table>\n",
       "</div>"
      ],
      "text/plain": [
       "             ID Gender   Customer_Type   Age      Type_Travel Travel_Class  \\\n",
       "94374  98894375   Male  Loyal Customer  32.0  Business Travel     Business   \n",
       "94375  98894376   Male  Loyal Customer  44.0  Business Travel     Business   \n",
       "94376  98894377   Male             NaN  63.0  Business Travel     Business   \n",
       "94377  98894378   Male  Loyal Customer  16.0  Personal Travel          Eco   \n",
       "94378  98894379   Male  Loyal Customer  54.0              NaN          Eco   \n",
       "\n",
       "       Travel_Distance  Departure_Delay_in_Mins  Arrival_Delay_in_Mins  \n",
       "94374             1357                     83.0                  125.0  \n",
       "94375              592                      5.0                   11.0  \n",
       "94376             2794                      0.0                    0.0  \n",
       "94377             2744                      0.0                    0.0  \n",
       "94378             2107                     28.0                   28.0  "
      ]
     },
     "execution_count": 11,
     "metadata": {},
     "output_type": "execute_result"
    }
   ],
   "source": [
    "data_travel.tail()"
   ]
  },
  {
   "cell_type": "code",
   "execution_count": 12,
   "metadata": {
    "executionInfo": {
     "elapsed": 19,
     "status": "ok",
     "timestamp": 1697364127075,
     "user": {
      "displayName": "Leenmel",
      "userId": "15039834560745532025"
     },
     "user_tz": -480
    },
    "id": "WxOGPBx_UKXW"
   },
   "outputs": [],
   "source": [
    "#merging data\n",
    "data_join= pd.merge(data_survey, data_travel, on=\"ID\")"
   ]
  },
  {
   "cell_type": "code",
   "execution_count": 13,
   "metadata": {
    "colab": {
     "base_uri": "https://localhost:8080/",
     "height": 342
    },
    "executionInfo": {
     "elapsed": 18,
     "status": "ok",
     "timestamp": 1697364127075,
     "user": {
      "displayName": "Leenmel",
      "userId": "15039834560745532025"
     },
     "user_tz": -480
    },
    "id": "f92e9ITxUe9Q",
    "outputId": "d55455f1-87ac-43d3-9434-10089a281e4b"
   },
   "outputs": [
    {
     "data": {
      "text/html": [
       "<div>\n",
       "<style scoped>\n",
       "    .dataframe tbody tr th:only-of-type {\n",
       "        vertical-align: middle;\n",
       "    }\n",
       "\n",
       "    .dataframe tbody tr th {\n",
       "        vertical-align: top;\n",
       "    }\n",
       "\n",
       "    .dataframe thead th {\n",
       "        text-align: right;\n",
       "    }\n",
       "</style>\n",
       "<table border=\"1\" class=\"dataframe\">\n",
       "  <thead>\n",
       "    <tr style=\"text-align: right;\">\n",
       "      <th></th>\n",
       "      <th>ID</th>\n",
       "      <th>Overall_Experience</th>\n",
       "      <th>Seat_Comfort</th>\n",
       "      <th>Seat_Class</th>\n",
       "      <th>Arrival_Time_Convenient</th>\n",
       "      <th>Catering</th>\n",
       "      <th>Platform_Location</th>\n",
       "      <th>Onboard_Wifi_Service</th>\n",
       "      <th>Onboard_Entertainment</th>\n",
       "      <th>Online_Support</th>\n",
       "      <th>...</th>\n",
       "      <th>Cleanliness</th>\n",
       "      <th>Online_Boarding</th>\n",
       "      <th>Gender</th>\n",
       "      <th>Customer_Type</th>\n",
       "      <th>Age</th>\n",
       "      <th>Type_Travel</th>\n",
       "      <th>Travel_Class</th>\n",
       "      <th>Travel_Distance</th>\n",
       "      <th>Departure_Delay_in_Mins</th>\n",
       "      <th>Arrival_Delay_in_Mins</th>\n",
       "    </tr>\n",
       "  </thead>\n",
       "  <tbody>\n",
       "    <tr>\n",
       "      <th>0</th>\n",
       "      <td>98800001</td>\n",
       "      <td>0</td>\n",
       "      <td>Needs Improvement</td>\n",
       "      <td>Green Car</td>\n",
       "      <td>Excellent</td>\n",
       "      <td>Excellent</td>\n",
       "      <td>Very Convenient</td>\n",
       "      <td>Good</td>\n",
       "      <td>Needs Improvement</td>\n",
       "      <td>Acceptable</td>\n",
       "      <td>...</td>\n",
       "      <td>Needs Improvement</td>\n",
       "      <td>Poor</td>\n",
       "      <td>Female</td>\n",
       "      <td>Loyal Customer</td>\n",
       "      <td>52.0</td>\n",
       "      <td>NaN</td>\n",
       "      <td>Business</td>\n",
       "      <td>272</td>\n",
       "      <td>0.0</td>\n",
       "      <td>5.0</td>\n",
       "    </tr>\n",
       "    <tr>\n",
       "      <th>1</th>\n",
       "      <td>98800002</td>\n",
       "      <td>0</td>\n",
       "      <td>Poor</td>\n",
       "      <td>Ordinary</td>\n",
       "      <td>Excellent</td>\n",
       "      <td>Poor</td>\n",
       "      <td>Needs Improvement</td>\n",
       "      <td>Good</td>\n",
       "      <td>Poor</td>\n",
       "      <td>Good</td>\n",
       "      <td>...</td>\n",
       "      <td>Good</td>\n",
       "      <td>Good</td>\n",
       "      <td>Male</td>\n",
       "      <td>Loyal Customer</td>\n",
       "      <td>48.0</td>\n",
       "      <td>Personal Travel</td>\n",
       "      <td>Eco</td>\n",
       "      <td>2200</td>\n",
       "      <td>9.0</td>\n",
       "      <td>0.0</td>\n",
       "    </tr>\n",
       "    <tr>\n",
       "      <th>2</th>\n",
       "      <td>98800003</td>\n",
       "      <td>1</td>\n",
       "      <td>Needs Improvement</td>\n",
       "      <td>Green Car</td>\n",
       "      <td>Needs Improvement</td>\n",
       "      <td>Needs Improvement</td>\n",
       "      <td>Needs Improvement</td>\n",
       "      <td>Needs Improvement</td>\n",
       "      <td>Good</td>\n",
       "      <td>Excellent</td>\n",
       "      <td>...</td>\n",
       "      <td>Excellent</td>\n",
       "      <td>Excellent</td>\n",
       "      <td>Female</td>\n",
       "      <td>Loyal Customer</td>\n",
       "      <td>43.0</td>\n",
       "      <td>Business Travel</td>\n",
       "      <td>Business</td>\n",
       "      <td>1061</td>\n",
       "      <td>77.0</td>\n",
       "      <td>119.0</td>\n",
       "    </tr>\n",
       "    <tr>\n",
       "      <th>3</th>\n",
       "      <td>98800004</td>\n",
       "      <td>0</td>\n",
       "      <td>Acceptable</td>\n",
       "      <td>Ordinary</td>\n",
       "      <td>Needs Improvement</td>\n",
       "      <td>NaN</td>\n",
       "      <td>Needs Improvement</td>\n",
       "      <td>Acceptable</td>\n",
       "      <td>Needs Improvement</td>\n",
       "      <td>Acceptable</td>\n",
       "      <td>...</td>\n",
       "      <td>Acceptable</td>\n",
       "      <td>Acceptable</td>\n",
       "      <td>Female</td>\n",
       "      <td>Loyal Customer</td>\n",
       "      <td>44.0</td>\n",
       "      <td>Business Travel</td>\n",
       "      <td>Business</td>\n",
       "      <td>780</td>\n",
       "      <td>13.0</td>\n",
       "      <td>18.0</td>\n",
       "    </tr>\n",
       "    <tr>\n",
       "      <th>4</th>\n",
       "      <td>98800005</td>\n",
       "      <td>1</td>\n",
       "      <td>Acceptable</td>\n",
       "      <td>Ordinary</td>\n",
       "      <td>Acceptable</td>\n",
       "      <td>Acceptable</td>\n",
       "      <td>Manageable</td>\n",
       "      <td>Needs Improvement</td>\n",
       "      <td>Good</td>\n",
       "      <td>Excellent</td>\n",
       "      <td>...</td>\n",
       "      <td>Good</td>\n",
       "      <td>Good</td>\n",
       "      <td>Female</td>\n",
       "      <td>Loyal Customer</td>\n",
       "      <td>50.0</td>\n",
       "      <td>Business Travel</td>\n",
       "      <td>Business</td>\n",
       "      <td>1981</td>\n",
       "      <td>0.0</td>\n",
       "      <td>0.0</td>\n",
       "    </tr>\n",
       "  </tbody>\n",
       "</table>\n",
       "<p>5 rows × 25 columns</p>\n",
       "</div>"
      ],
      "text/plain": [
       "         ID  Overall_Experience       Seat_Comfort Seat_Class  \\\n",
       "0  98800001                   0  Needs Improvement  Green Car   \n",
       "1  98800002                   0               Poor   Ordinary   \n",
       "2  98800003                   1  Needs Improvement  Green Car   \n",
       "3  98800004                   0         Acceptable   Ordinary   \n",
       "4  98800005                   1         Acceptable   Ordinary   \n",
       "\n",
       "  Arrival_Time_Convenient           Catering  Platform_Location  \\\n",
       "0               Excellent          Excellent    Very Convenient   \n",
       "1               Excellent               Poor  Needs Improvement   \n",
       "2       Needs Improvement  Needs Improvement  Needs Improvement   \n",
       "3       Needs Improvement                NaN  Needs Improvement   \n",
       "4              Acceptable         Acceptable         Manageable   \n",
       "\n",
       "  Onboard_Wifi_Service Onboard_Entertainment Online_Support  ...  \\\n",
       "0                 Good     Needs Improvement     Acceptable  ...   \n",
       "1                 Good                  Poor           Good  ...   \n",
       "2    Needs Improvement                  Good      Excellent  ...   \n",
       "3           Acceptable     Needs Improvement     Acceptable  ...   \n",
       "4    Needs Improvement                  Good      Excellent  ...   \n",
       "\n",
       "         Cleanliness Online_Boarding  Gender   Customer_Type   Age  \\\n",
       "0  Needs Improvement            Poor  Female  Loyal Customer  52.0   \n",
       "1               Good            Good    Male  Loyal Customer  48.0   \n",
       "2          Excellent       Excellent  Female  Loyal Customer  43.0   \n",
       "3         Acceptable      Acceptable  Female  Loyal Customer  44.0   \n",
       "4               Good            Good  Female  Loyal Customer  50.0   \n",
       "\n",
       "       Type_Travel Travel_Class Travel_Distance Departure_Delay_in_Mins  \\\n",
       "0              NaN     Business             272                     0.0   \n",
       "1  Personal Travel          Eco            2200                     9.0   \n",
       "2  Business Travel     Business            1061                    77.0   \n",
       "3  Business Travel     Business             780                    13.0   \n",
       "4  Business Travel     Business            1981                     0.0   \n",
       "\n",
       "   Arrival_Delay_in_Mins  \n",
       "0                    5.0  \n",
       "1                    0.0  \n",
       "2                  119.0  \n",
       "3                   18.0  \n",
       "4                    0.0  \n",
       "\n",
       "[5 rows x 25 columns]"
      ]
     },
     "execution_count": 13,
     "metadata": {},
     "output_type": "execute_result"
    }
   ],
   "source": [
    "data_join.head()"
   ]
  },
  {
   "cell_type": "code",
   "execution_count": 14,
   "metadata": {
    "executionInfo": {
     "elapsed": 17,
     "status": "ok",
     "timestamp": 1697364127076,
     "user": {
      "displayName": "Leenmel",
      "userId": "15039834560745532025"
     },
     "user_tz": -480
    },
    "id": "gHByNVA8U5mj"
   },
   "outputs": [],
   "source": [
    "# copy data to another variable\n",
    "df=data_join.copy()"
   ]
  },
  {
   "cell_type": "code",
   "execution_count": 15,
   "metadata": {
    "colab": {
     "base_uri": "https://localhost:8080/",
     "height": 342
    },
    "executionInfo": {
     "elapsed": 16,
     "status": "ok",
     "timestamp": 1697364127076,
     "user": {
      "displayName": "Leenmel",
      "userId": "15039834560745532025"
     },
     "user_tz": -480
    },
    "id": "hEt2q3xyVDBD",
    "outputId": "e0b149ce-6160-4bb8-a717-0003bb697501"
   },
   "outputs": [
    {
     "data": {
      "text/html": [
       "<div>\n",
       "<style scoped>\n",
       "    .dataframe tbody tr th:only-of-type {\n",
       "        vertical-align: middle;\n",
       "    }\n",
       "\n",
       "    .dataframe tbody tr th {\n",
       "        vertical-align: top;\n",
       "    }\n",
       "\n",
       "    .dataframe thead th {\n",
       "        text-align: right;\n",
       "    }\n",
       "</style>\n",
       "<table border=\"1\" class=\"dataframe\">\n",
       "  <thead>\n",
       "    <tr style=\"text-align: right;\">\n",
       "      <th></th>\n",
       "      <th>ID</th>\n",
       "      <th>Overall_Experience</th>\n",
       "      <th>Seat_Comfort</th>\n",
       "      <th>Seat_Class</th>\n",
       "      <th>Arrival_Time_Convenient</th>\n",
       "      <th>Catering</th>\n",
       "      <th>Platform_Location</th>\n",
       "      <th>Onboard_Wifi_Service</th>\n",
       "      <th>Onboard_Entertainment</th>\n",
       "      <th>Online_Support</th>\n",
       "      <th>...</th>\n",
       "      <th>Cleanliness</th>\n",
       "      <th>Online_Boarding</th>\n",
       "      <th>Gender</th>\n",
       "      <th>Customer_Type</th>\n",
       "      <th>Age</th>\n",
       "      <th>Type_Travel</th>\n",
       "      <th>Travel_Class</th>\n",
       "      <th>Travel_Distance</th>\n",
       "      <th>Departure_Delay_in_Mins</th>\n",
       "      <th>Arrival_Delay_in_Mins</th>\n",
       "    </tr>\n",
       "  </thead>\n",
       "  <tbody>\n",
       "    <tr>\n",
       "      <th>0</th>\n",
       "      <td>98800001</td>\n",
       "      <td>0</td>\n",
       "      <td>Needs Improvement</td>\n",
       "      <td>Green Car</td>\n",
       "      <td>Excellent</td>\n",
       "      <td>Excellent</td>\n",
       "      <td>Very Convenient</td>\n",
       "      <td>Good</td>\n",
       "      <td>Needs Improvement</td>\n",
       "      <td>Acceptable</td>\n",
       "      <td>...</td>\n",
       "      <td>Needs Improvement</td>\n",
       "      <td>Poor</td>\n",
       "      <td>Female</td>\n",
       "      <td>Loyal Customer</td>\n",
       "      <td>52.0</td>\n",
       "      <td>NaN</td>\n",
       "      <td>Business</td>\n",
       "      <td>272</td>\n",
       "      <td>0.0</td>\n",
       "      <td>5.0</td>\n",
       "    </tr>\n",
       "    <tr>\n",
       "      <th>1</th>\n",
       "      <td>98800002</td>\n",
       "      <td>0</td>\n",
       "      <td>Poor</td>\n",
       "      <td>Ordinary</td>\n",
       "      <td>Excellent</td>\n",
       "      <td>Poor</td>\n",
       "      <td>Needs Improvement</td>\n",
       "      <td>Good</td>\n",
       "      <td>Poor</td>\n",
       "      <td>Good</td>\n",
       "      <td>...</td>\n",
       "      <td>Good</td>\n",
       "      <td>Good</td>\n",
       "      <td>Male</td>\n",
       "      <td>Loyal Customer</td>\n",
       "      <td>48.0</td>\n",
       "      <td>Personal Travel</td>\n",
       "      <td>Eco</td>\n",
       "      <td>2200</td>\n",
       "      <td>9.0</td>\n",
       "      <td>0.0</td>\n",
       "    </tr>\n",
       "    <tr>\n",
       "      <th>2</th>\n",
       "      <td>98800003</td>\n",
       "      <td>1</td>\n",
       "      <td>Needs Improvement</td>\n",
       "      <td>Green Car</td>\n",
       "      <td>Needs Improvement</td>\n",
       "      <td>Needs Improvement</td>\n",
       "      <td>Needs Improvement</td>\n",
       "      <td>Needs Improvement</td>\n",
       "      <td>Good</td>\n",
       "      <td>Excellent</td>\n",
       "      <td>...</td>\n",
       "      <td>Excellent</td>\n",
       "      <td>Excellent</td>\n",
       "      <td>Female</td>\n",
       "      <td>Loyal Customer</td>\n",
       "      <td>43.0</td>\n",
       "      <td>Business Travel</td>\n",
       "      <td>Business</td>\n",
       "      <td>1061</td>\n",
       "      <td>77.0</td>\n",
       "      <td>119.0</td>\n",
       "    </tr>\n",
       "    <tr>\n",
       "      <th>3</th>\n",
       "      <td>98800004</td>\n",
       "      <td>0</td>\n",
       "      <td>Acceptable</td>\n",
       "      <td>Ordinary</td>\n",
       "      <td>Needs Improvement</td>\n",
       "      <td>NaN</td>\n",
       "      <td>Needs Improvement</td>\n",
       "      <td>Acceptable</td>\n",
       "      <td>Needs Improvement</td>\n",
       "      <td>Acceptable</td>\n",
       "      <td>...</td>\n",
       "      <td>Acceptable</td>\n",
       "      <td>Acceptable</td>\n",
       "      <td>Female</td>\n",
       "      <td>Loyal Customer</td>\n",
       "      <td>44.0</td>\n",
       "      <td>Business Travel</td>\n",
       "      <td>Business</td>\n",
       "      <td>780</td>\n",
       "      <td>13.0</td>\n",
       "      <td>18.0</td>\n",
       "    </tr>\n",
       "    <tr>\n",
       "      <th>4</th>\n",
       "      <td>98800005</td>\n",
       "      <td>1</td>\n",
       "      <td>Acceptable</td>\n",
       "      <td>Ordinary</td>\n",
       "      <td>Acceptable</td>\n",
       "      <td>Acceptable</td>\n",
       "      <td>Manageable</td>\n",
       "      <td>Needs Improvement</td>\n",
       "      <td>Good</td>\n",
       "      <td>Excellent</td>\n",
       "      <td>...</td>\n",
       "      <td>Good</td>\n",
       "      <td>Good</td>\n",
       "      <td>Female</td>\n",
       "      <td>Loyal Customer</td>\n",
       "      <td>50.0</td>\n",
       "      <td>Business Travel</td>\n",
       "      <td>Business</td>\n",
       "      <td>1981</td>\n",
       "      <td>0.0</td>\n",
       "      <td>0.0</td>\n",
       "    </tr>\n",
       "  </tbody>\n",
       "</table>\n",
       "<p>5 rows × 25 columns</p>\n",
       "</div>"
      ],
      "text/plain": [
       "         ID  Overall_Experience       Seat_Comfort Seat_Class  \\\n",
       "0  98800001                   0  Needs Improvement  Green Car   \n",
       "1  98800002                   0               Poor   Ordinary   \n",
       "2  98800003                   1  Needs Improvement  Green Car   \n",
       "3  98800004                   0         Acceptable   Ordinary   \n",
       "4  98800005                   1         Acceptable   Ordinary   \n",
       "\n",
       "  Arrival_Time_Convenient           Catering  Platform_Location  \\\n",
       "0               Excellent          Excellent    Very Convenient   \n",
       "1               Excellent               Poor  Needs Improvement   \n",
       "2       Needs Improvement  Needs Improvement  Needs Improvement   \n",
       "3       Needs Improvement                NaN  Needs Improvement   \n",
       "4              Acceptable         Acceptable         Manageable   \n",
       "\n",
       "  Onboard_Wifi_Service Onboard_Entertainment Online_Support  ...  \\\n",
       "0                 Good     Needs Improvement     Acceptable  ...   \n",
       "1                 Good                  Poor           Good  ...   \n",
       "2    Needs Improvement                  Good      Excellent  ...   \n",
       "3           Acceptable     Needs Improvement     Acceptable  ...   \n",
       "4    Needs Improvement                  Good      Excellent  ...   \n",
       "\n",
       "         Cleanliness Online_Boarding  Gender   Customer_Type   Age  \\\n",
       "0  Needs Improvement            Poor  Female  Loyal Customer  52.0   \n",
       "1               Good            Good    Male  Loyal Customer  48.0   \n",
       "2          Excellent       Excellent  Female  Loyal Customer  43.0   \n",
       "3         Acceptable      Acceptable  Female  Loyal Customer  44.0   \n",
       "4               Good            Good  Female  Loyal Customer  50.0   \n",
       "\n",
       "       Type_Travel Travel_Class Travel_Distance Departure_Delay_in_Mins  \\\n",
       "0              NaN     Business             272                     0.0   \n",
       "1  Personal Travel          Eco            2200                     9.0   \n",
       "2  Business Travel     Business            1061                    77.0   \n",
       "3  Business Travel     Business             780                    13.0   \n",
       "4  Business Travel     Business            1981                     0.0   \n",
       "\n",
       "   Arrival_Delay_in_Mins  \n",
       "0                    5.0  \n",
       "1                    0.0  \n",
       "2                  119.0  \n",
       "3                   18.0  \n",
       "4                    0.0  \n",
       "\n",
       "[5 rows x 25 columns]"
      ]
     },
     "execution_count": 15,
     "metadata": {},
     "output_type": "execute_result"
    }
   ],
   "source": [
    "df.head()"
   ]
  },
  {
   "cell_type": "code",
   "execution_count": 16,
   "metadata": {
    "colab": {
     "base_uri": "https://localhost:8080/",
     "height": 325
    },
    "executionInfo": {
     "elapsed": 15,
     "status": "ok",
     "timestamp": 1697364127076,
     "user": {
      "displayName": "Leenmel",
      "userId": "15039834560745532025"
     },
     "user_tz": -480
    },
    "id": "KwtS0lRYVFNp",
    "outputId": "c51a8546-b6cb-48d4-d116-3f34078eae0d"
   },
   "outputs": [
    {
     "data": {
      "text/html": [
       "<div>\n",
       "<style scoped>\n",
       "    .dataframe tbody tr th:only-of-type {\n",
       "        vertical-align: middle;\n",
       "    }\n",
       "\n",
       "    .dataframe tbody tr th {\n",
       "        vertical-align: top;\n",
       "    }\n",
       "\n",
       "    .dataframe thead th {\n",
       "        text-align: right;\n",
       "    }\n",
       "</style>\n",
       "<table border=\"1\" class=\"dataframe\">\n",
       "  <thead>\n",
       "    <tr style=\"text-align: right;\">\n",
       "      <th></th>\n",
       "      <th>ID</th>\n",
       "      <th>Overall_Experience</th>\n",
       "      <th>Seat_Comfort</th>\n",
       "      <th>Seat_Class</th>\n",
       "      <th>Arrival_Time_Convenient</th>\n",
       "      <th>Catering</th>\n",
       "      <th>Platform_Location</th>\n",
       "      <th>Onboard_Wifi_Service</th>\n",
       "      <th>Onboard_Entertainment</th>\n",
       "      <th>Online_Support</th>\n",
       "      <th>...</th>\n",
       "      <th>Cleanliness</th>\n",
       "      <th>Online_Boarding</th>\n",
       "      <th>Gender</th>\n",
       "      <th>Customer_Type</th>\n",
       "      <th>Age</th>\n",
       "      <th>Type_Travel</th>\n",
       "      <th>Travel_Class</th>\n",
       "      <th>Travel_Distance</th>\n",
       "      <th>Departure_Delay_in_Mins</th>\n",
       "      <th>Arrival_Delay_in_Mins</th>\n",
       "    </tr>\n",
       "  </thead>\n",
       "  <tbody>\n",
       "    <tr>\n",
       "      <th>94374</th>\n",
       "      <td>98894375</td>\n",
       "      <td>0</td>\n",
       "      <td>Poor</td>\n",
       "      <td>Ordinary</td>\n",
       "      <td>Good</td>\n",
       "      <td>Good</td>\n",
       "      <td>Convenient</td>\n",
       "      <td>Poor</td>\n",
       "      <td>Poor</td>\n",
       "      <td>Poor</td>\n",
       "      <td>...</td>\n",
       "      <td>Good</td>\n",
       "      <td>Poor</td>\n",
       "      <td>Male</td>\n",
       "      <td>Loyal Customer</td>\n",
       "      <td>32.0</td>\n",
       "      <td>Business Travel</td>\n",
       "      <td>Business</td>\n",
       "      <td>1357</td>\n",
       "      <td>83.0</td>\n",
       "      <td>125.0</td>\n",
       "    </tr>\n",
       "    <tr>\n",
       "      <th>94375</th>\n",
       "      <td>98894376</td>\n",
       "      <td>1</td>\n",
       "      <td>Good</td>\n",
       "      <td>Ordinary</td>\n",
       "      <td>Good</td>\n",
       "      <td>Good</td>\n",
       "      <td>Convenient</td>\n",
       "      <td>Needs Improvement</td>\n",
       "      <td>Excellent</td>\n",
       "      <td>Excellent</td>\n",
       "      <td>...</td>\n",
       "      <td>Acceptable</td>\n",
       "      <td>Good</td>\n",
       "      <td>Male</td>\n",
       "      <td>Loyal Customer</td>\n",
       "      <td>44.0</td>\n",
       "      <td>Business Travel</td>\n",
       "      <td>Business</td>\n",
       "      <td>592</td>\n",
       "      <td>5.0</td>\n",
       "      <td>11.0</td>\n",
       "    </tr>\n",
       "    <tr>\n",
       "      <th>94376</th>\n",
       "      <td>98894377</td>\n",
       "      <td>1</td>\n",
       "      <td>Needs Improvement</td>\n",
       "      <td>Green Car</td>\n",
       "      <td>Needs Improvement</td>\n",
       "      <td>Needs Improvement</td>\n",
       "      <td>Needs Improvement</td>\n",
       "      <td>Good</td>\n",
       "      <td>Excellent</td>\n",
       "      <td>Good</td>\n",
       "      <td>...</td>\n",
       "      <td>Good</td>\n",
       "      <td>Acceptable</td>\n",
       "      <td>Male</td>\n",
       "      <td>NaN</td>\n",
       "      <td>63.0</td>\n",
       "      <td>Business Travel</td>\n",
       "      <td>Business</td>\n",
       "      <td>2794</td>\n",
       "      <td>0.0</td>\n",
       "      <td>0.0</td>\n",
       "    </tr>\n",
       "    <tr>\n",
       "      <th>94377</th>\n",
       "      <td>98894378</td>\n",
       "      <td>0</td>\n",
       "      <td>Needs Improvement</td>\n",
       "      <td>Ordinary</td>\n",
       "      <td>NaN</td>\n",
       "      <td>Needs Improvement</td>\n",
       "      <td>Convenient</td>\n",
       "      <td>Good</td>\n",
       "      <td>Needs Improvement</td>\n",
       "      <td>Good</td>\n",
       "      <td>...</td>\n",
       "      <td>Excellent</td>\n",
       "      <td>Good</td>\n",
       "      <td>Male</td>\n",
       "      <td>Loyal Customer</td>\n",
       "      <td>16.0</td>\n",
       "      <td>Personal Travel</td>\n",
       "      <td>Eco</td>\n",
       "      <td>2744</td>\n",
       "      <td>0.0</td>\n",
       "      <td>0.0</td>\n",
       "    </tr>\n",
       "    <tr>\n",
       "      <th>94378</th>\n",
       "      <td>98894379</td>\n",
       "      <td>0</td>\n",
       "      <td>Acceptable</td>\n",
       "      <td>Ordinary</td>\n",
       "      <td>Poor</td>\n",
       "      <td>Acceptable</td>\n",
       "      <td>Manageable</td>\n",
       "      <td>Acceptable</td>\n",
       "      <td>Acceptable</td>\n",
       "      <td>Acceptable</td>\n",
       "      <td>...</td>\n",
       "      <td>Good</td>\n",
       "      <td>Acceptable</td>\n",
       "      <td>Male</td>\n",
       "      <td>Loyal Customer</td>\n",
       "      <td>54.0</td>\n",
       "      <td>NaN</td>\n",
       "      <td>Eco</td>\n",
       "      <td>2107</td>\n",
       "      <td>28.0</td>\n",
       "      <td>28.0</td>\n",
       "    </tr>\n",
       "  </tbody>\n",
       "</table>\n",
       "<p>5 rows × 25 columns</p>\n",
       "</div>"
      ],
      "text/plain": [
       "             ID  Overall_Experience       Seat_Comfort Seat_Class  \\\n",
       "94374  98894375                   0               Poor   Ordinary   \n",
       "94375  98894376                   1               Good   Ordinary   \n",
       "94376  98894377                   1  Needs Improvement  Green Car   \n",
       "94377  98894378                   0  Needs Improvement   Ordinary   \n",
       "94378  98894379                   0         Acceptable   Ordinary   \n",
       "\n",
       "      Arrival_Time_Convenient           Catering  Platform_Location  \\\n",
       "94374                    Good               Good         Convenient   \n",
       "94375                    Good               Good         Convenient   \n",
       "94376       Needs Improvement  Needs Improvement  Needs Improvement   \n",
       "94377                     NaN  Needs Improvement         Convenient   \n",
       "94378                    Poor         Acceptable         Manageable   \n",
       "\n",
       "      Onboard_Wifi_Service Onboard_Entertainment Online_Support  ...  \\\n",
       "94374                 Poor                  Poor           Poor  ...   \n",
       "94375    Needs Improvement             Excellent      Excellent  ...   \n",
       "94376                 Good             Excellent           Good  ...   \n",
       "94377                 Good     Needs Improvement           Good  ...   \n",
       "94378           Acceptable            Acceptable     Acceptable  ...   \n",
       "\n",
       "      Cleanliness Online_Boarding Gender   Customer_Type   Age  \\\n",
       "94374        Good            Poor   Male  Loyal Customer  32.0   \n",
       "94375  Acceptable            Good   Male  Loyal Customer  44.0   \n",
       "94376        Good      Acceptable   Male             NaN  63.0   \n",
       "94377   Excellent            Good   Male  Loyal Customer  16.0   \n",
       "94378        Good      Acceptable   Male  Loyal Customer  54.0   \n",
       "\n",
       "           Type_Travel Travel_Class Travel_Distance Departure_Delay_in_Mins  \\\n",
       "94374  Business Travel     Business            1357                    83.0   \n",
       "94375  Business Travel     Business             592                     5.0   \n",
       "94376  Business Travel     Business            2794                     0.0   \n",
       "94377  Personal Travel          Eco            2744                     0.0   \n",
       "94378              NaN          Eco            2107                    28.0   \n",
       "\n",
       "       Arrival_Delay_in_Mins  \n",
       "94374                  125.0  \n",
       "94375                   11.0  \n",
       "94376                    0.0  \n",
       "94377                    0.0  \n",
       "94378                   28.0  \n",
       "\n",
       "[5 rows x 25 columns]"
      ]
     },
     "execution_count": 16,
     "metadata": {},
     "output_type": "execute_result"
    }
   ],
   "source": [
    "df.tail()"
   ]
  },
  {
   "cell_type": "code",
   "execution_count": 17,
   "metadata": {
    "colab": {
     "base_uri": "https://localhost:8080/"
    },
    "executionInfo": {
     "elapsed": 13,
     "status": "ok",
     "timestamp": 1697364127076,
     "user": {
      "displayName": "Leenmel",
      "userId": "15039834560745532025"
     },
     "user_tz": -480
    },
    "id": "wDdp2g4kVNhR",
    "outputId": "bd188e9b-ce9d-4796-d92a-5ecdf218b82b"
   },
   "outputs": [
    {
     "data": {
      "text/plain": [
       "(94379, 25)"
      ]
     },
     "execution_count": 17,
     "metadata": {},
     "output_type": "execute_result"
    }
   ],
   "source": [
    "#check shape\n",
    "df.shape"
   ]
  },
  {
   "cell_type": "code",
   "execution_count": 18,
   "metadata": {
    "colab": {
     "base_uri": "https://localhost:8080/"
    },
    "executionInfo": {
     "elapsed": 354,
     "status": "ok",
     "timestamp": 1697364127418,
     "user": {
      "displayName": "Leenmel",
      "userId": "15039834560745532025"
     },
     "user_tz": -480
    },
    "id": "95gtzHPZVT-s",
    "outputId": "c3396d83-92d1-497f-8db0-7ef81131d04d"
   },
   "outputs": [
    {
     "name": "stdout",
     "output_type": "stream",
     "text": [
      "<class 'pandas.core.frame.DataFrame'>\n",
      "RangeIndex: 94379 entries, 0 to 94378\n",
      "Data columns (total 25 columns):\n",
      " #   Column                   Non-Null Count  Dtype  \n",
      "---  ------                   --------------  -----  \n",
      " 0   ID                       94379 non-null  int64  \n",
      " 1   Overall_Experience       94379 non-null  int64  \n",
      " 2   Seat_Comfort             94318 non-null  object \n",
      " 3   Seat_Class               94379 non-null  object \n",
      " 4   Arrival_Time_Convenient  85449 non-null  object \n",
      " 5   Catering                 85638 non-null  object \n",
      " 6   Platform_Location        94349 non-null  object \n",
      " 7   Onboard_Wifi_Service     94349 non-null  object \n",
      " 8   Onboard_Entertainment    94361 non-null  object \n",
      " 9   Online_Support           94288 non-null  object \n",
      " 10  Ease_of_Online_Booking   94306 non-null  object \n",
      " 11  Onboard_Service          86778 non-null  object \n",
      " 12  Legroom                  94289 non-null  object \n",
      " 13  Baggage_Handling         94237 non-null  object \n",
      " 14  CheckIn_Service          94302 non-null  object \n",
      " 15  Cleanliness              94373 non-null  object \n",
      " 16  Online_Boarding          94373 non-null  object \n",
      " 17  Gender                   94302 non-null  object \n",
      " 18  Customer_Type            85428 non-null  object \n",
      " 19  Age                      94346 non-null  float64\n",
      " 20  Type_Travel              85153 non-null  object \n",
      " 21  Travel_Class             94379 non-null  object \n",
      " 22  Travel_Distance          94379 non-null  int64  \n",
      " 23  Departure_Delay_in_Mins  94322 non-null  float64\n",
      " 24  Arrival_Delay_in_Mins    94022 non-null  float64\n",
      "dtypes: float64(3), int64(3), object(19)\n",
      "memory usage: 18.0+ MB\n"
     ]
    }
   ],
   "source": [
    "df.info()"
   ]
  },
  {
   "cell_type": "code",
   "execution_count": 19,
   "metadata": {
    "colab": {
     "base_uri": "https://localhost:8080/"
    },
    "executionInfo": {
     "elapsed": 641,
     "status": "ok",
     "timestamp": 1697364128055,
     "user": {
      "displayName": "Leenmel",
      "userId": "15039834560745532025"
     },
     "user_tz": -480
    },
    "id": "0NhmsHoeVac-",
    "outputId": "724a7201-02ce-4ddb-a3f1-094d62c906a3"
   },
   "outputs": [
    {
     "data": {
      "text/plain": [
       "ID                            0\n",
       "Overall_Experience            0\n",
       "Seat_Comfort                 61\n",
       "Seat_Class                    0\n",
       "Arrival_Time_Convenient    8930\n",
       "Catering                   8741\n",
       "Platform_Location            30\n",
       "Onboard_Wifi_Service         30\n",
       "Onboard_Entertainment        18\n",
       "Online_Support               91\n",
       "Ease_of_Online_Booking       73\n",
       "Onboard_Service            7601\n",
       "Legroom                      90\n",
       "Baggage_Handling            142\n",
       "CheckIn_Service              77\n",
       "Cleanliness                   6\n",
       "Online_Boarding               6\n",
       "Gender                       77\n",
       "Customer_Type              8951\n",
       "Age                          33\n",
       "Type_Travel                9226\n",
       "Travel_Class                  0\n",
       "Travel_Distance               0\n",
       "Departure_Delay_in_Mins      57\n",
       "Arrival_Delay_in_Mins       357\n",
       "dtype: int64"
      ]
     },
     "execution_count": 19,
     "metadata": {},
     "output_type": "execute_result"
    }
   ],
   "source": [
    "#missing values\n",
    "df.isnull().sum()"
   ]
  },
  {
   "cell_type": "code",
   "execution_count": 20,
   "metadata": {
    "colab": {
     "base_uri": "https://localhost:8080/"
    },
    "executionInfo": {
     "elapsed": 533,
     "status": "ok",
     "timestamp": 1697364128582,
     "user": {
      "displayName": "Leenmel",
      "userId": "15039834560745532025"
     },
     "user_tz": -480
    },
    "id": "8QsY1KChXJVa",
    "outputId": "a1780a4c-7053-4629-a606-9340ad124799"
   },
   "outputs": [
    {
     "data": {
      "text/plain": [
       "ID                         0.00\n",
       "Overall_Experience         0.00\n",
       "Seat_Comfort               0.06\n",
       "Seat_Class                 0.00\n",
       "Arrival_Time_Convenient    9.46\n",
       "Catering                   9.26\n",
       "Platform_Location          0.03\n",
       "Onboard_Wifi_Service       0.03\n",
       "Onboard_Entertainment      0.02\n",
       "Online_Support             0.10\n",
       "Ease_of_Online_Booking     0.08\n",
       "Onboard_Service            8.05\n",
       "Legroom                    0.10\n",
       "Baggage_Handling           0.15\n",
       "CheckIn_Service            0.08\n",
       "Cleanliness                0.01\n",
       "Online_Boarding            0.01\n",
       "Gender                     0.08\n",
       "Customer_Type              9.48\n",
       "Age                        0.03\n",
       "Type_Travel                9.78\n",
       "Travel_Class               0.00\n",
       "Travel_Distance            0.00\n",
       "Departure_Delay_in_Mins    0.06\n",
       "Arrival_Delay_in_Mins      0.38\n",
       "dtype: float64"
      ]
     },
     "execution_count": 20,
     "metadata": {},
     "output_type": "execute_result"
    }
   ],
   "source": [
    "# Let's check for missing values in the data\n",
    "round(df.isnull().sum() / df.isnull().count() * 100, 2)"
   ]
  },
  {
   "cell_type": "code",
   "execution_count": 21,
   "metadata": {
    "colab": {
     "base_uri": "https://localhost:8080/"
    },
    "executionInfo": {
     "elapsed": 5,
     "status": "ok",
     "timestamp": 1697364128582,
     "user": {
      "displayName": "Leenmel",
      "userId": "15039834560745532025"
     },
     "user_tz": -480
    },
    "id": "4pDjA8bOVikJ",
    "outputId": "1a536b29-1a4c-419f-97cf-f2b8564b7729"
   },
   "outputs": [
    {
     "data": {
      "text/plain": [
       "0"
      ]
     },
     "execution_count": 21,
     "metadata": {},
     "output_type": "execute_result"
    }
   ],
   "source": [
    "#check duplicates\n",
    "df.duplicated().sum()"
   ]
  },
  {
   "cell_type": "code",
   "execution_count": 22,
   "metadata": {
    "colab": {
     "base_uri": "https://localhost:8080/"
    },
    "executionInfo": {
     "elapsed": 456,
     "status": "ok",
     "timestamp": 1697364129034,
     "user": {
      "displayName": "Leenmel",
      "userId": "15039834560745532025"
     },
     "user_tz": -480
    },
    "id": "fgnAN8SEVqS4",
    "outputId": "381fb080-9894-4952-9410-d9c23d2237c5"
   },
   "outputs": [
    {
     "data": {
      "text/plain": [
       "ID                         94379\n",
       "Overall_Experience             2\n",
       "Seat_Comfort                   6\n",
       "Seat_Class                     2\n",
       "Arrival_Time_Convenient        6\n",
       "Catering                       6\n",
       "Platform_Location              6\n",
       "Onboard_Wifi_Service           6\n",
       "Onboard_Entertainment          6\n",
       "Online_Support                 6\n",
       "Ease_of_Online_Booking         6\n",
       "Onboard_Service                6\n",
       "Legroom                        6\n",
       "Baggage_Handling               5\n",
       "CheckIn_Service                6\n",
       "Cleanliness                    6\n",
       "Online_Boarding                6\n",
       "Gender                         2\n",
       "Customer_Type                  2\n",
       "Age                           75\n",
       "Type_Travel                    2\n",
       "Travel_Class                   2\n",
       "Travel_Distance             5210\n",
       "Departure_Delay_in_Mins      437\n",
       "Arrival_Delay_in_Mins        434\n",
       "dtype: int64"
      ]
     },
     "execution_count": 22,
     "metadata": {},
     "output_type": "execute_result"
    }
   ],
   "source": [
    "df.nunique()"
   ]
  },
  {
   "cell_type": "code",
   "execution_count": 23,
   "metadata": {
    "executionInfo": {
     "elapsed": 10,
     "status": "ok",
     "timestamp": 1697364129034,
     "user": {
      "displayName": "Leenmel",
      "userId": "15039834560745532025"
     },
     "user_tz": -480
    },
    "id": "e3oJEB8KWDqk"
   },
   "outputs": [],
   "source": [
    "#Drop ID column\n",
    "df.drop(columns='ID', inplace=True)"
   ]
  },
  {
   "cell_type": "code",
   "execution_count": 24,
   "metadata": {
    "colab": {
     "base_uri": "https://localhost:8080/",
     "height": 342
    },
    "executionInfo": {
     "elapsed": 10,
     "status": "ok",
     "timestamp": 1697364129035,
     "user": {
      "displayName": "Leenmel",
      "userId": "15039834560745532025"
     },
     "user_tz": -480
    },
    "id": "rZlSWXpCWOi0",
    "outputId": "1616e7d4-5126-4b77-e037-9a993b9e0e58"
   },
   "outputs": [
    {
     "data": {
      "text/html": [
       "<div>\n",
       "<style scoped>\n",
       "    .dataframe tbody tr th:only-of-type {\n",
       "        vertical-align: middle;\n",
       "    }\n",
       "\n",
       "    .dataframe tbody tr th {\n",
       "        vertical-align: top;\n",
       "    }\n",
       "\n",
       "    .dataframe thead th {\n",
       "        text-align: right;\n",
       "    }\n",
       "</style>\n",
       "<table border=\"1\" class=\"dataframe\">\n",
       "  <thead>\n",
       "    <tr style=\"text-align: right;\">\n",
       "      <th></th>\n",
       "      <th>Overall_Experience</th>\n",
       "      <th>Seat_Comfort</th>\n",
       "      <th>Seat_Class</th>\n",
       "      <th>Arrival_Time_Convenient</th>\n",
       "      <th>Catering</th>\n",
       "      <th>Platform_Location</th>\n",
       "      <th>Onboard_Wifi_Service</th>\n",
       "      <th>Onboard_Entertainment</th>\n",
       "      <th>Online_Support</th>\n",
       "      <th>Ease_of_Online_Booking</th>\n",
       "      <th>...</th>\n",
       "      <th>Cleanliness</th>\n",
       "      <th>Online_Boarding</th>\n",
       "      <th>Gender</th>\n",
       "      <th>Customer_Type</th>\n",
       "      <th>Age</th>\n",
       "      <th>Type_Travel</th>\n",
       "      <th>Travel_Class</th>\n",
       "      <th>Travel_Distance</th>\n",
       "      <th>Departure_Delay_in_Mins</th>\n",
       "      <th>Arrival_Delay_in_Mins</th>\n",
       "    </tr>\n",
       "  </thead>\n",
       "  <tbody>\n",
       "    <tr>\n",
       "      <th>0</th>\n",
       "      <td>0</td>\n",
       "      <td>Needs Improvement</td>\n",
       "      <td>Green Car</td>\n",
       "      <td>Excellent</td>\n",
       "      <td>Excellent</td>\n",
       "      <td>Very Convenient</td>\n",
       "      <td>Good</td>\n",
       "      <td>Needs Improvement</td>\n",
       "      <td>Acceptable</td>\n",
       "      <td>Needs Improvement</td>\n",
       "      <td>...</td>\n",
       "      <td>Needs Improvement</td>\n",
       "      <td>Poor</td>\n",
       "      <td>Female</td>\n",
       "      <td>Loyal Customer</td>\n",
       "      <td>52.0</td>\n",
       "      <td>NaN</td>\n",
       "      <td>Business</td>\n",
       "      <td>272</td>\n",
       "      <td>0.0</td>\n",
       "      <td>5.0</td>\n",
       "    </tr>\n",
       "    <tr>\n",
       "      <th>1</th>\n",
       "      <td>0</td>\n",
       "      <td>Poor</td>\n",
       "      <td>Ordinary</td>\n",
       "      <td>Excellent</td>\n",
       "      <td>Poor</td>\n",
       "      <td>Needs Improvement</td>\n",
       "      <td>Good</td>\n",
       "      <td>Poor</td>\n",
       "      <td>Good</td>\n",
       "      <td>Good</td>\n",
       "      <td>...</td>\n",
       "      <td>Good</td>\n",
       "      <td>Good</td>\n",
       "      <td>Male</td>\n",
       "      <td>Loyal Customer</td>\n",
       "      <td>48.0</td>\n",
       "      <td>Personal Travel</td>\n",
       "      <td>Eco</td>\n",
       "      <td>2200</td>\n",
       "      <td>9.0</td>\n",
       "      <td>0.0</td>\n",
       "    </tr>\n",
       "    <tr>\n",
       "      <th>2</th>\n",
       "      <td>1</td>\n",
       "      <td>Needs Improvement</td>\n",
       "      <td>Green Car</td>\n",
       "      <td>Needs Improvement</td>\n",
       "      <td>Needs Improvement</td>\n",
       "      <td>Needs Improvement</td>\n",
       "      <td>Needs Improvement</td>\n",
       "      <td>Good</td>\n",
       "      <td>Excellent</td>\n",
       "      <td>Excellent</td>\n",
       "      <td>...</td>\n",
       "      <td>Excellent</td>\n",
       "      <td>Excellent</td>\n",
       "      <td>Female</td>\n",
       "      <td>Loyal Customer</td>\n",
       "      <td>43.0</td>\n",
       "      <td>Business Travel</td>\n",
       "      <td>Business</td>\n",
       "      <td>1061</td>\n",
       "      <td>77.0</td>\n",
       "      <td>119.0</td>\n",
       "    </tr>\n",
       "    <tr>\n",
       "      <th>3</th>\n",
       "      <td>0</td>\n",
       "      <td>Acceptable</td>\n",
       "      <td>Ordinary</td>\n",
       "      <td>Needs Improvement</td>\n",
       "      <td>NaN</td>\n",
       "      <td>Needs Improvement</td>\n",
       "      <td>Acceptable</td>\n",
       "      <td>Needs Improvement</td>\n",
       "      <td>Acceptable</td>\n",
       "      <td>Acceptable</td>\n",
       "      <td>...</td>\n",
       "      <td>Acceptable</td>\n",
       "      <td>Acceptable</td>\n",
       "      <td>Female</td>\n",
       "      <td>Loyal Customer</td>\n",
       "      <td>44.0</td>\n",
       "      <td>Business Travel</td>\n",
       "      <td>Business</td>\n",
       "      <td>780</td>\n",
       "      <td>13.0</td>\n",
       "      <td>18.0</td>\n",
       "    </tr>\n",
       "    <tr>\n",
       "      <th>4</th>\n",
       "      <td>1</td>\n",
       "      <td>Acceptable</td>\n",
       "      <td>Ordinary</td>\n",
       "      <td>Acceptable</td>\n",
       "      <td>Acceptable</td>\n",
       "      <td>Manageable</td>\n",
       "      <td>Needs Improvement</td>\n",
       "      <td>Good</td>\n",
       "      <td>Excellent</td>\n",
       "      <td>Good</td>\n",
       "      <td>...</td>\n",
       "      <td>Good</td>\n",
       "      <td>Good</td>\n",
       "      <td>Female</td>\n",
       "      <td>Loyal Customer</td>\n",
       "      <td>50.0</td>\n",
       "      <td>Business Travel</td>\n",
       "      <td>Business</td>\n",
       "      <td>1981</td>\n",
       "      <td>0.0</td>\n",
       "      <td>0.0</td>\n",
       "    </tr>\n",
       "  </tbody>\n",
       "</table>\n",
       "<p>5 rows × 24 columns</p>\n",
       "</div>"
      ],
      "text/plain": [
       "   Overall_Experience       Seat_Comfort Seat_Class Arrival_Time_Convenient  \\\n",
       "0                   0  Needs Improvement  Green Car               Excellent   \n",
       "1                   0               Poor   Ordinary               Excellent   \n",
       "2                   1  Needs Improvement  Green Car       Needs Improvement   \n",
       "3                   0         Acceptable   Ordinary       Needs Improvement   \n",
       "4                   1         Acceptable   Ordinary              Acceptable   \n",
       "\n",
       "            Catering  Platform_Location Onboard_Wifi_Service  \\\n",
       "0          Excellent    Very Convenient                 Good   \n",
       "1               Poor  Needs Improvement                 Good   \n",
       "2  Needs Improvement  Needs Improvement    Needs Improvement   \n",
       "3                NaN  Needs Improvement           Acceptable   \n",
       "4         Acceptable         Manageable    Needs Improvement   \n",
       "\n",
       "  Onboard_Entertainment Online_Support Ease_of_Online_Booking  ...  \\\n",
       "0     Needs Improvement     Acceptable      Needs Improvement  ...   \n",
       "1                  Poor           Good                   Good  ...   \n",
       "2                  Good      Excellent              Excellent  ...   \n",
       "3     Needs Improvement     Acceptable             Acceptable  ...   \n",
       "4                  Good      Excellent                   Good  ...   \n",
       "\n",
       "         Cleanliness Online_Boarding  Gender   Customer_Type   Age  \\\n",
       "0  Needs Improvement            Poor  Female  Loyal Customer  52.0   \n",
       "1               Good            Good    Male  Loyal Customer  48.0   \n",
       "2          Excellent       Excellent  Female  Loyal Customer  43.0   \n",
       "3         Acceptable      Acceptable  Female  Loyal Customer  44.0   \n",
       "4               Good            Good  Female  Loyal Customer  50.0   \n",
       "\n",
       "       Type_Travel Travel_Class Travel_Distance  Departure_Delay_in_Mins  \\\n",
       "0              NaN     Business             272                      0.0   \n",
       "1  Personal Travel          Eco            2200                      9.0   \n",
       "2  Business Travel     Business            1061                     77.0   \n",
       "3  Business Travel     Business             780                     13.0   \n",
       "4  Business Travel     Business            1981                      0.0   \n",
       "\n",
       "  Arrival_Delay_in_Mins  \n",
       "0                   5.0  \n",
       "1                   0.0  \n",
       "2                 119.0  \n",
       "3                  18.0  \n",
       "4                   0.0  \n",
       "\n",
       "[5 rows x 24 columns]"
      ]
     },
     "execution_count": 24,
     "metadata": {},
     "output_type": "execute_result"
    }
   ],
   "source": [
    "df.head()"
   ]
  },
  {
   "cell_type": "code",
   "execution_count": 25,
   "metadata": {
    "colab": {
     "base_uri": "https://localhost:8080/"
    },
    "executionInfo": {
     "elapsed": 9,
     "status": "ok",
     "timestamp": 1697364129035,
     "user": {
      "displayName": "Leenmel",
      "userId": "15039834560745532025"
     },
     "user_tz": -480
    },
    "id": "mXETtDl7WS-3",
    "outputId": "f7205188-535d-4548-e7a6-26c1c86b74ee"
   },
   "outputs": [
    {
     "name": "stdout",
     "output_type": "stream",
     "text": [
      "Seat_Comfort\n",
      "Acceptable           21158\n",
      "Needs Improvement    20946\n",
      "Good                 20595\n",
      "Poor                 15185\n",
      "Excellent            12971\n",
      "Extremely Poor        3463\n",
      "Name: count, dtype: int64\n",
      "--------------------------------------------------\n",
      "Seat_Class\n",
      "Green Car    47435\n",
      "Ordinary     46944\n",
      "Name: count, dtype: int64\n",
      "--------------------------------------------------\n",
      "Arrival_Time_Convenient\n",
      "Good                 19574\n",
      "Excellent            17684\n",
      "Acceptable           15177\n",
      "Needs Improvement    14990\n",
      "Poor                 13692\n",
      "Extremely Poor        4332\n",
      "Name: count, dtype: int64\n",
      "--------------------------------------------------\n",
      "Catering\n",
      "Acceptable           18468\n",
      "Needs Improvement    17978\n",
      "Good                 17969\n",
      "Poor                 13858\n",
      "Excellent            13455\n",
      "Extremely Poor        3910\n",
      "Name: count, dtype: int64\n",
      "--------------------------------------------------\n",
      "Platform_Location\n",
      "Manageable           24173\n",
      "Convenient           21912\n",
      "Needs Improvement    17832\n",
      "Inconvenient         16449\n",
      "Very Convenient      13981\n",
      "Very Inconvenient        2\n",
      "Name: count, dtype: int64\n",
      "--------------------------------------------------\n",
      "Onboard_Wifi_Service\n",
      "Good                 22835\n",
      "Excellent            20968\n",
      "Acceptable           20118\n",
      "Needs Improvement    19596\n",
      "Poor                 10741\n",
      "Extremely Poor          91\n",
      "Name: count, dtype: int64\n",
      "--------------------------------------------------\n",
      "Onboard_Entertainment\n",
      "Good                 30446\n",
      "Excellent            21644\n",
      "Acceptable           17560\n",
      "Needs Improvement    13926\n",
      "Poor                  8641\n",
      "Extremely Poor        2144\n",
      "Name: count, dtype: int64\n",
      "--------------------------------------------------\n",
      "Online_Support\n",
      "Good                 30016\n",
      "Excellent            25894\n",
      "Acceptable           15702\n",
      "Needs Improvement    12508\n",
      "Poor                 10167\n",
      "Extremely Poor           1\n",
      "Name: count, dtype: int64\n",
      "--------------------------------------------------\n",
      "Ease_of_Online_Booking\n",
      "Good                 28909\n",
      "Excellent            24744\n",
      "Acceptable           16390\n",
      "Needs Improvement    14479\n",
      "Poor                  9768\n",
      "Extremely Poor          16\n",
      "Name: count, dtype: int64\n",
      "--------------------------------------------------\n",
      "Onboard_Service\n",
      "Good                 27265\n",
      "Excellent            21272\n",
      "Acceptable           18071\n",
      "Needs Improvement    11390\n",
      "Poor                  8776\n",
      "Extremely Poor           4\n",
      "Name: count, dtype: int64\n",
      "--------------------------------------------------\n",
      "Legroom\n",
      "Good                 28870\n",
      "Excellent            24832\n",
      "Acceptable           16384\n",
      "Needs Improvement    15753\n",
      "Poor                  8110\n",
      "Extremely Poor         340\n",
      "Name: count, dtype: int64\n",
      "--------------------------------------------------\n",
      "Baggage_Handling\n",
      "Good                 34944\n",
      "Excellent            26003\n",
      "Acceptable           17767\n",
      "Needs Improvement     9759\n",
      "Poor                  5764\n",
      "Name: count, dtype: int64\n",
      "--------------------------------------------------\n",
      "CheckIn_Service\n",
      "Good                 26502\n",
      "Acceptable           25803\n",
      "Excellent            19641\n",
      "Needs Improvement    11218\n",
      "Poor                 11137\n",
      "Extremely Poor           1\n",
      "Name: count, dtype: int64\n",
      "--------------------------------------------------\n",
      "Cleanliness\n",
      "Good                 35427\n",
      "Excellent            26053\n",
      "Acceptable           17449\n",
      "Needs Improvement     9806\n",
      "Poor                  5633\n",
      "Extremely Poor           5\n",
      "Name: count, dtype: int64\n",
      "--------------------------------------------------\n",
      "Online_Boarding\n",
      "Good                 25533\n",
      "Acceptable           22475\n",
      "Excellent            21742\n",
      "Needs Improvement    13451\n",
      "Poor                 11160\n",
      "Extremely Poor          12\n",
      "Name: count, dtype: int64\n",
      "--------------------------------------------------\n",
      "Gender\n",
      "Female    47815\n",
      "Male      46487\n",
      "Name: count, dtype: int64\n",
      "--------------------------------------------------\n",
      "Customer_Type\n",
      "Loyal Customer       69823\n",
      "Disloyal Customer    15605\n",
      "Name: count, dtype: int64\n",
      "--------------------------------------------------\n",
      "Type_Travel\n",
      "Business Travel    58617\n",
      "Personal Travel    26536\n",
      "Name: count, dtype: int64\n",
      "--------------------------------------------------\n",
      "Travel_Class\n",
      "Eco         49342\n",
      "Business    45037\n",
      "Name: count, dtype: int64\n",
      "--------------------------------------------------\n"
     ]
    }
   ],
   "source": [
    "# Creating categorical variables\n",
    "cat_col = list(df.select_dtypes(\"object\").columns)\n",
    "\n",
    "# Check the count of each unique value for each categorical column\n",
    "for column in cat_col:\n",
    "    print(df[column].value_counts())\n",
    "    print(\"-\" * 50)"
   ]
  },
  {
   "cell_type": "code",
   "execution_count": 26,
   "metadata": {
    "colab": {
     "base_uri": "https://localhost:8080/",
     "height": 206
    },
    "executionInfo": {
     "elapsed": 353,
     "status": "ok",
     "timestamp": 1697364129381,
     "user": {
      "displayName": "Leenmel",
      "userId": "15039834560745532025"
     },
     "user_tz": -480
    },
    "id": "CgQHB0xYZA0c",
    "outputId": "087d2602-f838-49b1-da92-d61f6ac59373"
   },
   "outputs": [
    {
     "data": {
      "text/html": [
       "<div>\n",
       "<style scoped>\n",
       "    .dataframe tbody tr th:only-of-type {\n",
       "        vertical-align: middle;\n",
       "    }\n",
       "\n",
       "    .dataframe tbody tr th {\n",
       "        vertical-align: top;\n",
       "    }\n",
       "\n",
       "    .dataframe thead th {\n",
       "        text-align: right;\n",
       "    }\n",
       "</style>\n",
       "<table border=\"1\" class=\"dataframe\">\n",
       "  <thead>\n",
       "    <tr style=\"text-align: right;\">\n",
       "      <th></th>\n",
       "      <th>count</th>\n",
       "      <th>mean</th>\n",
       "      <th>std</th>\n",
       "      <th>min</th>\n",
       "      <th>25%</th>\n",
       "      <th>50%</th>\n",
       "      <th>75%</th>\n",
       "      <th>max</th>\n",
       "    </tr>\n",
       "  </thead>\n",
       "  <tbody>\n",
       "    <tr>\n",
       "      <th>Overall_Experience</th>\n",
       "      <td>94379.0</td>\n",
       "      <td>0.546658</td>\n",
       "      <td>0.497821</td>\n",
       "      <td>0.0</td>\n",
       "      <td>0.0</td>\n",
       "      <td>1.0</td>\n",
       "      <td>1.0</td>\n",
       "      <td>1.0</td>\n",
       "    </tr>\n",
       "    <tr>\n",
       "      <th>Age</th>\n",
       "      <td>94346.0</td>\n",
       "      <td>39.419647</td>\n",
       "      <td>15.116632</td>\n",
       "      <td>7.0</td>\n",
       "      <td>27.0</td>\n",
       "      <td>40.0</td>\n",
       "      <td>51.0</td>\n",
       "      <td>85.0</td>\n",
       "    </tr>\n",
       "    <tr>\n",
       "      <th>Travel_Distance</th>\n",
       "      <td>94379.0</td>\n",
       "      <td>1978.888185</td>\n",
       "      <td>1027.961019</td>\n",
       "      <td>50.0</td>\n",
       "      <td>1359.0</td>\n",
       "      <td>1923.0</td>\n",
       "      <td>2538.0</td>\n",
       "      <td>6951.0</td>\n",
       "    </tr>\n",
       "    <tr>\n",
       "      <th>Departure_Delay_in_Mins</th>\n",
       "      <td>94322.0</td>\n",
       "      <td>14.647092</td>\n",
       "      <td>38.138781</td>\n",
       "      <td>0.0</td>\n",
       "      <td>0.0</td>\n",
       "      <td>0.0</td>\n",
       "      <td>12.0</td>\n",
       "      <td>1592.0</td>\n",
       "    </tr>\n",
       "    <tr>\n",
       "      <th>Arrival_Delay_in_Mins</th>\n",
       "      <td>94022.0</td>\n",
       "      <td>15.005222</td>\n",
       "      <td>38.439409</td>\n",
       "      <td>0.0</td>\n",
       "      <td>0.0</td>\n",
       "      <td>0.0</td>\n",
       "      <td>13.0</td>\n",
       "      <td>1584.0</td>\n",
       "    </tr>\n",
       "  </tbody>\n",
       "</table>\n",
       "</div>"
      ],
      "text/plain": [
       "                           count         mean          std   min     25%  \\\n",
       "Overall_Experience       94379.0     0.546658     0.497821   0.0     0.0   \n",
       "Age                      94346.0    39.419647    15.116632   7.0    27.0   \n",
       "Travel_Distance          94379.0  1978.888185  1027.961019  50.0  1359.0   \n",
       "Departure_Delay_in_Mins  94322.0    14.647092    38.138781   0.0     0.0   \n",
       "Arrival_Delay_in_Mins    94022.0    15.005222    38.439409   0.0     0.0   \n",
       "\n",
       "                            50%     75%     max  \n",
       "Overall_Experience          1.0     1.0     1.0  \n",
       "Age                        40.0    51.0    85.0  \n",
       "Travel_Distance          1923.0  2538.0  6951.0  \n",
       "Departure_Delay_in_Mins     0.0    12.0  1592.0  \n",
       "Arrival_Delay_in_Mins       0.0    13.0  1584.0  "
      ]
     },
     "execution_count": 26,
     "metadata": {},
     "output_type": "execute_result"
    }
   ],
   "source": [
    "df.describe().T"
   ]
  },
  {
   "cell_type": "code",
   "execution_count": 27,
   "metadata": {
    "colab": {
     "base_uri": "https://localhost:8080/",
     "height": 645
    },
    "executionInfo": {
     "elapsed": 318,
     "status": "ok",
     "timestamp": 1697364129691,
     "user": {
      "displayName": "Leenmel",
      "userId": "15039834560745532025"
     },
     "user_tz": -480
    },
    "id": "vqbZxGDqZXIq",
    "outputId": "5bbc0a28-2bfc-4cad-eabb-7b06f10d57b5"
   },
   "outputs": [
    {
     "data": {
      "text/html": [
       "<div>\n",
       "<style scoped>\n",
       "    .dataframe tbody tr th:only-of-type {\n",
       "        vertical-align: middle;\n",
       "    }\n",
       "\n",
       "    .dataframe tbody tr th {\n",
       "        vertical-align: top;\n",
       "    }\n",
       "\n",
       "    .dataframe thead th {\n",
       "        text-align: right;\n",
       "    }\n",
       "</style>\n",
       "<table border=\"1\" class=\"dataframe\">\n",
       "  <thead>\n",
       "    <tr style=\"text-align: right;\">\n",
       "      <th></th>\n",
       "      <th>count</th>\n",
       "      <th>unique</th>\n",
       "      <th>top</th>\n",
       "      <th>freq</th>\n",
       "    </tr>\n",
       "  </thead>\n",
       "  <tbody>\n",
       "    <tr>\n",
       "      <th>Seat_Comfort</th>\n",
       "      <td>94318</td>\n",
       "      <td>6</td>\n",
       "      <td>Acceptable</td>\n",
       "      <td>21158</td>\n",
       "    </tr>\n",
       "    <tr>\n",
       "      <th>Seat_Class</th>\n",
       "      <td>94379</td>\n",
       "      <td>2</td>\n",
       "      <td>Green Car</td>\n",
       "      <td>47435</td>\n",
       "    </tr>\n",
       "    <tr>\n",
       "      <th>Arrival_Time_Convenient</th>\n",
       "      <td>85449</td>\n",
       "      <td>6</td>\n",
       "      <td>Good</td>\n",
       "      <td>19574</td>\n",
       "    </tr>\n",
       "    <tr>\n",
       "      <th>Catering</th>\n",
       "      <td>85638</td>\n",
       "      <td>6</td>\n",
       "      <td>Acceptable</td>\n",
       "      <td>18468</td>\n",
       "    </tr>\n",
       "    <tr>\n",
       "      <th>Platform_Location</th>\n",
       "      <td>94349</td>\n",
       "      <td>6</td>\n",
       "      <td>Manageable</td>\n",
       "      <td>24173</td>\n",
       "    </tr>\n",
       "    <tr>\n",
       "      <th>Onboard_Wifi_Service</th>\n",
       "      <td>94349</td>\n",
       "      <td>6</td>\n",
       "      <td>Good</td>\n",
       "      <td>22835</td>\n",
       "    </tr>\n",
       "    <tr>\n",
       "      <th>Onboard_Entertainment</th>\n",
       "      <td>94361</td>\n",
       "      <td>6</td>\n",
       "      <td>Good</td>\n",
       "      <td>30446</td>\n",
       "    </tr>\n",
       "    <tr>\n",
       "      <th>Online_Support</th>\n",
       "      <td>94288</td>\n",
       "      <td>6</td>\n",
       "      <td>Good</td>\n",
       "      <td>30016</td>\n",
       "    </tr>\n",
       "    <tr>\n",
       "      <th>Ease_of_Online_Booking</th>\n",
       "      <td>94306</td>\n",
       "      <td>6</td>\n",
       "      <td>Good</td>\n",
       "      <td>28909</td>\n",
       "    </tr>\n",
       "    <tr>\n",
       "      <th>Onboard_Service</th>\n",
       "      <td>86778</td>\n",
       "      <td>6</td>\n",
       "      <td>Good</td>\n",
       "      <td>27265</td>\n",
       "    </tr>\n",
       "    <tr>\n",
       "      <th>Legroom</th>\n",
       "      <td>94289</td>\n",
       "      <td>6</td>\n",
       "      <td>Good</td>\n",
       "      <td>28870</td>\n",
       "    </tr>\n",
       "    <tr>\n",
       "      <th>Baggage_Handling</th>\n",
       "      <td>94237</td>\n",
       "      <td>5</td>\n",
       "      <td>Good</td>\n",
       "      <td>34944</td>\n",
       "    </tr>\n",
       "    <tr>\n",
       "      <th>CheckIn_Service</th>\n",
       "      <td>94302</td>\n",
       "      <td>6</td>\n",
       "      <td>Good</td>\n",
       "      <td>26502</td>\n",
       "    </tr>\n",
       "    <tr>\n",
       "      <th>Cleanliness</th>\n",
       "      <td>94373</td>\n",
       "      <td>6</td>\n",
       "      <td>Good</td>\n",
       "      <td>35427</td>\n",
       "    </tr>\n",
       "    <tr>\n",
       "      <th>Online_Boarding</th>\n",
       "      <td>94373</td>\n",
       "      <td>6</td>\n",
       "      <td>Good</td>\n",
       "      <td>25533</td>\n",
       "    </tr>\n",
       "    <tr>\n",
       "      <th>Gender</th>\n",
       "      <td>94302</td>\n",
       "      <td>2</td>\n",
       "      <td>Female</td>\n",
       "      <td>47815</td>\n",
       "    </tr>\n",
       "    <tr>\n",
       "      <th>Customer_Type</th>\n",
       "      <td>85428</td>\n",
       "      <td>2</td>\n",
       "      <td>Loyal Customer</td>\n",
       "      <td>69823</td>\n",
       "    </tr>\n",
       "    <tr>\n",
       "      <th>Type_Travel</th>\n",
       "      <td>85153</td>\n",
       "      <td>2</td>\n",
       "      <td>Business Travel</td>\n",
       "      <td>58617</td>\n",
       "    </tr>\n",
       "    <tr>\n",
       "      <th>Travel_Class</th>\n",
       "      <td>94379</td>\n",
       "      <td>2</td>\n",
       "      <td>Eco</td>\n",
       "      <td>49342</td>\n",
       "    </tr>\n",
       "  </tbody>\n",
       "</table>\n",
       "</div>"
      ],
      "text/plain": [
       "                         count unique              top   freq\n",
       "Seat_Comfort             94318      6       Acceptable  21158\n",
       "Seat_Class               94379      2        Green Car  47435\n",
       "Arrival_Time_Convenient  85449      6             Good  19574\n",
       "Catering                 85638      6       Acceptable  18468\n",
       "Platform_Location        94349      6       Manageable  24173\n",
       "Onboard_Wifi_Service     94349      6             Good  22835\n",
       "Onboard_Entertainment    94361      6             Good  30446\n",
       "Online_Support           94288      6             Good  30016\n",
       "Ease_of_Online_Booking   94306      6             Good  28909\n",
       "Onboard_Service          86778      6             Good  27265\n",
       "Legroom                  94289      6             Good  28870\n",
       "Baggage_Handling         94237      5             Good  34944\n",
       "CheckIn_Service          94302      6             Good  26502\n",
       "Cleanliness              94373      6             Good  35427\n",
       "Online_Boarding          94373      6             Good  25533\n",
       "Gender                   94302      2           Female  47815\n",
       "Customer_Type            85428      2   Loyal Customer  69823\n",
       "Type_Travel              85153      2  Business Travel  58617\n",
       "Travel_Class             94379      2              Eco  49342"
      ]
     },
     "execution_count": 27,
     "metadata": {},
     "output_type": "execute_result"
    }
   ],
   "source": [
    "df.describe(include=[\"object\"]).T"
   ]
  },
  {
   "cell_type": "markdown",
   "metadata": {
    "id": "Fup4yf0UapJi"
   },
   "source": [
    "# UNIVARIATE"
   ]
  },
  {
   "cell_type": "code",
   "execution_count": null,
   "metadata": {
    "id": "cp5c2dDdZwNx"
   },
   "outputs": [],
   "source": [
    "# Create function to show both histogram and box plot in one line of code. For numerical columns\n",
    "def hist_box(df, col):\n",
    "    f, (boxplt, histogm) = plt.subplots(2, sharex=True, figsize=(12,6))\n",
    "    # Adding a graph in each part\n",
    "    sns.boxplot(data=df, x=col, ax=boxplt, showmeans=True)\n",
    "    sns.histplot(data=df, x=col, kde=True, ax=histogm)\n",
    "    plt.show()"
   ]
  },
  {
   "cell_type": "code",
   "execution_count": null,
   "metadata": {
    "colab": {
     "base_uri": "https://localhost:8080/",
     "height": 550
    },
    "executionInfo": {
     "elapsed": 690,
     "status": "ok",
     "timestamp": 1697198167128,
     "user": {
      "displayName": "Leenmel",
      "userId": "15039834560745532025"
     },
     "user_tz": -480
    },
    "id": "bpaw_4IQa_q_",
    "outputId": "9707c118-4f6e-4c36-84ab-c18f3f7b4e92"
   },
   "outputs": [],
   "source": [
    "hist_box(df, \"Age\")"
   ]
  },
  {
   "cell_type": "code",
   "execution_count": null,
   "metadata": {
    "colab": {
     "base_uri": "https://localhost:8080/",
     "height": 551
    },
    "executionInfo": {
     "elapsed": 807,
     "status": "ok",
     "timestamp": 1697198167928,
     "user": {
      "displayName": "Leenmel",
      "userId": "15039834560745532025"
     },
     "user_tz": -480
    },
    "id": "Kkn6SgRVbS-E",
    "outputId": "27788f27-4532-4144-a01c-add89dbffe97"
   },
   "outputs": [],
   "source": [
    "hist_box(df, \"Travel_Distance\")"
   ]
  },
  {
   "cell_type": "code",
   "execution_count": null,
   "metadata": {
    "colab": {
     "base_uri": "https://localhost:8080/",
     "height": 551
    },
    "executionInfo": {
     "elapsed": 3664,
     "status": "ok",
     "timestamp": 1697198171587,
     "user": {
      "displayName": "Leenmel",
      "userId": "15039834560745532025"
     },
     "user_tz": -480
    },
    "id": "WiOlOEbHbTYs",
    "outputId": "eeb1f11f-c724-4b33-da6b-ff2b588b4a2b"
   },
   "outputs": [],
   "source": [
    "hist_box(df, \"Departure_Delay_in_Mins\")"
   ]
  },
  {
   "cell_type": "code",
   "execution_count": null,
   "metadata": {
    "colab": {
     "base_uri": "https://localhost:8080/",
     "height": 551
    },
    "executionInfo": {
     "elapsed": 4291,
     "status": "ok",
     "timestamp": 1697198175876,
     "user": {
      "displayName": "Leenmel",
      "userId": "15039834560745532025"
     },
     "user_tz": -480
    },
    "id": "bTHCvornb4Ko",
    "outputId": "8c01ac1d-2403-4dd9-8591-cf1f9b90e745"
   },
   "outputs": [],
   "source": [
    "hist_box(df, \"Arrival_Delay_in_Mins\")"
   ]
  },
  {
   "cell_type": "markdown",
   "metadata": {
    "id": "tjCsWW5lct-c"
   },
   "source": [
    "**BIVARIATE**"
   ]
  },
  {
   "cell_type": "code",
   "execution_count": null,
   "metadata": {
    "colab": {
     "base_uri": "https://localhost:8080/",
     "height": 1000
    },
    "executionInfo": {
     "elapsed": 7421,
     "status": "ok",
     "timestamp": 1697283661552,
     "user": {
      "displayName": "Leenmel",
      "userId": "15039834560745532025"
     },
     "user_tz": -480
    },
    "id": "UIvYFhpbBRlA",
    "outputId": "b53c21e9-b3d0-482e-e600-221a0e84c92e"
   },
   "outputs": [],
   "source": [
    "for i in cat_col:\n",
    "    if i!='Overall_Experience':\n",
    "        (pd.crosstab(df[i],df['Overall_Experience'],normalize='index')*100).plot(kind='bar',figsize=(8,4),stacked=True)\n",
    "        plt.ylabel('Overall_Experience %')"
   ]
  },
  {
   "cell_type": "code",
   "execution_count": null,
   "metadata": {
    "colab": {
     "base_uri": "https://localhost:8080/",
     "height": 611
    },
    "executionInfo": {
     "elapsed": 4,
     "status": "ok",
     "timestamp": 1697198182236,
     "user": {
      "displayName": "Leenmel",
      "userId": "15039834560745532025"
     },
     "user_tz": -480
    },
    "id": "vAnn5ZXpczPH",
    "outputId": "622b3b66-4a53-42e1-cce8-7576e043a294"
   },
   "outputs": [],
   "source": [
    "plt.figure(figsize=(15, 7))\n",
    "sns.heatmap(df.corr(), annot=True, vmin=-1, vmax=1, fmt=\".2f\", cmap=\"Spectral\")\n",
    "plt.show()"
   ]
  },
  {
   "cell_type": "markdown",
   "metadata": {
    "id": "IZKaPaNmd2KA"
   },
   "source": [
    "**Observation: High +ve correlation between departure delay & arrival delay**\n",
    "\n"
   ]
  },
  {
   "cell_type": "code",
   "execution_count": null,
   "metadata": {
    "colab": {
     "base_uri": "https://localhost:8080/",
     "height": 676
    },
    "executionInfo": {
     "elapsed": 544,
     "status": "ok",
     "timestamp": 1697198182777,
     "user": {
      "displayName": "Leenmel",
      "userId": "15039834560745532025"
     },
     "user_tz": -480
    },
    "id": "YX9EZp5wh5Ez",
    "outputId": "80b2a8f4-f360-4aea-e81d-c8d78753c2eb"
   },
   "outputs": [],
   "source": [
    "# data.shape[0] will give us the number of rows in the dataset\n",
    "# selecting the instances where missing value is greater than 0\n",
    "pd.DataFrame({'Count':df.isnull().sum()[df.isnull().sum()>0],'Percentage':(df.isnull().sum()[df.isnull().sum()>0]/df.shape[0])*100})"
   ]
  },
  {
   "cell_type": "markdown",
   "metadata": {
    "id": "GEUWMNjT3eAm"
   },
   "source": [
    "**Missing Values Less than 1%**:\n",
    "*   Impute Mean: Age\n",
    "*   Impute Median: Departure_Delay_in_Mins, Arrival_Delay_in_Mins\n",
    "*   Impute Mode: Seat_Comfort, Platform_Location, Onboard_Wifi_service,Onboard_Entertainment, Online_Support,Ease_of_Online_Booking, Legroom, Baggage_Handling, CheckIn_Service , Cleanliness, Online_Boarding, Gender\n",
    "\n"
   ]
  },
  {
   "cell_type": "markdown",
   "metadata": {
    "id": "8X9nRdFXiLqK"
   },
   "source": [
    "# LightBGM model"
   ]
  },
  {
   "cell_type": "code",
   "execution_count": 28,
   "metadata": {},
   "outputs": [
    {
     "name": "stdout",
     "output_type": "stream",
     "text": [
      "Requirement already satisfied: lightgbm in c:\\users\\leenm\\anaconda3\\lib\\site-packages (4.1.0)\n",
      "Requirement already satisfied: numpy in c:\\users\\leenm\\anaconda3\\lib\\site-packages (from lightgbm) (1.24.3)\n",
      "Requirement already satisfied: scipy in c:\\users\\leenm\\anaconda3\\lib\\site-packages (from lightgbm) (1.11.1)\n",
      "Note: you may need to restart the kernel to use updated packages.\n"
     ]
    }
   ],
   "source": [
    "pip install lightgbm\n"
   ]
  },
  {
   "cell_type": "code",
   "execution_count": 29,
   "metadata": {
    "colab": {
     "base_uri": "https://localhost:8080/"
    },
    "executionInfo": {
     "elapsed": 2,
     "status": "ok",
     "timestamp": 1697364391896,
     "user": {
      "displayName": "Leenmel",
      "userId": "15039834560745532025"
     },
     "user_tz": -480
    },
    "id": "lEQ9GbnEil1G",
    "outputId": "483fedce-a3c7-4356-c722-bb6dbcc91b52"
   },
   "outputs": [
    {
     "data": {
      "text/plain": [
       "['Seat_Comfort',\n",
       " 'Seat_Class',\n",
       " 'Arrival_Time_Convenient',\n",
       " 'Catering',\n",
       " 'Platform_Location',\n",
       " 'Onboard_Wifi_Service',\n",
       " 'Onboard_Entertainment',\n",
       " 'Online_Support',\n",
       " 'Ease_of_Online_Booking',\n",
       " 'Onboard_Service',\n",
       " 'Legroom',\n",
       " 'Baggage_Handling',\n",
       " 'CheckIn_Service',\n",
       " 'Cleanliness',\n",
       " 'Online_Boarding',\n",
       " 'Gender',\n",
       " 'Customer_Type',\n",
       " 'Type_Travel',\n",
       " 'Travel_Class']"
      ]
     },
     "execution_count": 29,
     "metadata": {},
     "output_type": "execute_result"
    }
   ],
   "source": [
    "#listing all columns\n",
    "cat_col"
   ]
  },
  {
   "cell_type": "code",
   "execution_count": 30,
   "metadata": {
    "colab": {
     "base_uri": "https://localhost:8080/",
     "height": 143
    },
    "executionInfo": {
     "elapsed": 2912,
     "status": "ok",
     "timestamp": 1697364385521,
     "user": {
      "displayName": "Leenmel",
      "userId": "15039834560745532025"
     },
     "user_tz": -480
    },
    "id": "Pva0swMMkl78",
    "outputId": "116daae0-982c-489c-c5fb-1051300d55bc"
   },
   "outputs": [
    {
     "data": {
      "text/html": [
       "<div>\n",
       "<style scoped>\n",
       "    .dataframe tbody tr th:only-of-type {\n",
       "        vertical-align: middle;\n",
       "    }\n",
       "\n",
       "    .dataframe tbody tr th {\n",
       "        vertical-align: top;\n",
       "    }\n",
       "\n",
       "    .dataframe thead th {\n",
       "        text-align: right;\n",
       "    }\n",
       "</style>\n",
       "<table border=\"1\" class=\"dataframe\">\n",
       "  <thead>\n",
       "    <tr style=\"text-align: right;\">\n",
       "      <th></th>\n",
       "      <th>Count</th>\n",
       "      <th>Percentage</th>\n",
       "    </tr>\n",
       "  </thead>\n",
       "  <tbody>\n",
       "    <tr>\n",
       "      <th>Seat_Comfort</th>\n",
       "      <td>61</td>\n",
       "      <td>0.064633</td>\n",
       "    </tr>\n",
       "    <tr>\n",
       "      <th>Arrival_Time_Convenient</th>\n",
       "      <td>8930</td>\n",
       "      <td>9.461851</td>\n",
       "    </tr>\n",
       "    <tr>\n",
       "      <th>Catering</th>\n",
       "      <td>8741</td>\n",
       "      <td>9.261594</td>\n",
       "    </tr>\n",
       "    <tr>\n",
       "      <th>Platform_Location</th>\n",
       "      <td>30</td>\n",
       "      <td>0.031787</td>\n",
       "    </tr>\n",
       "    <tr>\n",
       "      <th>Onboard_Wifi_Service</th>\n",
       "      <td>30</td>\n",
       "      <td>0.031787</td>\n",
       "    </tr>\n",
       "    <tr>\n",
       "      <th>Onboard_Entertainment</th>\n",
       "      <td>18</td>\n",
       "      <td>0.019072</td>\n",
       "    </tr>\n",
       "    <tr>\n",
       "      <th>Online_Support</th>\n",
       "      <td>91</td>\n",
       "      <td>0.096420</td>\n",
       "    </tr>\n",
       "    <tr>\n",
       "      <th>Ease_of_Online_Booking</th>\n",
       "      <td>73</td>\n",
       "      <td>0.077348</td>\n",
       "    </tr>\n",
       "    <tr>\n",
       "      <th>Onboard_Service</th>\n",
       "      <td>7601</td>\n",
       "      <td>8.053698</td>\n",
       "    </tr>\n",
       "    <tr>\n",
       "      <th>Legroom</th>\n",
       "      <td>90</td>\n",
       "      <td>0.095360</td>\n",
       "    </tr>\n",
       "    <tr>\n",
       "      <th>Baggage_Handling</th>\n",
       "      <td>142</td>\n",
       "      <td>0.150457</td>\n",
       "    </tr>\n",
       "    <tr>\n",
       "      <th>CheckIn_Service</th>\n",
       "      <td>77</td>\n",
       "      <td>0.081586</td>\n",
       "    </tr>\n",
       "    <tr>\n",
       "      <th>Cleanliness</th>\n",
       "      <td>6</td>\n",
       "      <td>0.006357</td>\n",
       "    </tr>\n",
       "    <tr>\n",
       "      <th>Online_Boarding</th>\n",
       "      <td>6</td>\n",
       "      <td>0.006357</td>\n",
       "    </tr>\n",
       "    <tr>\n",
       "      <th>Gender</th>\n",
       "      <td>77</td>\n",
       "      <td>0.081586</td>\n",
       "    </tr>\n",
       "    <tr>\n",
       "      <th>Customer_Type</th>\n",
       "      <td>8951</td>\n",
       "      <td>9.484101</td>\n",
       "    </tr>\n",
       "    <tr>\n",
       "      <th>Age</th>\n",
       "      <td>33</td>\n",
       "      <td>0.034965</td>\n",
       "    </tr>\n",
       "    <tr>\n",
       "      <th>Type_Travel</th>\n",
       "      <td>9226</td>\n",
       "      <td>9.775480</td>\n",
       "    </tr>\n",
       "    <tr>\n",
       "      <th>Departure_Delay_in_Mins</th>\n",
       "      <td>57</td>\n",
       "      <td>0.060395</td>\n",
       "    </tr>\n",
       "    <tr>\n",
       "      <th>Arrival_Delay_in_Mins</th>\n",
       "      <td>357</td>\n",
       "      <td>0.378262</td>\n",
       "    </tr>\n",
       "  </tbody>\n",
       "</table>\n",
       "</div>"
      ],
      "text/plain": [
       "                         Count  Percentage\n",
       "Seat_Comfort                61    0.064633\n",
       "Arrival_Time_Convenient   8930    9.461851\n",
       "Catering                  8741    9.261594\n",
       "Platform_Location           30    0.031787\n",
       "Onboard_Wifi_Service        30    0.031787\n",
       "Onboard_Entertainment       18    0.019072\n",
       "Online_Support              91    0.096420\n",
       "Ease_of_Online_Booking      73    0.077348\n",
       "Onboard_Service           7601    8.053698\n",
       "Legroom                     90    0.095360\n",
       "Baggage_Handling           142    0.150457\n",
       "CheckIn_Service             77    0.081586\n",
       "Cleanliness                  6    0.006357\n",
       "Online_Boarding              6    0.006357\n",
       "Gender                      77    0.081586\n",
       "Customer_Type             8951    9.484101\n",
       "Age                         33    0.034965\n",
       "Type_Travel               9226    9.775480\n",
       "Departure_Delay_in_Mins     57    0.060395\n",
       "Arrival_Delay_in_Mins      357    0.378262"
      ]
     },
     "execution_count": 30,
     "metadata": {},
     "output_type": "execute_result"
    }
   ],
   "source": [
    "#checking\n",
    "# data.shape[0] will give us the number of rows in the dataset\n",
    "# selecting the instances where missing value is greater than 0\n",
    "pd.DataFrame({'Count':df.isnull().sum()[df.isnull().sum()>0],'Percentage':(df.isnull().sum()[df.isnull().sum()>0]/df.shape[0])*100})"
   ]
  },
  {
   "cell_type": "code",
   "execution_count": 31,
   "metadata": {
    "executionInfo": {
     "elapsed": 289,
     "status": "ok",
     "timestamp": 1697364387270,
     "user": {
      "displayName": "Leenmel",
      "userId": "15039834560745532025"
     },
     "user_tz": -480
    },
    "id": "QFD-fQKOkTnU"
   },
   "outputs": [],
   "source": [
    "# Convert NaNs to \"missing\" for categorical columns\n",
    "#for column in cat_col:\n",
    "    #df[column] = df[column].fillna('missing')"
   ]
  },
  {
   "cell_type": "code",
   "execution_count": 32,
   "metadata": {
    "executionInfo": {
     "elapsed": 342,
     "status": "ok",
     "timestamp": 1697364389146,
     "user": {
      "displayName": "Leenmel",
      "userId": "15039834560745532025"
     },
     "user_tz": -480
    },
    "id": "vFCsEJnviSGP"
   },
   "outputs": [],
   "source": [
    "X3 = df.drop('Overall_Experience', axis=1)\n",
    "y3 = df['Overall_Experience']"
   ]
  },
  {
   "cell_type": "code",
   "execution_count": 33,
   "metadata": {
    "colab": {
     "base_uri": "https://localhost:8080/",
     "height": 342
    },
    "executionInfo": {
     "elapsed": 3,
     "status": "ok",
     "timestamp": 1697364369373,
     "user": {
      "displayName": "Leenmel",
      "userId": "15039834560745532025"
     },
     "user_tz": -480
    },
    "id": "UkxEie8Qib60",
    "outputId": "1a2814b6-bc00-4a65-ce23-48671ce1f236"
   },
   "outputs": [
    {
     "data": {
      "text/html": [
       "<div>\n",
       "<style scoped>\n",
       "    .dataframe tbody tr th:only-of-type {\n",
       "        vertical-align: middle;\n",
       "    }\n",
       "\n",
       "    .dataframe tbody tr th {\n",
       "        vertical-align: top;\n",
       "    }\n",
       "\n",
       "    .dataframe thead th {\n",
       "        text-align: right;\n",
       "    }\n",
       "</style>\n",
       "<table border=\"1\" class=\"dataframe\">\n",
       "  <thead>\n",
       "    <tr style=\"text-align: right;\">\n",
       "      <th></th>\n",
       "      <th>Seat_Comfort</th>\n",
       "      <th>Seat_Class</th>\n",
       "      <th>Arrival_Time_Convenient</th>\n",
       "      <th>Catering</th>\n",
       "      <th>Platform_Location</th>\n",
       "      <th>Onboard_Wifi_Service</th>\n",
       "      <th>Onboard_Entertainment</th>\n",
       "      <th>Online_Support</th>\n",
       "      <th>Ease_of_Online_Booking</th>\n",
       "      <th>Onboard_Service</th>\n",
       "      <th>...</th>\n",
       "      <th>Cleanliness</th>\n",
       "      <th>Online_Boarding</th>\n",
       "      <th>Gender</th>\n",
       "      <th>Customer_Type</th>\n",
       "      <th>Age</th>\n",
       "      <th>Type_Travel</th>\n",
       "      <th>Travel_Class</th>\n",
       "      <th>Travel_Distance</th>\n",
       "      <th>Departure_Delay_in_Mins</th>\n",
       "      <th>Arrival_Delay_in_Mins</th>\n",
       "    </tr>\n",
       "  </thead>\n",
       "  <tbody>\n",
       "    <tr>\n",
       "      <th>0</th>\n",
       "      <td>Needs Improvement</td>\n",
       "      <td>Green Car</td>\n",
       "      <td>Excellent</td>\n",
       "      <td>Excellent</td>\n",
       "      <td>Very Convenient</td>\n",
       "      <td>Good</td>\n",
       "      <td>Needs Improvement</td>\n",
       "      <td>Acceptable</td>\n",
       "      <td>Needs Improvement</td>\n",
       "      <td>Needs Improvement</td>\n",
       "      <td>...</td>\n",
       "      <td>Needs Improvement</td>\n",
       "      <td>Poor</td>\n",
       "      <td>Female</td>\n",
       "      <td>Loyal Customer</td>\n",
       "      <td>52.0</td>\n",
       "      <td>NaN</td>\n",
       "      <td>Business</td>\n",
       "      <td>272</td>\n",
       "      <td>0.0</td>\n",
       "      <td>5.0</td>\n",
       "    </tr>\n",
       "    <tr>\n",
       "      <th>1</th>\n",
       "      <td>Poor</td>\n",
       "      <td>Ordinary</td>\n",
       "      <td>Excellent</td>\n",
       "      <td>Poor</td>\n",
       "      <td>Needs Improvement</td>\n",
       "      <td>Good</td>\n",
       "      <td>Poor</td>\n",
       "      <td>Good</td>\n",
       "      <td>Good</td>\n",
       "      <td>Excellent</td>\n",
       "      <td>...</td>\n",
       "      <td>Good</td>\n",
       "      <td>Good</td>\n",
       "      <td>Male</td>\n",
       "      <td>Loyal Customer</td>\n",
       "      <td>48.0</td>\n",
       "      <td>Personal Travel</td>\n",
       "      <td>Eco</td>\n",
       "      <td>2200</td>\n",
       "      <td>9.0</td>\n",
       "      <td>0.0</td>\n",
       "    </tr>\n",
       "    <tr>\n",
       "      <th>2</th>\n",
       "      <td>Needs Improvement</td>\n",
       "      <td>Green Car</td>\n",
       "      <td>Needs Improvement</td>\n",
       "      <td>Needs Improvement</td>\n",
       "      <td>Needs Improvement</td>\n",
       "      <td>Needs Improvement</td>\n",
       "      <td>Good</td>\n",
       "      <td>Excellent</td>\n",
       "      <td>Excellent</td>\n",
       "      <td>Excellent</td>\n",
       "      <td>...</td>\n",
       "      <td>Excellent</td>\n",
       "      <td>Excellent</td>\n",
       "      <td>Female</td>\n",
       "      <td>Loyal Customer</td>\n",
       "      <td>43.0</td>\n",
       "      <td>Business Travel</td>\n",
       "      <td>Business</td>\n",
       "      <td>1061</td>\n",
       "      <td>77.0</td>\n",
       "      <td>119.0</td>\n",
       "    </tr>\n",
       "    <tr>\n",
       "      <th>3</th>\n",
       "      <td>Acceptable</td>\n",
       "      <td>Ordinary</td>\n",
       "      <td>Needs Improvement</td>\n",
       "      <td>NaN</td>\n",
       "      <td>Needs Improvement</td>\n",
       "      <td>Acceptable</td>\n",
       "      <td>Needs Improvement</td>\n",
       "      <td>Acceptable</td>\n",
       "      <td>Acceptable</td>\n",
       "      <td>Acceptable</td>\n",
       "      <td>...</td>\n",
       "      <td>Acceptable</td>\n",
       "      <td>Acceptable</td>\n",
       "      <td>Female</td>\n",
       "      <td>Loyal Customer</td>\n",
       "      <td>44.0</td>\n",
       "      <td>Business Travel</td>\n",
       "      <td>Business</td>\n",
       "      <td>780</td>\n",
       "      <td>13.0</td>\n",
       "      <td>18.0</td>\n",
       "    </tr>\n",
       "    <tr>\n",
       "      <th>4</th>\n",
       "      <td>Acceptable</td>\n",
       "      <td>Ordinary</td>\n",
       "      <td>Acceptable</td>\n",
       "      <td>Acceptable</td>\n",
       "      <td>Manageable</td>\n",
       "      <td>Needs Improvement</td>\n",
       "      <td>Good</td>\n",
       "      <td>Excellent</td>\n",
       "      <td>Good</td>\n",
       "      <td>Good</td>\n",
       "      <td>...</td>\n",
       "      <td>Good</td>\n",
       "      <td>Good</td>\n",
       "      <td>Female</td>\n",
       "      <td>Loyal Customer</td>\n",
       "      <td>50.0</td>\n",
       "      <td>Business Travel</td>\n",
       "      <td>Business</td>\n",
       "      <td>1981</td>\n",
       "      <td>0.0</td>\n",
       "      <td>0.0</td>\n",
       "    </tr>\n",
       "  </tbody>\n",
       "</table>\n",
       "<p>5 rows × 23 columns</p>\n",
       "</div>"
      ],
      "text/plain": [
       "        Seat_Comfort Seat_Class Arrival_Time_Convenient           Catering  \\\n",
       "0  Needs Improvement  Green Car               Excellent          Excellent   \n",
       "1               Poor   Ordinary               Excellent               Poor   \n",
       "2  Needs Improvement  Green Car       Needs Improvement  Needs Improvement   \n",
       "3         Acceptable   Ordinary       Needs Improvement                NaN   \n",
       "4         Acceptable   Ordinary              Acceptable         Acceptable   \n",
       "\n",
       "   Platform_Location Onboard_Wifi_Service Onboard_Entertainment  \\\n",
       "0    Very Convenient                 Good     Needs Improvement   \n",
       "1  Needs Improvement                 Good                  Poor   \n",
       "2  Needs Improvement    Needs Improvement                  Good   \n",
       "3  Needs Improvement           Acceptable     Needs Improvement   \n",
       "4         Manageable    Needs Improvement                  Good   \n",
       "\n",
       "  Online_Support Ease_of_Online_Booking    Onboard_Service  ...  \\\n",
       "0     Acceptable      Needs Improvement  Needs Improvement  ...   \n",
       "1           Good                   Good          Excellent  ...   \n",
       "2      Excellent              Excellent          Excellent  ...   \n",
       "3     Acceptable             Acceptable         Acceptable  ...   \n",
       "4      Excellent                   Good               Good  ...   \n",
       "\n",
       "         Cleanliness Online_Boarding  Gender   Customer_Type   Age  \\\n",
       "0  Needs Improvement            Poor  Female  Loyal Customer  52.0   \n",
       "1               Good            Good    Male  Loyal Customer  48.0   \n",
       "2          Excellent       Excellent  Female  Loyal Customer  43.0   \n",
       "3         Acceptable      Acceptable  Female  Loyal Customer  44.0   \n",
       "4               Good            Good  Female  Loyal Customer  50.0   \n",
       "\n",
       "       Type_Travel Travel_Class  Travel_Distance Departure_Delay_in_Mins  \\\n",
       "0              NaN     Business              272                     0.0   \n",
       "1  Personal Travel          Eco             2200                     9.0   \n",
       "2  Business Travel     Business             1061                    77.0   \n",
       "3  Business Travel     Business              780                    13.0   \n",
       "4  Business Travel     Business             1981                     0.0   \n",
       "\n",
       "  Arrival_Delay_in_Mins  \n",
       "0                   5.0  \n",
       "1                   0.0  \n",
       "2                 119.0  \n",
       "3                  18.0  \n",
       "4                   0.0  \n",
       "\n",
       "[5 rows x 23 columns]"
      ]
     },
     "execution_count": 33,
     "metadata": {},
     "output_type": "execute_result"
    }
   ],
   "source": [
    "X3.head()"
   ]
  },
  {
   "cell_type": "code",
   "execution_count": 34,
   "metadata": {
    "colab": {
     "base_uri": "https://localhost:8080/"
    },
    "executionInfo": {
     "elapsed": 510,
     "status": "ok",
     "timestamp": 1697364375336,
     "user": {
      "displayName": "Leenmel",
      "userId": "15039834560745532025"
     },
     "user_tz": -480
    },
    "id": "b6lbg-ZwoANu",
    "outputId": "cc1cb603-6905-4803-d56a-ffac348e6829"
   },
   "outputs": [
    {
     "name": "stdout",
     "output_type": "stream",
     "text": [
      "<class 'pandas.core.frame.DataFrame'>\n",
      "RangeIndex: 94379 entries, 0 to 94378\n",
      "Data columns (total 23 columns):\n",
      " #   Column                   Non-Null Count  Dtype  \n",
      "---  ------                   --------------  -----  \n",
      " 0   Seat_Comfort             94318 non-null  object \n",
      " 1   Seat_Class               94379 non-null  object \n",
      " 2   Arrival_Time_Convenient  85449 non-null  object \n",
      " 3   Catering                 85638 non-null  object \n",
      " 4   Platform_Location        94349 non-null  object \n",
      " 5   Onboard_Wifi_Service     94349 non-null  object \n",
      " 6   Onboard_Entertainment    94361 non-null  object \n",
      " 7   Online_Support           94288 non-null  object \n",
      " 8   Ease_of_Online_Booking   94306 non-null  object \n",
      " 9   Onboard_Service          86778 non-null  object \n",
      " 10  Legroom                  94289 non-null  object \n",
      " 11  Baggage_Handling         94237 non-null  object \n",
      " 12  CheckIn_Service          94302 non-null  object \n",
      " 13  Cleanliness              94373 non-null  object \n",
      " 14  Online_Boarding          94373 non-null  object \n",
      " 15  Gender                   94302 non-null  object \n",
      " 16  Customer_Type            85428 non-null  object \n",
      " 17  Age                      94346 non-null  float64\n",
      " 18  Type_Travel              85153 non-null  object \n",
      " 19  Travel_Class             94379 non-null  object \n",
      " 20  Travel_Distance          94379 non-null  int64  \n",
      " 21  Departure_Delay_in_Mins  94322 non-null  float64\n",
      " 22  Arrival_Delay_in_Mins    94022 non-null  float64\n",
      "dtypes: float64(3), int64(1), object(19)\n",
      "memory usage: 16.6+ MB\n"
     ]
    }
   ],
   "source": [
    "X3.info()"
   ]
  },
  {
   "cell_type": "code",
   "execution_count": 41,
   "metadata": {},
   "outputs": [],
   "source": [
    "#Create dummies for X, convert categorial to binary numerical for machine learning\n",
    "X3 = pd.get_dummies(X3,columns = cat_col, drop_first=True)"
   ]
  },
  {
   "cell_type": "code",
   "execution_count": 42,
   "metadata": {
    "executionInfo": {
     "elapsed": 357,
     "status": "ok",
     "timestamp": 1697364402702,
     "user": {
      "displayName": "Leenmel",
      "userId": "15039834560745532025"
     },
     "user_tz": -480
    },
    "id": "HpZZrkpDjPBy"
   },
   "outputs": [],
   "source": [
    "# Creating metric function\n",
    "def metrics_score(actual, predicted):\n",
    "    print(classification_report(actual, predicted))\n",
    "    cm = confusion_matrix(actual, predicted)\n",
    "    sns.heatmap(cm, annot=True,  fmt='.2f')\n",
    "    plt.ylabel('Actual')\n",
    "    plt.xlabel('Predicted')\n",
    "    plt.show()"
   ]
  },
  {
   "cell_type": "code",
   "execution_count": 43,
   "metadata": {
    "executionInfo": {
     "elapsed": 2,
     "status": "ok",
     "timestamp": 1697364404369,
     "user": {
      "displayName": "Leenmel",
      "userId": "15039834560745532025"
     },
     "user_tz": -480
    },
    "id": "D0zB1u2sjWca"
   },
   "outputs": [],
   "source": [
    "#Splitting the Dataset:\n",
    "X3_train, X3_test, y3_train, y3_test = train_test_split(X3, y3, test_size=0.3, random_state=42)\n"
   ]
  },
  {
   "cell_type": "code",
   "execution_count": 44,
   "metadata": {},
   "outputs": [],
   "source": [
    "import pandas as pd\n",
    "import lightgbm as lgb\n",
    "from sklearn.model_selection import train_test_split\n",
    "from sklearn.metrics import accuracy_score\n",
    "\n",
    "#Convert Dataset to LightGBM Dataset:\n",
    "#LightGBM has its own internal data structure that it uses which is optimized for memory usage and speed.\n",
    "train_data_light = lgb.Dataset(X3_train, label=y3_train)\n",
    "test_data_light = lgb.Dataset(X3_test, label=y3_test, reference=train_data_light)"
   ]
  },
  {
   "cell_type": "code",
   "execution_count": 45,
   "metadata": {
    "colab": {
     "base_uri": "https://localhost:8080/"
    },
    "executionInfo": {
     "elapsed": 150305,
     "status": "ok",
     "timestamp": 1697365600765,
     "user": {
      "displayName": "Leenmel",
      "userId": "15039834560745532025"
     },
     "user_tz": -480
    },
    "id": "Nyeh27afjlBx",
    "outputId": "54b0cdfb-c4ed-46e9-ca50-a950e76dcc7c"
   },
   "outputs": [
    {
     "name": "stdout",
     "output_type": "stream",
     "text": [
      "[LightGBM] [Warning] Found whitespace in feature_names, replace with underlines\n",
      "[LightGBM] [Info] Number of positive: 35887, number of negative: 30178\n",
      "[LightGBM] [Info] Auto-choosing row-wise multi-threading, the overhead of testing was 0.007663 seconds.\n",
      "You can set `force_row_wise=true` to remove the overhead.\n",
      "And if memory is not enough, you can set `force_col_wise=true`.\n",
      "[LightGBM] [Info] Total Bins 976\n",
      "[LightGBM] [Info] Number of data points in the train set: 66065, number of used features: 71\n",
      "[LightGBM] [Warning] Found whitespace in feature_names, replace with underlines\n",
      "[LightGBM] [Info] [binary:BoostFromScore]: pavg=0.543207 -> initscore=0.173262\n",
      "[LightGBM] [Info] Start training from score 0.173262\n",
      "Training until validation scores don't improve for 10 rounds\n",
      "Did not meet early stopping. Best iteration is:\n",
      "[100]\tvalid_0's binary_logloss: 0.152934\n"
     ]
    }
   ],
   "source": [
    "from lightgbm import early_stopping\n",
    "\n",
    "# Set the parameters\n",
    "params = {\n",
    "    'objective': 'binary',  # for binary classification\n",
    "    'metric': 'binary_logloss',\n",
    "    'boosting_type': 'gbdt',\n",
    "    'num_leaves': 31,\n",
    "    'learning_rate': 0.05,\n",
    "    'feature_fraction': 0.9\n",
    "}\n",
    "\n",
    "# Train the model with early stopping using callbacks\n",
    "num_round = 100\n",
    "bst = lgb.train(params, train_data_light, num_round, valid_sets=[test_data_light], \n",
    "                callbacks=[lgb.early_stopping(stopping_rounds=10)])\n"
   ]
  },
  {
   "cell_type": "code",
   "execution_count": 54,
   "metadata": {
    "colab": {
     "base_uri": "https://localhost:8080/",
     "height": 622
    },
    "executionInfo": {
     "elapsed": 1118,
     "status": "ok",
     "timestamp": 1697365704333,
     "user": {
      "displayName": "Leenmel",
      "userId": "15039834560745532025"
     },
     "user_tz": -480
    },
    "id": "ZBTXAtW_mKxj",
    "outputId": "390567c5-3110-4298-b9c1-9d140cfef015"
   },
   "outputs": [],
   "source": [
    "#checking on train set\n",
    "y_pred_train6 = bst.predict(X3_train)\n",
    "# Convert predictions to binary for binary classification\n",
    "y_pred_binary_train6 = [1 if prob >= 0.5 else 0 for prob in y_pred_train6]\n"
   ]
  },
  {
   "cell_type": "code",
   "execution_count": 55,
   "metadata": {},
   "outputs": [
    {
     "name": "stdout",
     "output_type": "stream",
     "text": [
      "              precision    recall  f1-score   support\n",
      "\n",
      "           0       0.93      0.95      0.94     30178\n",
      "           1       0.95      0.94      0.95     35887\n",
      "\n",
      "    accuracy                           0.94     66065\n",
      "   macro avg       0.94      0.94      0.94     66065\n",
      "weighted avg       0.94      0.94      0.94     66065\n",
      "\n"
     ]
    },
    {
     "data": {
      "image/png": "[encoded data removed]",
      "text/plain": [
       "<Figure size 640x480 with 2 Axes>"
      ]
     },
     "metadata": {},
     "output_type": "display_data"
    }
   ],
   "source": [
    "metrics_score(y3_train, y_pred_binary_train6)"
   ]
  },
  {
   "cell_type": "code",
   "execution_count": 56,
   "metadata": {
    "colab": {
     "base_uri": "https://localhost:8080/",
     "height": 622
    },
    "executionInfo": {
     "elapsed": 920,
     "status": "ok",
     "timestamp": 1697365710633,
     "user": {
      "displayName": "Leenmel",
      "userId": "15039834560745532025"
     },
     "user_tz": -480
    },
    "id": "Qcqj9y81mFng",
    "outputId": "ead0927e-2c77-4ffc-d5a1-931e623d109c"
   },
   "outputs": [
    {
     "name": "stdout",
     "output_type": "stream",
     "text": [
      "              precision    recall  f1-score   support\n",
      "\n",
      "           0       0.92      0.94      0.93     12608\n",
      "           1       0.95      0.94      0.94     15706\n",
      "\n",
      "    accuracy                           0.94     28314\n",
      "   macro avg       0.94      0.94      0.94     28314\n",
      "weighted avg       0.94      0.94      0.94     28314\n",
      "\n"
     ]
    },
    {
     "data": {
      "image/png": "[encoded data removed]",
      "text/plain": [
       "<Figure size 640x480 with 2 Axes>"
      ]
     },
     "metadata": {},
     "output_type": "display_data"
    }
   ],
   "source": [
    "#checking on test set\n",
    "y_pred_test6 = bst.predict(X3_test, num_iteration=bst.best_iteration)\n",
    "y_pred_binary_train6 = [1 if prob >= 0.5 else 0 for prob in y_pred_test6]\n",
    "metrics_score(y3_test, y_pred_binary_train6)\n"
   ]
  },
  {
   "cell_type": "code",
   "execution_count": 63,
   "metadata": {},
   "outputs": [
    {
     "name": "stdout",
     "output_type": "stream",
     "text": [
      "Fitting 3 folds for each of 100 candidates, totalling 300 fits\n",
      "[LightGBM] [Warning] feature_fraction is set=0.9, colsample_bytree=1.0 will be ignored. Current value: feature_fraction=0.9\n",
      "[LightGBM] [Warning] lambda_l1 is set=0, reg_alpha=0.0 will be ignored. Current value: lambda_l1=0\n",
      "[LightGBM] [Warning] lambda_l2 is set=0.5, reg_lambda=0.0 will be ignored. Current value: lambda_l2=0.5\n",
      "[LightGBM] [Warning] bagging_fraction is set=1.0, subsample=1.0 will be ignored. Current value: bagging_fraction=1.0\n",
      "[LightGBM] [Warning] bagging_freq is set=39, subsample_freq=0 will be ignored. Current value: bagging_freq=39\n",
      "[LightGBM] [Warning] Found whitespace in feature_names, replace with underlines\n",
      "[LightGBM] [Warning] feature_fraction is set=0.9, colsample_bytree=1.0 will be ignored. Current value: feature_fraction=0.9\n",
      "[LightGBM] [Warning] lambda_l1 is set=0, reg_alpha=0.0 will be ignored. Current value: lambda_l1=0\n",
      "[LightGBM] [Warning] lambda_l2 is set=0.5, reg_lambda=0.0 will be ignored. Current value: lambda_l2=0.5\n",
      "[LightGBM] [Warning] bagging_fraction is set=1.0, subsample=1.0 will be ignored. Current value: bagging_fraction=1.0\n",
      "[LightGBM] [Warning] bagging_freq is set=39, subsample_freq=0 will be ignored. Current value: bagging_freq=39\n",
      "[LightGBM] [Info] Number of positive: 35887, number of negative: 30178\n",
      "[LightGBM] [Info] Auto-choosing row-wise multi-threading, the overhead of testing was 0.006851 seconds.\n",
      "You can set `force_row_wise=true` to remove the overhead.\n",
      "And if memory is not enough, you can set `force_col_wise=true`.\n",
      "[LightGBM] [Info] Total Bins 976\n",
      "[LightGBM] [Info] Number of data points in the train set: 66065, number of used features: 71\n",
      "[LightGBM] [Warning] feature_fraction is set=0.9, colsample_bytree=1.0 will be ignored. Current value: feature_fraction=0.9\n",
      "[LightGBM] [Warning] lambda_l1 is set=0, reg_alpha=0.0 will be ignored. Current value: lambda_l1=0\n",
      "[LightGBM] [Warning] lambda_l2 is set=0.5, reg_lambda=0.0 will be ignored. Current value: lambda_l2=0.5\n",
      "[LightGBM] [Warning] bagging_fraction is set=1.0, subsample=1.0 will be ignored. Current value: bagging_fraction=1.0\n",
      "[LightGBM] [Warning] bagging_freq is set=39, subsample_freq=0 will be ignored. Current value: bagging_freq=39\n",
      "[LightGBM] [Warning] Found whitespace in feature_names, replace with underlines\n",
      "[LightGBM] [Info] [binary:BoostFromScore]: pavg=0.543207 -> initscore=0.173262\n",
      "[LightGBM] [Info] Start training from score 0.173262\n",
      "Training until validation scores don't improve for 10 rounds\n",
      "[LightGBM] [Warning] No further splits with positive gain, best gain: -inf\n",
      "[LightGBM] [Warning] No further splits with positive gain, best gain: -inf\n",
      "[LightGBM] [Warning] No further splits with positive gain, best gain: -inf\n",
      "[LightGBM] [Warning] No further splits with positive gain, best gain: -inf\n",
      "[LightGBM] [Warning] No further splits with positive gain, best gain: -inf\n",
      "[LightGBM] [Warning] No further splits with positive gain, best gain: -inf\n",
      "[LightGBM] [Warning] No further splits with positive gain, best gain: -inf\n",
      "[LightGBM] [Warning] No further splits with positive gain, best gain: -inf\n",
      "[LightGBM] [Warning] No further splits with positive gain, best gain: -inf\n",
      "[LightGBM] [Warning] No further splits with positive gain, best gain: -inf\n",
      "[LightGBM] [Warning] No further splits with positive gain, best gain: -inf\n",
      "[LightGBM] [Warning] No further splits with positive gain, best gain: -inf\n",
      "[LightGBM] [Warning] No further splits with positive gain, best gain: -inf\n",
      "[LightGBM] [Warning] No further splits with positive gain, best gain: -inf\n",
      "[LightGBM] [Warning] No further splits with positive gain, best gain: -inf\n",
      "[LightGBM] [Warning] No further splits with positive gain, best gain: -inf\n",
      "[LightGBM] [Warning] No further splits with positive gain, best gain: -inf\n",
      "[LightGBM] [Warning] No further splits with positive gain, best gain: -inf\n",
      "[LightGBM] [Warning] No further splits with positive gain, best gain: -inf\n",
      "[LightGBM] [Warning] No further splits with positive gain, best gain: -inf\n",
      "[LightGBM] [Warning] No further splits with positive gain, best gain: -inf\n",
      "[LightGBM] [Warning] No further splits with positive gain, best gain: -inf\n",
      "[LightGBM] [Warning] No further splits with positive gain, best gain: -inf\n",
      "[LightGBM] [Warning] No further splits with positive gain, best gain: -inf\n",
      "[LightGBM] [Warning] No further splits with positive gain, best gain: -inf\n",
      "[LightGBM] [Warning] No further splits with positive gain, best gain: -inf\n",
      "[LightGBM] [Warning] No further splits with positive gain, best gain: -inf\n",
      "[LightGBM] [Warning] No further splits with positive gain, best gain: -inf\n",
      "[LightGBM] [Warning] No further splits with positive gain, best gain: -inf\n",
      "Early stopping, best iteration is:\n",
      "[64]\tvalid_0's binary_logloss: 0.111554\n",
      "{'objective': 'binary', 'num_leaves': 138, 'metric': 'binary_logloss', 'max_depth': 9, 'learning_rate': 0.3, 'lambda_l2': 0.5, 'lambda_l1': 0, 'feature_fraction': 0.9, 'boosting_type': 'gbdt', 'bagging_freq': 39, 'bagging_fraction': 1.0}\n"
     ]
    }
   ],
   "source": [
    "param_grid = {\n",
    "    'objective': ['binary'],\n",
    "    'metric': ['binary_logloss'],\n",
    "    'boosting_type': ['gbdt'],\n",
    "    'num_leaves': list(range(10, 150)),\n",
    "    'learning_rate': [0.005, 0.01, 0.05, 0.1, 0.2, 0.3],\n",
    "    'feature_fraction': [0.6, 0.7, 0.8, 0.9, 1.0],\n",
    "    'bagging_fraction': [0.6, 0.7, 0.8, 0.9, 1.0],\n",
    "    'bagging_freq': list(range(0, 50)),\n",
    "    'lambda_l1': [0, 0.1, 0.5, 1.0],\n",
    "    'lambda_l2': [0, 0.1, 0.5, 1.0],\n",
    "    'max_depth': list(range(-1, 20))\n",
    "}\n",
    "\n",
    "from sklearn.model_selection import RandomizedSearchCV\n",
    "import lightgbm as lgb\n",
    "\n",
    "# Create a LightGBM classifier\n",
    "clf = lgb.LGBMClassifier(verbose=1)\n",
    "\n",
    "# Random search of parameters using 3-fold cross-validation\n",
    "lgb_random = RandomizedSearchCV(estimator=clf, param_distributions=param_grid, n_iter=100, \n",
    "                                scoring='neg_log_loss', cv=3, verbose=2, random_state=42, n_jobs=-1)\n",
    "\n",
    "# Fit the model\n",
    "lgb_random.fit(X3_train, y3_train, eval_set=[(X3_test, y3_test)], callbacks=[lgb.early_stopping(stopping_rounds=10)])\n",
    "\n",
    "# Best parameters found:\n",
    "print(lgb_random.best_params_)\n"
   ]
  },
  {
   "cell_type": "code",
   "execution_count": 66,
   "metadata": {},
   "outputs": [
    {
     "name": "stdout",
     "output_type": "stream",
     "text": [
      "[LightGBM] [Warning] feature_fraction is set=0.9, colsample_bytree=1.0 will be ignored. Current value: feature_fraction=0.9\n",
      "[LightGBM] [Warning] lambda_l1 is set=0, reg_alpha=0.0 will be ignored. Current value: lambda_l1=0\n",
      "[LightGBM] [Warning] lambda_l2 is set=0.5, reg_lambda=0.0 will be ignored. Current value: lambda_l2=0.5\n",
      "[LightGBM] [Warning] bagging_fraction is set=1.0, subsample=1.0 will be ignored. Current value: bagging_fraction=1.0\n",
      "[LightGBM] [Warning] bagging_freq is set=39, subsample_freq=0 will be ignored. Current value: bagging_freq=39\n",
      "              precision    recall  f1-score   support\n",
      "\n",
      "           0       0.98      0.99      0.99     30178\n",
      "           1       0.99      0.98      0.99     35887\n",
      "\n",
      "    accuracy                           0.99     66065\n",
      "   macro avg       0.99      0.99      0.99     66065\n",
      "weighted avg       0.99      0.99      0.99     66065\n",
      "\n"
     ]
    },
    {
     "data": {
      "image/png": "[encoded data removed]",
      "text/plain": [
       "<Figure size 640x480 with 2 Axes>"
      ]
     },
     "metadata": {},
     "output_type": "display_data"
    }
   ],
   "source": [
    "#checking on test set\n",
    "y_pred_train7 = lgb_random.predict(X3_train)\n",
    "y_pred_binary_train7 = [1 if prob >= 0.5 else 0 for prob in y_pred_train7]\n",
    "metrics_score(y3_train, y_pred_binary_train7)"
   ]
  },
  {
   "cell_type": "code",
   "execution_count": 67,
   "metadata": {},
   "outputs": [
    {
     "name": "stdout",
     "output_type": "stream",
     "text": [
      "[LightGBM] [Warning] feature_fraction is set=0.9, colsample_bytree=1.0 will be ignored. Current value: feature_fraction=0.9\n",
      "[LightGBM] [Warning] lambda_l1 is set=0, reg_alpha=0.0 will be ignored. Current value: lambda_l1=0\n",
      "[LightGBM] [Warning] lambda_l2 is set=0.5, reg_lambda=0.0 will be ignored. Current value: lambda_l2=0.5\n",
      "[LightGBM] [Warning] bagging_fraction is set=1.0, subsample=1.0 will be ignored. Current value: bagging_fraction=1.0\n",
      "[LightGBM] [Warning] bagging_freq is set=39, subsample_freq=0 will be ignored. Current value: bagging_freq=39\n",
      "              precision    recall  f1-score   support\n",
      "\n",
      "           0       0.94      0.95      0.95     12608\n",
      "           1       0.96      0.95      0.96     15706\n",
      "\n",
      "    accuracy                           0.95     28314\n",
      "   macro avg       0.95      0.95      0.95     28314\n",
      "weighted avg       0.95      0.95      0.95     28314\n",
      "\n"
     ]
    },
    {
     "data": {
      "image/png": "[encoded data removed]",
      "text/plain": [
       "<Figure size 640x480 with 2 Axes>"
      ]
     },
     "metadata": {},
     "output_type": "display_data"
    }
   ],
   "source": [
    "#checking on test set\n",
    "y_pred_test7 = lgb_random.predict(X3_test)\n",
    "y_pred_binary_test7 = [1 if prob >= 0.5 else 0 for prob in y_pred_test7]\n",
    "metrics_score(y3_test, y_pred_binary_test7)"
   ]
  },
  {
   "cell_type": "code",
   "execution_count": null,
   "metadata": {},
   "outputs": [],
   "source": [
    "#checking on test set\n",
    "y_pred_test7 = lgb_random.predict(X3_test)\n",
    "y_pred_binary_train7 = [1 if prob >= 0.5 else 0 for prob in y_pred_test7]\n",
    "metrics_score(y3_test, y_pred_binary_train7)"
   ]
  },
  {
   "cell_type": "code",
   "execution_count": null,
   "metadata": {
    "executionInfo": {
     "elapsed": 529,
     "status": "ok",
     "timestamp": 1697365294837,
     "user": {
      "displayName": "Leenmel",
      "userId": "15039834560745532025"
     },
     "user_tz": -480
    },
    "id": "ChvKHQi_mzLI"
   },
   "outputs": [],
   "source": [
    "#Checking with testset\n",
    "test_travel_data = pd.read_csv('/content/drive/MyDrive/Colab Notebooks/Traveldata_test.csv')\n",
    "test_survey_data = pd.read_csv('/content/drive/MyDrive/Colab Notebooks/Surveydata_test.csv')\n",
    "test_data = pd.merge(test_travel_data, test_survey_data, on=\"ID\")"
   ]
  },
  {
   "cell_type": "code",
   "execution_count": null,
   "metadata": {
    "executionInfo": {
     "elapsed": 489,
     "status": "ok",
     "timestamp": 1697365296475,
     "user": {
      "displayName": "Leenmel",
      "userId": "15039834560745532025"
     },
     "user_tz": -480
    },
    "id": "le7icJkEm3GJ"
   },
   "outputs": [],
   "source": [
    "#Drop ID column\n",
    "test_data.drop(columns='ID', inplace=True)"
   ]
  },
  {
   "cell_type": "code",
   "execution_count": null,
   "metadata": {
    "executionInfo": {
     "elapsed": 3,
     "status": "ok",
     "timestamp": 1697365297853,
     "user": {
      "displayName": "Leenmel",
      "userId": "15039834560745532025"
     },
     "user_tz": -480
    },
    "id": "5q-ekdJnm39X"
   },
   "outputs": [],
   "source": [
    "check_testdata = test_data.copy()"
   ]
  },
  {
   "cell_type": "code",
   "execution_count": null,
   "metadata": {
    "colab": {
     "base_uri": "https://localhost:8080/",
     "height": 342
    },
    "executionInfo": {
     "elapsed": 4,
     "status": "ok",
     "timestamp": 1697365299137,
     "user": {
      "displayName": "Leenmel",
      "userId": "15039834560745532025"
     },
     "user_tz": -480
    },
    "id": "gThbGwZ3m8LY",
    "outputId": "4b98cf99-906e-4928-a85f-c54cab9c829f"
   },
   "outputs": [],
   "source": [
    "check_testdata.head()"
   ]
  },
  {
   "cell_type": "code",
   "execution_count": null,
   "metadata": {
    "executionInfo": {
     "elapsed": 330,
     "status": "ok",
     "timestamp": 1697365724931,
     "user": {
      "displayName": "Leenmel",
      "userId": "15039834560745532025"
     },
     "user_tz": -480
    },
    "id": "yt8H1B6-nD_B"
   },
   "outputs": [],
   "source": [
    "# Convert NaNs to \"missing\" for categorical columns\n",
    "for column in cat_col:\n",
    "    check_testdata[column] = check_testdata[column].fillna('missing')"
   ]
  },
  {
   "cell_type": "code",
   "execution_count": null,
   "metadata": {
    "colab": {
     "base_uri": "https://localhost:8080/",
     "height": 143
    },
    "executionInfo": {
     "elapsed": 1389,
     "status": "ok",
     "timestamp": 1697365727933,
     "user": {
      "displayName": "Leenmel",
      "userId": "15039834560745532025"
     },
     "user_tz": -480
    },
    "id": "FhjLxSI-nPzl",
    "outputId": "551c7f31-8e03-43a8-dea9-e102ef4cdc61"
   },
   "outputs": [],
   "source": [
    "#checking\n",
    "# data.shape[0] will give us the number of rows in the dataset\n",
    "# selecting the instances where missing value is greater than 0\n",
    "pd.DataFrame({'Count':check_testdata.isnull().sum()[check_testdata.isnull().sum()>0],'Percentage':(check_testdata.isnull().sum()[check_testdata.isnull().sum()>0]/check_testdata.shape[0])*100})"
   ]
  },
  {
   "cell_type": "code",
   "execution_count": null,
   "metadata": {
    "executionInfo": {
     "elapsed": 1075,
     "status": "ok",
     "timestamp": 1697365731384,
     "user": {
      "displayName": "Leenmel",
      "userId": "15039834560745532025"
     },
     "user_tz": -480
    },
    "id": "PngguPmcohFH"
   },
   "outputs": [],
   "source": [
    "#match the order of columns in check_testdata and X3 IMPORTANT!!!\n",
    "check_testdata = check_testdata[X3_train.columns]"
   ]
  },
  {
   "cell_type": "code",
   "execution_count": null,
   "metadata": {
    "colab": {
     "base_uri": "https://localhost:8080/"
    },
    "executionInfo": {
     "elapsed": 3,
     "status": "ok",
     "timestamp": 1697365734644,
     "user": {
      "displayName": "Leenmel",
      "userId": "15039834560745532025"
     },
     "user_tz": -480
    },
    "id": "k-j_tLg8n5AV",
    "outputId": "f7bad333-5b18-418c-effc-e13143dbcb2f"
   },
   "outputs": [],
   "source": [
    "check_testdata.info()"
   ]
  },
  {
   "cell_type": "code",
   "execution_count": null,
   "metadata": {
    "executionInfo": {
     "elapsed": 5,
     "status": "ok",
     "timestamp": 1697365736719,
     "user": {
      "displayName": "Leenmel",
      "userId": "15039834560745532025"
     },
     "user_tz": -480
    },
    "id": "4qAkRpz6ncMR"
   },
   "outputs": [],
   "source": [
    "new_test_data_catboost =model.predict(check_testdata)"
   ]
  },
  {
   "cell_type": "code",
   "execution_count": null,
   "metadata": {
    "executionInfo": {
     "elapsed": 5,
     "status": "ok",
     "timestamp": 1697365739114,
     "user": {
      "displayName": "Leenmel",
      "userId": "15039834560745532025"
     },
     "user_tz": -480
    },
    "id": "gfTeZ49fncMS"
   },
   "outputs": [],
   "source": [
    "#Putting back ID column\n",
    "original_test_data = pd.read_csv(\"/content/drive/MyDrive/Colab Notebooks/Traveldata_test.csv\")\n",
    "IDs = original_test_data[\"ID\"].values"
   ]
  },
  {
   "cell_type": "code",
   "execution_count": null,
   "metadata": {
    "executionInfo": {
     "elapsed": 3,
     "status": "ok",
     "timestamp": 1697365741502,
     "user": {
      "displayName": "Leenmel",
      "userId": "15039834560745532025"
     },
     "user_tz": -480
    },
    "id": "oBT7AyKFncMS"
   },
   "outputs": [],
   "source": [
    "#Create a dataframe\n",
    "df_output = pd.DataFrame({\n",
    "    'ID': IDs,\n",
    "    'Overall_Experience': new_test_data_catboost\n",
    "})"
   ]
  },
  {
   "cell_type": "code",
   "execution_count": null,
   "metadata": {
    "executionInfo": {
     "elapsed": 2,
     "status": "ok",
     "timestamp": 1697365744267,
     "user": {
      "displayName": "Leenmel",
      "userId": "15039834560745532025"
     },
     "user_tz": -480
    },
    "id": "D6BxAHy0ncMT"
   },
   "outputs": [],
   "source": [
    "# Save to CSV\n",
    "df_output.to_csv('catboost.csv', index=False)"
   ]
  },
  {
   "cell_type": "markdown",
   "metadata": {
    "id": "aONOo2AbAgQ-"
   },
   "source": [
    "## Tuning lgb\n"
   ]
  },
  {
   "cell_type": "code",
   "execution_count": null,
   "metadata": {
    "colab": {
     "base_uri": "https://localhost:8080/"
    },
    "id": "fvaN7vj3j3Rc",
    "outputId": "29456418-78e5-445c-acc2-b2a4855046c7"
   },
   "outputs": [],
   "source": [
    "param_grid = {\n",
    "    'iterations': [100, 500, 1000],\n",
    "    'learning_rate': [0.01, 0.05, 0.1],\n",
    "    'depth': [4, 6, 8, 10],\n",
    "    'l2_leaf_reg': [1, 3, 5, 7, 9],\n",
    "    'border_count': [32, 64, 128, 254],\n",
    "    'bagging_temperature': [0, 1, 5, 10]\n",
    "}\n",
    "\n",
    "# Initialize CatBoostClassifier\n",
    "# model = CatBoostClassifier(cat_features=cat_col, verbose=0, random_seed=42)\n",
    "\n",
    "# Initialize RandomizedSearchCV\n",
    "search = RandomizedSearchCV(model, param_grid, n_iter=50, scoring='accuracy', cv=5, n_jobs=-1, verbose=1, random_state=42)\n",
    "\n",
    "search.fit(X3_train, y3_train)\n",
    "print(\"Best Parameters:\", search.best_params_)\n",
    "print(\"Best Score:\", search.best_score_)\n"
   ]
  },
  {
   "cell_type": "markdown",
   "metadata": {
    "id": "_sRiANK5BqcL"
   },
   "source": [
    "## Checking the tuned catboost model"
   ]
  },
  {
   "cell_type": "code",
   "execution_count": null,
   "metadata": {
    "id": "jABEcHjUB2gI"
   },
   "outputs": [],
   "source": [
    "best_catboost = search.best_estimator_"
   ]
  },
  {
   "cell_type": "code",
   "execution_count": null,
   "metadata": {
    "id": "EP3bnlU3BoEB"
   },
   "outputs": [],
   "source": [
    "#checking on train set\n",
    "y_pred_train7 = best_catboost.predict(X3_train)\n",
    "metrics_score(y3_train, y_pred_train7)"
   ]
  },
  {
   "cell_type": "code",
   "execution_count": null,
   "metadata": {
    "id": "fBntWUc9CAaM"
   },
   "outputs": [],
   "source": [
    "#checking on test set\n",
    "y_pred_train8 = best_catboost.predict(X3_test)\n",
    "metrics_score(y3_test, y_pred_train8)"
   ]
  },
  {
   "cell_type": "markdown",
   "metadata": {
    "id": "1sAxQBqlLmQK"
   },
   "source": [
    "#** Building a Decision Tree model**"
   ]
  },
  {
   "cell_type": "code",
   "execution_count": null,
   "metadata": {
    "colab": {
     "base_uri": "https://localhost:8080/",
     "height": 218
    },
    "executionInfo": {
     "elapsed": 368,
     "status": "error",
     "timestamp": 1697283687788,
     "user": {
      "displayName": "Leenmel",
      "userId": "15039834560745532025"
     },
     "user_tz": -480
    },
    "id": "1NzcmisIOj-s",
    "outputId": "c9de58f9-cfdb-4b0b-9cf8-c402f68706f4"
   },
   "outputs": [],
   "source": [
    "# Separating target variable and other variables\n",
    "X=df2.drop(columns='Overall_Experience')\n",
    "Y=df2['Overall_Experience']"
   ]
  },
  {
   "cell_type": "code",
   "execution_count": null,
   "metadata": {
    "colab": {
     "base_uri": "https://localhost:8080/",
     "height": 342
    },
    "executionInfo": {
     "elapsed": 12,
     "status": "ok",
     "timestamp": 1697198184697,
     "user": {
      "displayName": "Leenmel",
      "userId": "15039834560745532025"
     },
     "user_tz": -480
    },
    "id": "MUHHFfybO0tN",
    "outputId": "644023ad-93f5-4955-87f5-c62c8eba4315"
   },
   "outputs": [],
   "source": [
    "X.head() #checking"
   ]
  },
  {
   "cell_type": "code",
   "execution_count": null,
   "metadata": {
    "colab": {
     "base_uri": "https://localhost:8080/"
    },
    "executionInfo": {
     "elapsed": 11,
     "status": "ok",
     "timestamp": 1697198184697,
     "user": {
      "displayName": "Leenmel",
      "userId": "15039834560745532025"
     },
     "user_tz": -480
    },
    "id": "0Xcetg6MO2_V",
    "outputId": "db4f929f-b79d-43fc-fe15-f0bd87422f36"
   },
   "outputs": [],
   "source": [
    "Y.head() #checking target variable"
   ]
  },
  {
   "cell_type": "code",
   "execution_count": null,
   "metadata": {
    "colab": {
     "base_uri": "https://localhost:8080/"
    },
    "executionInfo": {
     "elapsed": 10,
     "status": "ok",
     "timestamp": 1697198184697,
     "user": {
      "displayName": "Leenmel",
      "userId": "15039834560745532025"
     },
     "user_tz": -480
    },
    "id": "0IWrLsulPRB9",
    "outputId": "612b4ac6-2ef9-4a4a-c5c5-31046553b1ab"
   },
   "outputs": [],
   "source": [
    "cat_col"
   ]
  },
  {
   "cell_type": "code",
   "execution_count": null,
   "metadata": {
    "id": "R1B4h3t5PDva"
   },
   "outputs": [],
   "source": [
    "#Create dummies for X, convert categorial to binary numerical for machine learning\n",
    "X = pd.get_dummies(X,columns = cat_col, drop_first=True)"
   ]
  },
  {
   "cell_type": "code",
   "execution_count": null,
   "metadata": {
    "colab": {
     "base_uri": "https://localhost:8080/",
     "height": 273
    },
    "executionInfo": {
     "elapsed": 8,
     "status": "ok",
     "timestamp": 1697198184697,
     "user": {
      "displayName": "Leenmel",
      "userId": "15039834560745532025"
     },
     "user_tz": -480
    },
    "id": "YsyILNqgPVcU",
    "outputId": "5cf6af1d-7cd5-482f-9ed0-372c08860510"
   },
   "outputs": [],
   "source": [
    "X.head()"
   ]
  },
  {
   "cell_type": "markdown",
   "metadata": {
    "id": "6JcyqmVVVYjV"
   },
   "source": [
    "## **Splitting the data into 70% train and 30% test set**"
   ]
  },
  {
   "cell_type": "code",
   "execution_count": null,
   "metadata": {
    "id": "IxBn9L26VolV"
   },
   "outputs": [],
   "source": [
    "# Splitting the data into train and test sets\n",
    "# stratify since there are more 0s than 1s in target variable\n",
    "X_train,X_test,y_train,y_test=train_test_split(X,Y,test_size=0.30,random_state=1,stratify=Y)"
   ]
  },
  {
   "cell_type": "code",
   "execution_count": null,
   "metadata": {
    "colab": {
     "base_uri": "https://localhost:8080/"
    },
    "executionInfo": {
     "elapsed": 8,
     "status": "ok",
     "timestamp": 1697198184697,
     "user": {
      "displayName": "Leenmel",
      "userId": "15039834560745532025"
     },
     "user_tz": -480
    },
    "id": "mnBZMnm3W1KI",
    "outputId": "5d478f5d-a7a3-46fd-a5b7-f0f4dce439e0"
   },
   "outputs": [],
   "source": [
    "# Checking that no column has missing values in train or test sets\n",
    "print(X_train.isna().sum())\n",
    "print(\"-\" * 30)\n",
    "print(X_test.isna().sum())"
   ]
  },
  {
   "cell_type": "code",
   "execution_count": null,
   "metadata": {
    "colab": {
     "base_uri": "https://localhost:8080/"
    },
    "executionInfo": {
     "elapsed": 8,
     "status": "ok",
     "timestamp": 1697198184698,
     "user": {
      "displayName": "Leenmel",
      "userId": "15039834560745532025"
     },
     "user_tz": -480
    },
    "id": "G2PosCmRW_qZ",
    "outputId": "8e691090-4564-4593-81a3-2258681fa010"
   },
   "outputs": [],
   "source": [
    "print(X_train.shape, X_test.shape)"
   ]
  },
  {
   "cell_type": "markdown",
   "metadata": {
    "id": "3cCJWvv8XkL8"
   },
   "source": [
    "## Create confusion matrix"
   ]
  },
  {
   "cell_type": "code",
   "execution_count": null,
   "metadata": {
    "id": "ho_TLDvjXE3e"
   },
   "outputs": [],
   "source": [
    "# Creating metric function\n",
    "def metrics_score(actual, predicted):\n",
    "    print(classification_report(actual, predicted))\n",
    "    cm = confusion_matrix(actual, predicted)\n",
    "    sns.heatmap(cm, annot=True,  fmt='.2f')\n",
    "    plt.ylabel('Actual')\n",
    "    plt.xlabel('Predicted')\n",
    "    plt.show()"
   ]
  },
  {
   "cell_type": "code",
   "execution_count": null,
   "metadata": {
    "colab": {
     "base_uri": "https://localhost:8080/",
     "height": 74
    },
    "executionInfo": {
     "elapsed": 490,
     "status": "ok",
     "timestamp": 1697198185181,
     "user": {
      "displayName": "Leenmel",
      "userId": "15039834560745532025"
     },
     "user_tz": -480
    },
    "id": "D_q3s4M6XzSr",
    "outputId": "ab333d57-323d-4ae9-ef34-9f9d66c52947"
   },
   "outputs": [],
   "source": [
    "dtree = DecisionTreeClassifier(random_state=1)\n",
    "dtree.fit(X_train, y_train)"
   ]
  },
  {
   "cell_type": "markdown",
   "metadata": {
    "id": "ahJBYbnlX2Tu"
   },
   "source": [
    "## Checking Decision Tree model on training set"
   ]
  },
  {
   "cell_type": "code",
   "execution_count": null,
   "metadata": {
    "colab": {
     "base_uri": "https://localhost:8080/",
     "height": 622
    },
    "executionInfo": {
     "elapsed": 617,
     "status": "ok",
     "timestamp": 1697198185795,
     "user": {
      "displayName": "Leenmel",
      "userId": "15039834560745532025"
     },
     "user_tz": -480
    },
    "id": "0uFXeX3IX61k",
    "outputId": "bac18e0e-56c1-44b6-f89f-ef9b0e0524bf"
   },
   "outputs": [],
   "source": [
    "y_pred_train1 = dtree.predict(X_train)\n",
    "metrics_score(y_train, y_pred_train1)"
   ]
  },
  {
   "cell_type": "markdown",
   "metadata": {
    "id": "VhAkbFiLYI5P"
   },
   "source": [
    "## Checking Decision Tree model on test set"
   ]
  },
  {
   "cell_type": "code",
   "execution_count": null,
   "metadata": {
    "colab": {
     "base_uri": "https://localhost:8080/",
     "height": 622
    },
    "executionInfo": {
     "elapsed": 7,
     "status": "ok",
     "timestamp": 1697198185796,
     "user": {
      "displayName": "Leenmel",
      "userId": "15039834560745532025"
     },
     "user_tz": -480
    },
    "id": "MbiFZqhwYLpQ",
    "outputId": "3fed29ff-68a4-49fe-cd44-1b1c8743c63f"
   },
   "outputs": [],
   "source": [
    "y_pred_test1 = dtree.predict(X_test)\n",
    "metrics_score(y_test, y_pred_test1)"
   ]
  },
  {
   "cell_type": "markdown",
   "metadata": {
    "id": "QwhHG6KdYUdp"
   },
   "source": [
    "**Observation :**\n",
    "\n",
    "* Overfitting observed since model performed rather poorly on test data.\n",
    "* Further tuning is needed"
   ]
  },
  {
   "cell_type": "markdown",
   "metadata": {
    "id": "_bFgivB1Yi-B"
   },
   "source": [
    "### Visualizing the decision tree"
   ]
  },
  {
   "cell_type": "code",
   "execution_count": null,
   "metadata": {
    "colab": {
     "base_uri": "https://localhost:8080/",
     "height": 672
    },
    "executionInfo": {
     "elapsed": 1655,
     "status": "ok",
     "timestamp": 1697198187446,
     "user": {
      "displayName": "Leenmel",
      "userId": "15039834560745532025"
     },
     "user_tz": -480
    },
    "id": "Aw4F1wb2Yf31",
    "outputId": "1bcc515b-04ab-4609-9144-eb893a84e865"
   },
   "outputs": [],
   "source": [
    "feature_names = list(X_train.columns)\n",
    "plt.figure(figsize=(20, 10))\n",
    "out = tree.plot_tree(\n",
    "    dtree,\n",
    "    max_depth=3,\n",
    "    feature_names=feature_names,\n",
    "    filled=True,\n",
    "    fontsize=10,\n",
    "    node_ids=True,\n",
    "    class_names=True,\n",
    ")"
   ]
  },
  {
   "cell_type": "markdown",
   "metadata": {
    "id": "n1WRx4uHYy7b"
   },
   "source": [
    "## **Conduct Hyperparameter Tuning**"
   ]
  },
  {
   "cell_type": "code",
   "execution_count": null,
   "metadata": {
    "colab": {
     "base_uri": "https://localhost:8080/",
     "height": 92
    },
    "executionInfo": {
     "elapsed": 146410,
     "status": "ok",
     "timestamp": 1697198333851,
     "user": {
      "displayName": "Leenmel",
      "userId": "15039834560745532025"
     },
     "user_tz": -480
    },
    "id": "-GRdo_d4Y3JE",
    "outputId": "a1622304-a2f3-4e3e-87f4-b5378a2a9005"
   },
   "outputs": [],
   "source": [
    "# Choose the type of classifier.\n",
    "dtree_tuned = DecisionTreeClassifier(random_state=1)\n",
    "\n",
    "# Grid of parameters to choose from\n",
    "parameters = {\n",
    "    \"max_depth\": np.arange(1,100,10),\n",
    "    \"max_leaf_nodes\": [50, 75, 150, 250],\n",
    "    \"min_samples_split\": [10, 30, 50, 70],\n",
    "}\n",
    "# Run the grid search\n",
    "grid_obj = GridSearchCV(dtree_tuned, parameters, cv=5,scoring='recall',n_jobs=-1)\n",
    "grid_obj = grid_obj.fit(X_train, y_train)\n",
    "\n",
    "# Set the clf to the best combination of parameters\n",
    "dtree_tuned = grid_obj.best_estimator_\n",
    "\n",
    "# Fit the best algorithm to the data.\n",
    "dtree_tuned.fit(X_train, y_train)"
   ]
  },
  {
   "cell_type": "markdown",
   "metadata": {
    "id": "hJ3dAScuZ5S6"
   },
   "source": [
    "### Checking Tuned Decision Tree model on training set"
   ]
  },
  {
   "cell_type": "code",
   "execution_count": null,
   "metadata": {
    "colab": {
     "base_uri": "https://localhost:8080/",
     "height": 624
    },
    "executionInfo": {
     "elapsed": 15,
     "status": "ok",
     "timestamp": 1697198333851,
     "user": {
      "displayName": "Leenmel",
      "userId": "15039834560745532025"
     },
     "user_tz": -480
    },
    "id": "PN2GmrnVZ2sI",
    "outputId": "6e74a270-7507-432f-856d-7d41f3d9ba2a"
   },
   "outputs": [],
   "source": [
    "y_pred_train2 = dtree_tuned.predict(X_train)\n",
    "metrics_score(y_train, y_pred_train2)"
   ]
  },
  {
   "cell_type": "markdown",
   "metadata": {
    "id": "NG14kqxKaHnJ"
   },
   "source": [
    "### Checking Tuned Decision Tree model on training set"
   ]
  },
  {
   "cell_type": "code",
   "execution_count": null,
   "metadata": {
    "colab": {
     "base_uri": "https://localhost:8080/",
     "height": 622
    },
    "executionInfo": {
     "elapsed": 551,
     "status": "ok",
     "timestamp": 1697198334394,
     "user": {
      "displayName": "Leenmel",
      "userId": "15039834560745532025"
     },
     "user_tz": -480
    },
    "id": "tOA542wFaEl6",
    "outputId": "7fe3313c-ccc2-48b9-ecd7-b151fd1d8851"
   },
   "outputs": [],
   "source": [
    "y_pred_test2 = dtree_tuned.predict(X_test)\n",
    "metrics_score(y_test, y_pred_test2)"
   ]
  },
  {
   "cell_type": "markdown",
   "metadata": {
    "id": "n2Vl3SS1aa8p"
   },
   "source": [
    "### Visualizing the tuned decision tree"
   ]
  },
  {
   "cell_type": "code",
   "execution_count": null,
   "metadata": {
    "colab": {
     "base_uri": "https://localhost:8080/"
    },
    "executionInfo": {
     "elapsed": 1403,
     "status": "ok",
     "timestamp": 1697198335788,
     "user": {
      "displayName": "Leenmel",
      "userId": "15039834560745532025"
     },
     "user_tz": -480
    },
    "id": "zYrGUSx3aggp",
    "outputId": "f453aaa4-1fe1-4069-bd20-c5bf3f80ec36"
   },
   "outputs": [],
   "source": [
    "feature_names = list(X_train.columns)\n",
    "plt.figure(figsize=(20, 10))\n",
    "out = tree.plot_tree(\n",
    "    dtree_tuned,\n",
    "    max_depth=3,\n",
    "    feature_names=feature_names,\n",
    "    filled=True,\n",
    "    fontsize=10,\n",
    "    node_ids=True,\n",
    "    class_names=True,\n",
    ")"
   ]
  },
  {
   "cell_type": "markdown",
   "metadata": {
    "id": "yqWDoFfMaWg5"
   },
   "source": [
    "### **Checking important features in tuned decision tree**"
   ]
  },
  {
   "cell_type": "code",
   "execution_count": null,
   "metadata": {
    "colab": {
     "base_uri": "https://localhost:8080/",
     "height": 727
    },
    "executionInfo": {
     "elapsed": 1064,
     "status": "ok",
     "timestamp": 1697198336846,
     "user": {
      "displayName": "Leenmel",
      "userId": "15039834560745532025"
     },
     "user_tz": -480
    },
    "id": "hnsUbIAHbLmr",
    "outputId": "1d50d221-1df6-4510-ac2b-f3c7734b4fa8"
   },
   "outputs": [],
   "source": [
    "importances = dtree_tuned.feature_importances_\n",
    "indices = np.argsort(importances)\n",
    "plt.figure(figsize=(8, 8))\n",
    "plt.title(\"Feature Importances\")\n",
    "plt.barh(range(len(indices)), importances[indices], color=\"violet\", align=\"center\")\n",
    "plt.yticks(range(len(indices)), [feature_names[i] for i in indices], fontsize=8)  # reduced font size to 10\n",
    "plt.xlabel(\"Relative Importance\")\n",
    "plt.show()\n"
   ]
  },
  {
   "cell_type": "markdown",
   "metadata": {
    "id": "Z_PXCYCabEG4"
   },
   "source": [
    "**Observation :**\n",
    "\n",
    "* The top 3 most important features are **Onboard_Entertainment_Excellent**, **Onboard_Entertainment_Good** and **Seat Comfort_Excellent**"
   ]
  },
  {
   "cell_type": "markdown",
   "metadata": {
    "id": "fXrJHYyncC3I"
   },
   "source": [
    "# **Building a Random Forest model**"
   ]
  },
  {
   "cell_type": "code",
   "execution_count": null,
   "metadata": {
    "colab": {
     "base_uri": "https://localhost:8080/",
     "height": 74
    },
    "executionInfo": {
     "elapsed": 3278,
     "status": "ok",
     "timestamp": 1697198340115,
     "user": {
      "displayName": "Leenmel",
      "userId": "15039834560745532025"
     },
     "user_tz": -480
    },
    "id": "DBGSt-BycGOh",
    "outputId": "027ed762-96ed-42ac-f347-1ee8800be6f3"
   },
   "outputs": [],
   "source": [
    "#fitting model to data\n",
    "rf_estimator = RandomForestClassifier( random_state = 1)\n",
    "rf_estimator.fit(X_train, y_train)"
   ]
  },
  {
   "cell_type": "markdown",
   "metadata": {
    "id": "-vTiqYoLcJKS"
   },
   "source": [
    "## Checking Random Forest model on training set"
   ]
  },
  {
   "cell_type": "code",
   "execution_count": null,
   "metadata": {
    "colab": {
     "base_uri": "https://localhost:8080/",
     "height": 622
    },
    "executionInfo": {
     "elapsed": 1012,
     "status": "ok",
     "timestamp": 1697198341122,
     "user": {
      "displayName": "Leenmel",
      "userId": "15039834560745532025"
     },
     "user_tz": -480
    },
    "id": "FGoUdnvKcMpw",
    "outputId": "4167db8a-cb18-4137-895c-ff0f76f8b31a"
   },
   "outputs": [],
   "source": [
    "y_pred_train_rf = rf_estimator.predict(X_train)\n",
    "metrics_score(y_train, y_pred_train_rf)"
   ]
  },
  {
   "cell_type": "markdown",
   "metadata": {
    "id": "aQkMaZaJcQSk"
   },
   "source": [
    "## Checking Random Forest model on test set"
   ]
  },
  {
   "cell_type": "code",
   "execution_count": null,
   "metadata": {
    "colab": {
     "base_uri": "https://localhost:8080/",
     "height": 622
    },
    "executionInfo": {
     "elapsed": 676,
     "status": "ok",
     "timestamp": 1697198341791,
     "user": {
      "displayName": "Leenmel",
      "userId": "15039834560745532025"
     },
     "user_tz": -480
    },
    "id": "AldlSEdUcOw-",
    "outputId": "d88629ac-003d-4eea-f864-59e96e1526f3"
   },
   "outputs": [],
   "source": [
    "y_pred_test_rf = rf_estimator.predict(X_test)\n",
    "metrics_score(y_test, y_pred_test_rf)"
   ]
  },
  {
   "cell_type": "markdown",
   "metadata": {
    "id": "O1-opogQca9A"
   },
   "source": [
    "**Observation**\n",
    "\n",
    "* Overfitting observed since model rather poorly on test data.\n",
    "* Further tuning is needed\n",
    "* The recall score is 0.73 which is lower compared to tuned decision tree 0.77.\n",
    "* Precision score improved by 0.1 from Decision Tree model."
   ]
  },
  {
   "cell_type": "markdown",
   "metadata": {
    "id": "yoS7o1Gtc660"
   },
   "source": [
    "## **Conduct Hyperparameter Tuning on Random Forest**"
   ]
  },
  {
   "cell_type": "code",
   "execution_count": null,
   "metadata": {
    "colab": {
     "base_uri": "https://localhost:8080/",
     "height": 92
    },
    "executionInfo": {
     "elapsed": 1077906,
     "status": "ok",
     "timestamp": 1697199419689,
     "user": {
      "displayName": "Leenmel",
      "userId": "15039834560745532025"
     },
     "user_tz": -480
    },
    "id": "l0wTqNw7c_Q6",
    "outputId": "aff06756-839b-498c-ee95-2fdf41141aca"
   },
   "outputs": [],
   "source": [
    "# Choose the type of classifier\n",
    "rf_estimator_tuned = RandomForestClassifier(class_weight = {0: 0.3, 1: 0.7}, random_state = 1)\n",
    "\n",
    "# Grid of parameters to choose from\n",
    "params_rf = {\n",
    "        \"n_estimators\": [100, 250, 500],\n",
    "        \"min_samples_leaf\": np.arange(1, 4, 1),\n",
    "        \"max_features\": [0.7, 0.9, 'auto'],\n",
    "}\n",
    "\n",
    "\n",
    "# Type of scoring used to compare parameter combinations - recall score for class 1\n",
    "scorer = metrics.make_scorer(recall_score, pos_label = 1)\n",
    "\n",
    "# Run the grid search\n",
    "grid_obj = RandomizedSearchCV(rf_estimator_tuned, params_rf, scoring = scorer, cv = 5, n_jobs=-1)\n",
    "grid_obj = grid_obj.fit(X_train, y_train)\n",
    "\n",
    "# Set the classifier to the best combination of parameters\n",
    "rf_estimator_tuned = grid_obj.best_estimator_\n",
    "\n",
    "# Fitting the best algorithm to the training data\n",
    "rf_estimator_tuned.fit(X_train, y_train)"
   ]
  },
  {
   "cell_type": "markdown",
   "metadata": {
    "id": "N_A14FdBd1nb"
   },
   "source": [
    "## Checking the tuned random forest on training data set"
   ]
  },
  {
   "cell_type": "code",
   "execution_count": null,
   "metadata": {
    "colab": {
     "base_uri": "https://localhost:8080/",
     "height": 622
    },
    "executionInfo": {
     "elapsed": 1078,
     "status": "ok",
     "timestamp": 1697199498769,
     "user": {
      "displayName": "Leenmel",
      "userId": "15039834560745532025"
     },
     "user_tz": -480
    },
    "id": "SXpfJuGJd6vr",
    "outputId": "edcdb252-19bb-4942-aed6-2906528092a3"
   },
   "outputs": [],
   "source": [
    "y_pred_train4 = rf_estimator_tuned.predict(X_train)\n",
    "metrics_score(y_train, y_pred_train4)"
   ]
  },
  {
   "cell_type": "markdown",
   "metadata": {
    "id": "MQYzo3uDd-6N"
   },
   "source": [
    "## Checking the tuned random forest on test data set"
   ]
  },
  {
   "cell_type": "code",
   "execution_count": null,
   "metadata": {
    "colab": {
     "base_uri": "https://localhost:8080/",
     "height": 622
    },
    "executionInfo": {
     "elapsed": 1098,
     "status": "ok",
     "timestamp": 1697199506491,
     "user": {
      "displayName": "Leenmel",
      "userId": "15039834560745532025"
     },
     "user_tz": -480
    },
    "id": "GLr1SCCJeBXi",
    "outputId": "d768b9f2-f297-4613-9640-ec2fd4f97d0e"
   },
   "outputs": [],
   "source": [
    "y_pred_test4 = rf_estimator_tuned.predict(X_test)\n",
    "metrics_score(y_test, y_pred_test4)"
   ]
  },
  {
   "cell_type": "markdown",
   "metadata": {
    "id": "UHzwrZ0eeEJL"
   },
   "source": [
    "**Observation**\n",
    "\n",
    "* The tuned random forest also shows some overfitting, but this performed slightly worse."
   ]
  },
  {
   "cell_type": "markdown",
   "metadata": {
    "id": "Cw82ec7leLP0"
   },
   "source": [
    "## **Checking important features in random forest**"
   ]
  },
  {
   "cell_type": "code",
   "execution_count": null,
   "metadata": {
    "colab": {
     "base_uri": "https://localhost:8080/",
     "height": 727
    },
    "executionInfo": {
     "elapsed": 2431,
     "status": "ok",
     "timestamp": 1697199612641,
     "user": {
      "displayName": "Leenmel",
      "userId": "15039834560745532025"
     },
     "user_tz": -480
    },
    "id": "qNHy3DD2eSsi",
    "outputId": "c09d223d-3144-46ba-bb9e-6ade8f6b4492"
   },
   "outputs": [],
   "source": [
    "importances = rf_estimator.feature_importances_ #decision tree attribute\n",
    "indices = np.argsort(importances) #sort features\n",
    "plt.figure(figsize=(8, 8))\n",
    "plt.title(\"Feature Importances\")\n",
    "plt.barh(range(len(indices)), importances[indices], color=\"violet\", align=\"center\") # positions of the bars on the y-axis, creating horizontal bar chart, importance values\n",
    "plt.yticks(range(len(indices)), [feature_names[i] for i in indices]) #replace y axis labels with feature name\n",
    "plt.xlabel(\"Relative Importance\")\n",
    "plt.show()"
   ]
  },
  {
   "cell_type": "markdown",
   "metadata": {
    "id": "yO9Ki8L0SQkD"
   },
   "source": [
    "# **Checking Test Set**"
   ]
  },
  {
   "cell_type": "code",
   "execution_count": null,
   "metadata": {
    "executionInfo": {
     "elapsed": 1403,
     "status": "ok",
     "timestamp": 1697327514483,
     "user": {
      "displayName": "Leenmel",
      "userId": "15039834560745532025"
     },
     "user_tz": -480
    },
    "id": "559FPhs8STs-"
   },
   "outputs": [],
   "source": [
    "test_travel_data = pd.read_csv('/content/drive/MyDrive/Colab Notebooks/Traveldata_test.csv')\n",
    "test_survey_data = pd.read_csv('/content/drive/MyDrive/Colab Notebooks/Surveydata_test.csv')\n",
    "test_data = pd.merge(test_travel_data, test_survey_data, on=\"ID\")"
   ]
  },
  {
   "cell_type": "code",
   "execution_count": null,
   "metadata": {
    "colab": {
     "base_uri": "https://localhost:8080/",
     "height": 342
    },
    "executionInfo": {
     "elapsed": 336,
     "status": "ok",
     "timestamp": 1697240923707,
     "user": {
      "displayName": "Leenmel",
      "userId": "15039834560745532025"
     },
     "user_tz": -480
    },
    "id": "Vo2Iv-4bUulI",
    "outputId": "3c1abf84-77d3-4f30-b867-7a6282b2c2cb"
   },
   "outputs": [],
   "source": [
    "test_data.head()"
   ]
  },
  {
   "cell_type": "code",
   "execution_count": null,
   "metadata": {
    "executionInfo": {
     "elapsed": 324,
     "status": "ok",
     "timestamp": 1697327525070,
     "user": {
      "displayName": "Leenmel",
      "userId": "15039834560745532025"
     },
     "user_tz": -480
    },
    "id": "axQyORD1AKSf"
   },
   "outputs": [],
   "source": [
    "#Drop ID column\n",
    "test_data.drop(columns='ID', inplace=True)"
   ]
  },
  {
   "cell_type": "code",
   "execution_count": null,
   "metadata": {
    "colab": {
     "base_uri": "https://localhost:8080/",
     "height": 175
    },
    "executionInfo": {
     "elapsed": 6,
     "status": "ok",
     "timestamp": 1697240929463,
     "user": {
      "displayName": "Leenmel",
      "userId": "15039834560745532025"
     },
     "user_tz": -480
    },
    "id": "4KDW3UlsHGCA",
    "outputId": "d069c3c7-9a5d-40f9-ff18-58614743bfc3"
   },
   "outputs": [],
   "source": [
    "#check info\n",
    "test_data.describe().T"
   ]
  },
  {
   "cell_type": "code",
   "execution_count": null,
   "metadata": {
    "colab": {
     "base_uri": "https://localhost:8080/",
     "height": 676
    },
    "executionInfo": {
     "elapsed": 534,
     "status": "ok",
     "timestamp": 1697240933251,
     "user": {
      "displayName": "Leenmel",
      "userId": "15039834560745532025"
     },
     "user_tz": -480
    },
    "id": "JW0cZDzLCxyC",
    "outputId": "fb3c3011-1558-4c91-fe4a-dc7a7b5012cc"
   },
   "outputs": [],
   "source": [
    "# data.shape[0] will give us the number of rows in the dataset\n",
    "# selecting the instances where missing value is greater than 0\n",
    "pd.DataFrame({'Count':test_data.isnull().sum()[test_data.isnull().sum()>0],'Percentage':(test_data.isnull().sum()[test_data.isnull().sum()>0]/test_data.shape[0])*100})"
   ]
  },
  {
   "cell_type": "code",
   "execution_count": null,
   "metadata": {
    "id": "dNN0oGZXEy2e"
   },
   "outputs": [],
   "source": [
    "#new dataframe\n",
    "new_test_data = test_data.copy()"
   ]
  },
  {
   "cell_type": "code",
   "execution_count": null,
   "metadata": {
    "id": "tfZvK-MXHbrO"
   },
   "outputs": [],
   "source": [
    "#Impute Gender with Mode\n",
    "new_test_data['Gender'].fillna(new_test_data['Gender'].mode()[0], inplace = True)"
   ]
  },
  {
   "cell_type": "code",
   "execution_count": null,
   "metadata": {
    "id": "fzhE4IMOKWi9"
   },
   "outputs": [],
   "source": [
    "#Impute Customer_Type with Mode\n",
    "new_test_data['Customer_Type'].fillna(new_test_data['Customer_Type'].mode()[0], inplace = True)"
   ]
  },
  {
   "cell_type": "code",
   "execution_count": null,
   "metadata": {
    "id": "RtYQ1AsCE3Ll"
   },
   "outputs": [],
   "source": [
    "#Impute Age with Mean\n",
    "new_test_data['Age'].fillna(new_test_data['Age'].mean(), inplace = True)"
   ]
  },
  {
   "cell_type": "code",
   "execution_count": null,
   "metadata": {
    "id": "yPGBgXO4Kfvf"
   },
   "outputs": [],
   "source": [
    "#Impute Type_Travel with Mode\n",
    "new_test_data['Type_Travel'].fillna(new_test_data['Type_Travel'].mode()[0], inplace = True)"
   ]
  },
  {
   "cell_type": "code",
   "execution_count": null,
   "metadata": {
    "id": "SgGtPjdNFHwC"
   },
   "outputs": [],
   "source": [
    "# Impute Departure_Delay_in_Mins with its median\n",
    "new_test_data['Departure_Delay_in_Mins'].fillna(new_test_data['Departure_Delay_in_Mins'].median(), inplace=True)"
   ]
  },
  {
   "cell_type": "code",
   "execution_count": null,
   "metadata": {
    "id": "4U8SNU3NGJ1M"
   },
   "outputs": [],
   "source": [
    "# Impute Departure_Delay_in_Mins with its median\n",
    "new_test_data['Arrival_Delay_in_Mins'].fillna(new_test_data['Arrival_Delay_in_Mins'].median(), inplace=True)"
   ]
  },
  {
   "cell_type": "code",
   "execution_count": null,
   "metadata": {
    "id": "QIy8nVQTKsU8"
   },
   "outputs": [],
   "source": [
    "#Impute Seat_Comfort with Mode\n",
    "new_test_data['Seat_Comfort'].fillna(new_test_data['Seat_Comfort'].mode()[0], inplace = True)"
   ]
  },
  {
   "cell_type": "code",
   "execution_count": null,
   "metadata": {
    "id": "sqovIpEeKwd1"
   },
   "outputs": [],
   "source": [
    "#Impute Arrival_Time_Convenient with Mode\n",
    "new_test_data['Arrival_Time_Convenient'].fillna(new_test_data['Arrival_Time_Convenient'].mode()[0], inplace = True)"
   ]
  },
  {
   "cell_type": "code",
   "execution_count": null,
   "metadata": {
    "id": "z6QYzlKbKzeK"
   },
   "outputs": [],
   "source": [
    "#Impute Catering with Mode\n",
    "new_test_data['Catering'].fillna(new_test_data['Catering'].mode()[0], inplace = True)"
   ]
  },
  {
   "cell_type": "code",
   "execution_count": null,
   "metadata": {
    "id": "8LsS_5GVK2aj"
   },
   "outputs": [],
   "source": [
    "#Impute Platform_Location with Mode\n",
    "new_test_data['Platform_Location'].fillna(new_test_data['Platform_Location'].mode()[0], inplace = True)"
   ]
  },
  {
   "cell_type": "code",
   "execution_count": null,
   "metadata": {
    "id": "JDCnCy24K2tL"
   },
   "outputs": [],
   "source": [
    "#Impute Onboard_Wifi_Service with Mode\n",
    "new_test_data['Onboard_Wifi_Service'].fillna(new_test_data['Onboard_Wifi_Service'].mode()[0], inplace = True)"
   ]
  },
  {
   "cell_type": "code",
   "execution_count": null,
   "metadata": {
    "id": "LcZSSA5SK3Al"
   },
   "outputs": [],
   "source": [
    "#Impute Onboard_Entertainment with Mode\n",
    "new_test_data['Onboard_Entertainment'].fillna(new_test_data['Onboard_Entertainment'].mode()[0], inplace = True)"
   ]
  },
  {
   "cell_type": "code",
   "execution_count": null,
   "metadata": {
    "id": "H4o0JCQsMVrq"
   },
   "outputs": [],
   "source": [
    "#Impute Online_Support with Mode\n",
    "new_test_data['Online_Support'].fillna(new_test_data['Online_Support'].mode()[0], inplace = True)"
   ]
  },
  {
   "cell_type": "code",
   "execution_count": null,
   "metadata": {
    "id": "ZEV-HNkmK3aZ"
   },
   "outputs": [],
   "source": [
    "#Impute Ease_of_Online_Booking with Mode\n",
    "new_test_data['Ease_of_Online_Booking'].fillna(new_test_data['Ease_of_Online_Booking'].mode()[0], inplace = True)"
   ]
  },
  {
   "cell_type": "code",
   "execution_count": null,
   "metadata": {
    "id": "XUQDEAw5LMKS"
   },
   "outputs": [],
   "source": [
    "#Impute Onboard_Service with Mode\n",
    "new_test_data['Onboard_Service'].fillna(new_test_data['Onboard_Service'].mode()[0], inplace = True)"
   ]
  },
  {
   "cell_type": "code",
   "execution_count": null,
   "metadata": {
    "id": "tQ2sdx5NLOaY"
   },
   "outputs": [],
   "source": [
    "#Impute Legroom with Mode\n",
    "new_test_data['Legroom'].fillna(new_test_data['Legroom'].mode()[0], inplace = True)"
   ]
  },
  {
   "cell_type": "code",
   "execution_count": null,
   "metadata": {
    "id": "YbZZ0PQgLO26"
   },
   "outputs": [],
   "source": [
    "#Impute Baggage_Handling with Mode\n",
    "new_test_data['Baggage_Handling'].fillna(new_test_data['Baggage_Handling'].mode()[0], inplace = True)"
   ]
  },
  {
   "cell_type": "code",
   "execution_count": null,
   "metadata": {
    "id": "iVs6qgnsLPI7"
   },
   "outputs": [],
   "source": [
    "#Impute CheckIn_Service with Mode\n",
    "new_test_data['CheckIn_Service'].fillna(new_test_data['CheckIn_Service'].mode()[0], inplace = True)"
   ]
  },
  {
   "cell_type": "code",
   "execution_count": null,
   "metadata": {
    "id": "R1cH5kTFLPdM"
   },
   "outputs": [],
   "source": [
    "#Impute Cleanliness with Mode\n",
    "new_test_data['Cleanliness'].fillna(new_test_data['Cleanliness'].mode()[0], inplace = True)"
   ]
  },
  {
   "cell_type": "code",
   "execution_count": null,
   "metadata": {
    "id": "dVvW06ZTLP8e"
   },
   "outputs": [],
   "source": [
    "#Impute Online_Boarding with Mode\n",
    "new_test_data['Online_Boarding'].fillna(new_test_data['Online_Boarding'].mode()[0], inplace = True)"
   ]
  },
  {
   "cell_type": "code",
   "execution_count": null,
   "metadata": {
    "colab": {
     "base_uri": "https://localhost:8080/",
     "height": 53
    },
    "executionInfo": {
     "elapsed": 322,
     "status": "ok",
     "timestamp": 1697203196608,
     "user": {
      "displayName": "Leenmel",
      "userId": "15039834560745532025"
     },
     "user_tz": -480
    },
    "id": "ScmpNxd6GTIy",
    "outputId": "4b74c765-d7fd-45e7-ec44-cbc5cd33a73e"
   },
   "outputs": [],
   "source": [
    "# checking missing values after imputation\n",
    "pd.DataFrame({'Count':new_test_data.isnull().sum()[new_test_data.isnull().sum()>0],'Percentage':(new_test_data.isnull().sum()[new_test_data.isnull().sum()>0]/new_test_data.shape[0])*100})"
   ]
  },
  {
   "cell_type": "code",
   "execution_count": null,
   "metadata": {
    "id": "tPhWLpB5keO9"
   },
   "outputs": [],
   "source": [
    "#one hot encode\n",
    "new_test_data=pd.get_dummies(new_test_data, drop_first=True)"
   ]
  },
  {
   "cell_type": "code",
   "execution_count": null,
   "metadata": {
    "colab": {
     "base_uri": "https://localhost:8080/"
    },
    "executionInfo": {
     "elapsed": 3,
     "status": "ok",
     "timestamp": 1697203200839,
     "user": {
      "displayName": "Leenmel",
      "userId": "15039834560745532025"
     },
     "user_tz": -480
    },
    "id": "IlKX9M6z_3kn",
    "outputId": "a81fa837-3352-4db3-a1e3-1a9b7b850c5d"
   },
   "outputs": [],
   "source": [
    "new_test_data.shape"
   ]
  },
  {
   "cell_type": "code",
   "execution_count": null,
   "metadata": {
    "colab": {
     "base_uri": "https://localhost:8080/",
     "height": 273
    },
    "executionInfo": {
     "elapsed": 519,
     "status": "ok",
     "timestamp": 1697203216958,
     "user": {
      "displayName": "Leenmel",
      "userId": "15039834560745532025"
     },
     "user_tz": -480
    },
    "id": "u0dTfCTcASOE",
    "outputId": "3558ed4b-46f6-4b33-a836-bf7ec24b126a"
   },
   "outputs": [],
   "source": [
    "new_test_data.head()"
   ]
  },
  {
   "cell_type": "code",
   "execution_count": null,
   "metadata": {
    "colab": {
     "base_uri": "https://localhost:8080/",
     "height": 273
    },
    "executionInfo": {
     "elapsed": 6,
     "status": "ok",
     "timestamp": 1697203205907,
     "user": {
      "displayName": "Leenmel",
      "userId": "15039834560745532025"
     },
     "user_tz": -480
    },
    "id": "iro7HSuoAUjp",
    "outputId": "5a9d9c6c-0ee7-44ba-83a0-4d81a52d1962"
   },
   "outputs": [],
   "source": [
    "X_train.head()"
   ]
  },
  {
   "cell_type": "code",
   "execution_count": null,
   "metadata": {
    "colab": {
     "base_uri": "https://localhost:8080/"
    },
    "executionInfo": {
     "elapsed": 378,
     "status": "ok",
     "timestamp": 1697203224195,
     "user": {
      "displayName": "Leenmel",
      "userId": "15039834560745532025"
     },
     "user_tz": -480
    },
    "id": "QWr1HjxZBGwv",
    "outputId": "7b0ed372-f9bf-480f-fb4f-8f67f4fec092"
   },
   "outputs": [],
   "source": [
    "# Find columns in X_train that are not in test_data\n",
    "missing_columns = [col for col in X_train.columns if col not in new_test_data.columns]\n",
    "print(\"Missing columns in X_test:\", missing_columns)"
   ]
  },
  {
   "cell_type": "code",
   "execution_count": null,
   "metadata": {
    "id": "9jmakfwvBWl0"
   },
   "outputs": [],
   "source": [
    "#Add these missing columns to test_data with values set to zero\n",
    "for col in missing_columns:\n",
    "    new_test_data[col] = 0"
   ]
  },
  {
   "cell_type": "code",
   "execution_count": null,
   "metadata": {
    "colab": {
     "base_uri": "https://localhost:8080/",
     "height": 273
    },
    "executionInfo": {
     "elapsed": 572,
     "status": "ok",
     "timestamp": 1697203236757,
     "user": {
      "displayName": "Leenmel",
      "userId": "15039834560745532025"
     },
     "user_tz": -480
    },
    "id": "hxkwDXkpBuiL",
    "outputId": "8d8408b5-e7bc-4c65-e9fb-35a997bd0923"
   },
   "outputs": [],
   "source": [
    "new_test_data.head()"
   ]
  },
  {
   "cell_type": "code",
   "execution_count": null,
   "metadata": {
    "id": "Rn36LuFzCJKV"
   },
   "outputs": [],
   "source": [
    "#match the order of columns in test_data and X\n",
    "new_test_data = new_test_data[X_train.columns]\n"
   ]
  },
  {
   "cell_type": "markdown",
   "metadata": {
    "id": "0yptKhVJj3YQ"
   },
   "source": [
    "**Testing with Random Forest**"
   ]
  },
  {
   "cell_type": "code",
   "execution_count": null,
   "metadata": {
    "id": "KAw7iT_tj9dG"
   },
   "outputs": [],
   "source": [
    "new_test_data_rf = rf_estimator.predict(new_test_data)"
   ]
  },
  {
   "cell_type": "code",
   "execution_count": null,
   "metadata": {
    "id": "Kv2VG9YINEbu"
   },
   "outputs": [],
   "source": [
    "#Putting back ID column\n",
    "original_test_data = pd.read_csv(\"/content/drive/MyDrive/Colab Notebooks/Traveldata_test.csv\")\n",
    "IDs = original_test_data[\"ID\"].values"
   ]
  },
  {
   "cell_type": "code",
   "execution_count": null,
   "metadata": {
    "id": "L7tjOPWSOQqr"
   },
   "outputs": [],
   "source": [
    "#Create a dataframe\n",
    "df_output = pd.DataFrame({\n",
    "    'ID': IDs,\n",
    "    'Overall_Experience': new_test_data_rf\n",
    "})"
   ]
  },
  {
   "cell_type": "code",
   "execution_count": null,
   "metadata": {
    "id": "TqS2h-BnOXAY"
   },
   "outputs": [],
   "source": [
    "# Save to CSV\n",
    "df_output.to_csv('output.csv', index=False)"
   ]
  },
  {
   "cell_type": "markdown",
   "metadata": {
    "id": "Yw91UYsPY59I"
   },
   "source": [
    "# **XGBoost**"
   ]
  },
  {
   "cell_type": "code",
   "execution_count": null,
   "metadata": {
    "id": "HKvEWOJCZQJ_"
   },
   "outputs": [],
   "source": [
    "# Separating target variable and other variables\n",
    "X2=data_join.drop(columns='Overall_Experience')\n",
    "Y2=data_join['Overall_Experience']"
   ]
  },
  {
   "cell_type": "code",
   "execution_count": null,
   "metadata": {
    "colab": {
     "base_uri": "https://localhost:8080/",
     "height": 342
    },
    "executionInfo": {
     "elapsed": 6,
     "status": "ok",
     "timestamp": 1697283704956,
     "user": {
      "displayName": "Leenmel",
      "userId": "15039834560745532025"
     },
     "user_tz": -480
    },
    "id": "K8ZPph61ZQKA",
    "outputId": "16429b00-0614-410c-ab9c-7d4471cc2b00"
   },
   "outputs": [],
   "source": [
    "X2.head() #checking"
   ]
  },
  {
   "cell_type": "code",
   "execution_count": null,
   "metadata": {
    "id": "2-MJhlL2f-Cu"
   },
   "outputs": [],
   "source": [
    "X2=X2.drop(columns='ID')"
   ]
  },
  {
   "cell_type": "code",
   "execution_count": null,
   "metadata": {
    "colab": {
     "base_uri": "https://localhost:8080/"
    },
    "executionInfo": {
     "elapsed": 3,
     "status": "ok",
     "timestamp": 1697283708616,
     "user": {
      "displayName": "Leenmel",
      "userId": "15039834560745532025"
     },
     "user_tz": -480
    },
    "id": "QbImVxElZQKA",
    "outputId": "46d95348-dc29-4f3f-ee27-fa4da04af32f"
   },
   "outputs": [],
   "source": [
    "Y2.head() #checking target variable"
   ]
  },
  {
   "cell_type": "code",
   "execution_count": null,
   "metadata": {
    "colab": {
     "base_uri": "https://localhost:8080/"
    },
    "executionInfo": {
     "elapsed": 5,
     "status": "ok",
     "timestamp": 1697283710027,
     "user": {
      "displayName": "Leenmel",
      "userId": "15039834560745532025"
     },
     "user_tz": -480
    },
    "id": "GCTKXNXLey2j",
    "outputId": "be7f0c8f-004c-41b0-d33d-17dc3be70b9a"
   },
   "outputs": [],
   "source": [
    "Y2.value_counts()"
   ]
  },
  {
   "cell_type": "code",
   "execution_count": null,
   "metadata": {
    "id": "nDl3ge24_y34"
   },
   "outputs": [],
   "source": [
    "from sklearn.metrics import classification_report, confusion_matrix\n",
    "import seaborn as sns\n",
    "import matplotlib.pyplot as plt\n",
    "\n",
    "def metrics_score(actual, predicted):\n",
    "    print(classification_report(actual, predicted))\n",
    "\n",
    "    cm = confusion_matrix(actual, predicted)\n",
    "    sns.heatmap(cm, annot=True, fmt='.5f')  # .5g formats to 5 significant figures\n",
    "    plt.ylabel('Actual')\n",
    "    plt.xlabel('Predicted')\n",
    "    plt.show()\n"
   ]
  },
  {
   "cell_type": "code",
   "execution_count": null,
   "metadata": {
    "colab": {
     "base_uri": "https://localhost:8080/"
    },
    "executionInfo": {
     "elapsed": 3,
     "status": "ok",
     "timestamp": 1697283711532,
     "user": {
      "displayName": "Leenmel",
      "userId": "15039834560745532025"
     },
     "user_tz": -480
    },
    "id": "cnTKw_PhZQKB",
    "outputId": "13bb1be8-8a4c-44b3-b443-e3a06af7ff03"
   },
   "outputs": [],
   "source": [
    "cat_col"
   ]
  },
  {
   "cell_type": "code",
   "execution_count": null,
   "metadata": {
    "id": "PgszkjsvZQKB"
   },
   "outputs": [],
   "source": [
    "#Create dummies for X, convert categorial to binary numerical for machine learning\n",
    "X2 = pd.get_dummies(X2,columns = cat_col, drop_first=True)"
   ]
  },
  {
   "cell_type": "code",
   "execution_count": null,
   "metadata": {
    "colab": {
     "base_uri": "https://localhost:8080/",
     "height": 273
    },
    "executionInfo": {
     "elapsed": 6,
     "status": "ok",
     "timestamp": 1697283716010,
     "user": {
      "displayName": "Leenmel",
      "userId": "15039834560745532025"
     },
     "user_tz": -480
    },
    "id": "Xuy_GAlHZQKB",
    "outputId": "971a6576-90b6-48e1-de38-c8b1a511d07e"
   },
   "outputs": [],
   "source": [
    "X2.head()"
   ]
  },
  {
   "cell_type": "markdown",
   "metadata": {
    "id": "_Nkg4fJ3ZQKC"
   },
   "source": [
    "### **Splitting the data into 70% train and 30% test set**"
   ]
  },
  {
   "cell_type": "code",
   "execution_count": null,
   "metadata": {
    "id": "JQPgLpCkZQKC"
   },
   "outputs": [],
   "source": [
    "# Splitting the data into train and test sets\n",
    "# stratify since there are more 0s than 1s in target variable\n",
    "X2_train,X2_test,y2_train,y2_test=train_test_split(X2,Y2,test_size=0.30,random_state=1, stratify = Y2)"
   ]
  },
  {
   "cell_type": "code",
   "execution_count": null,
   "metadata": {
    "colab": {
     "base_uri": "https://localhost:8080/"
    },
    "executionInfo": {
     "elapsed": 5,
     "status": "ok",
     "timestamp": 1697283721179,
     "user": {
      "displayName": "Leenmel",
      "userId": "15039834560745532025"
     },
     "user_tz": -480
    },
    "id": "39RRWVgfZQKD",
    "outputId": "f37f2bc4-d62b-439f-be06-9fea74cc4a45"
   },
   "outputs": [],
   "source": [
    "# Checking that no column has missing values in train or test sets\n",
    "print(X2_train.isna().sum())\n",
    "print(\"-\" * 30)\n",
    "print(X2_test.isna().sum())"
   ]
  },
  {
   "cell_type": "code",
   "execution_count": null,
   "metadata": {
    "colab": {
     "base_uri": "https://localhost:8080/"
    },
    "executionInfo": {
     "elapsed": 396,
     "status": "ok",
     "timestamp": 1697283724062,
     "user": {
      "displayName": "Leenmel",
      "userId": "15039834560745532025"
     },
     "user_tz": -480
    },
    "id": "cwQPWtNZZQKD",
    "outputId": "388b5de5-9a70-4d08-9b6b-18b552737e33"
   },
   "outputs": [],
   "source": [
    "print(X2_train.shape, X2_test.shape)"
   ]
  },
  {
   "cell_type": "code",
   "execution_count": null,
   "metadata": {
    "colab": {
     "base_uri": "https://localhost:8080/",
     "height": 273
    },
    "executionInfo": {
     "elapsed": 380,
     "status": "ok",
     "timestamp": 1697283726751,
     "user": {
      "displayName": "Leenmel",
      "userId": "15039834560745532025"
     },
     "user_tz": -480
    },
    "id": "FSSPwvpIgYQY",
    "outputId": "d423b703-f3a4-4f16-b7f1-7d89e61c8163"
   },
   "outputs": [],
   "source": [
    "X2_train.head()"
   ]
  },
  {
   "cell_type": "code",
   "execution_count": null,
   "metadata": {
    "colab": {
     "base_uri": "https://localhost:8080/",
     "height": 248
    },
    "executionInfo": {
     "elapsed": 5285,
     "status": "ok",
     "timestamp": 1697283744232,
     "user": {
      "displayName": "Leenmel",
      "userId": "15039834560745532025"
     },
     "user_tz": -480
    },
    "id": "OwOIFJEtbCjf",
    "outputId": "4441349e-b6af-43ac-cf88-c33127a4a822"
   },
   "outputs": [],
   "source": [
    "# Assuming it's a classification task. For regression, use XGBRegressor.\n",
    "xgb_model = XGBClassifier(objective='binary:logistic', n_estimators=100, random_state=42)\n",
    "xgb_model.fit(X2_train, y2_train)  # Assuming you have X_train and y_train already."
   ]
  },
  {
   "cell_type": "markdown",
   "metadata": {
    "id": "SRydM0fob3TW"
   },
   "source": [
    "## Checking the xgboost on training data set"
   ]
  },
  {
   "cell_type": "code",
   "execution_count": null,
   "metadata": {
    "colab": {
     "base_uri": "https://localhost:8080/",
     "height": 628
    },
    "executionInfo": {
     "elapsed": 1185,
     "status": "ok",
     "timestamp": 1697284127686,
     "user": {
      "displayName": "Leenmel",
      "userId": "15039834560745532025"
     },
     "user_tz": -480
    },
    "id": "0hLRMq4ib3TV",
    "outputId": "7b40c301-da73-4391-ab42-be846ecf7596"
   },
   "outputs": [],
   "source": [
    "y_pred_train5 = xgb_model.predict(X2_train)\n",
    "metrics_score(y2_train, y_pred_train5)"
   ]
  },
  {
   "cell_type": "markdown",
   "metadata": {
    "id": "uaOWmvApcM85"
   },
   "source": [
    "**Checking the tuned random forest on test data set**"
   ]
  },
  {
   "cell_type": "code",
   "execution_count": null,
   "metadata": {
    "colab": {
     "base_uri": "https://localhost:8080/",
     "height": 622
    },
    "executionInfo": {
     "elapsed": 769,
     "status": "ok",
     "timestamp": 1697284130673,
     "user": {
      "displayName": "Leenmel",
      "userId": "15039834560745532025"
     },
     "user_tz": -480
    },
    "id": "SE5S5uXtbLz1",
    "outputId": "00bea05b-0250-4a6a-867d-a4155a42b686"
   },
   "outputs": [],
   "source": [
    "#testing\n",
    "y_pred_test5 = xgb_model.predict(X2_test)\n",
    "metrics_score(y2_test, y_pred_test5)"
   ]
  },
  {
   "cell_type": "markdown",
   "metadata": {
    "id": "aH3s79YHcbTU"
   },
   "source": [
    "# **Testing with new test data set**"
   ]
  },
  {
   "cell_type": "code",
   "execution_count": null,
   "metadata": {
    "colab": {
     "base_uri": "https://localhost:8080/",
     "height": 200
    },
    "executionInfo": {
     "elapsed": 379,
     "status": "error",
     "timestamp": 1697284135865,
     "user": {
      "displayName": "Leenmel",
      "userId": "15039834560745532025"
     },
     "user_tz": -480
    },
    "id": "nmMcOuk8cegW",
    "outputId": "a5663923-abcf-4af2-8fdf-b4f34ee9f961"
   },
   "outputs": [],
   "source": [
    "#new dataframe\n",
    "new_test_data2 = test_data.copy()"
   ]
  },
  {
   "cell_type": "code",
   "execution_count": null,
   "metadata": {
    "id": "l9i4Kd9XcoJF"
   },
   "outputs": [],
   "source": [
    "#one hot encode\n",
    "new_test_data2=pd.get_dummies(new_test_data2, drop_first=True)"
   ]
  },
  {
   "cell_type": "code",
   "execution_count": null,
   "metadata": {
    "colab": {
     "base_uri": "https://localhost:8080/"
    },
    "executionInfo": {
     "elapsed": 4,
     "status": "ok",
     "timestamp": 1697241962033,
     "user": {
      "displayName": "Leenmel",
      "userId": "15039834560745532025"
     },
     "user_tz": -480
    },
    "id": "ypnXcNhXcoJG",
    "outputId": "44ba2804-9d70-411e-f8c4-78a5e3eed4b2"
   },
   "outputs": [],
   "source": [
    "new_test_data2.shape"
   ]
  },
  {
   "cell_type": "code",
   "execution_count": null,
   "metadata": {
    "colab": {
     "base_uri": "https://localhost:8080/",
     "height": 273
    },
    "executionInfo": {
     "elapsed": 3,
     "status": "ok",
     "timestamp": 1697241963642,
     "user": {
      "displayName": "Leenmel",
      "userId": "15039834560745532025"
     },
     "user_tz": -480
    },
    "id": "LrPMXQgycoJG",
    "outputId": "6496acdf-ed1c-47dd-89a4-4fe8bd2dc0b2"
   },
   "outputs": [],
   "source": [
    "new_test_data2.head()"
   ]
  },
  {
   "cell_type": "code",
   "execution_count": null,
   "metadata": {
    "colab": {
     "base_uri": "https://localhost:8080/"
    },
    "executionInfo": {
     "elapsed": 2,
     "status": "ok",
     "timestamp": 1697242050329,
     "user": {
      "displayName": "Leenmel",
      "userId": "15039834560745532025"
     },
     "user_tz": -480
    },
    "id": "GJ6jhvsJcoJG",
    "outputId": "f1390ecd-cfd5-4896-9a11-2d4dd7d9cb33"
   },
   "outputs": [],
   "source": [
    "# Find columns in X_train that are not in test_data\n",
    "missing_columns2 = [col for col in X2_train.columns if col not in new_test_data2.columns]\n",
    "print(\"Missing columns in X_test:\", missing_columns2)"
   ]
  },
  {
   "cell_type": "code",
   "execution_count": null,
   "metadata": {
    "id": "6-M2JyIkcoJG"
   },
   "outputs": [],
   "source": [
    "#Add these missing columns to test_data with values set to zero\n",
    "for col in missing_columns2:\n",
    "    new_test_data2[col] = 0"
   ]
  },
  {
   "cell_type": "code",
   "execution_count": null,
   "metadata": {
    "colab": {
     "base_uri": "https://localhost:8080/",
     "height": 273
    },
    "executionInfo": {
     "elapsed": 454,
     "status": "ok",
     "timestamp": 1697242060745,
     "user": {
      "displayName": "Leenmel",
      "userId": "15039834560745532025"
     },
     "user_tz": -480
    },
    "id": "HmPlCJsocoJG",
    "outputId": "2047cf93-2803-4704-ca72-09d30ab00104"
   },
   "outputs": [],
   "source": [
    "new_test_data2.head()"
   ]
  },
  {
   "cell_type": "code",
   "execution_count": null,
   "metadata": {
    "id": "9nt-pROUcoJH"
   },
   "outputs": [],
   "source": [
    "#match the order of columns in test_data and X\n",
    "new_test_data2 = new_test_data2[X2_train.columns]\n"
   ]
  },
  {
   "cell_type": "markdown",
   "metadata": {
    "id": "3dkGXVwdcoJH"
   },
   "source": [
    "**Testing with Random Forest**"
   ]
  },
  {
   "cell_type": "code",
   "execution_count": null,
   "metadata": {
    "id": "_zB3MVrdcoJH"
   },
   "outputs": [],
   "source": [
    "new_test_data2_xgboost = xgb_model.predict(new_test_data2)"
   ]
  },
  {
   "cell_type": "code",
   "execution_count": null,
   "metadata": {
    "id": "h2VHsxvHcoJH"
   },
   "outputs": [],
   "source": [
    "#Putting back ID column\n",
    "original_test_data = pd.read_csv(\"/content/drive/MyDrive/Colab Notebooks/Traveldata_test.csv\")\n",
    "IDs = original_test_data[\"ID\"].values"
   ]
  },
  {
   "cell_type": "code",
   "execution_count": null,
   "metadata": {
    "id": "Qd8xtgh0coJH"
   },
   "outputs": [],
   "source": [
    "#Create a dataframe\n",
    "df_output2 = pd.DataFrame({\n",
    "    'ID': IDs,\n",
    "    'Overall_Experience': new_test_data2_xgboost\n",
    "})"
   ]
  },
  {
   "cell_type": "code",
   "execution_count": null,
   "metadata": {
    "id": "9TQ_jJcncoJH"
   },
   "outputs": [],
   "source": [
    "# Save to CSV\n",
    "df_output2.to_csv('xgboostoutput3.csv', index=False)"
   ]
  },
  {
   "cell_type": "markdown",
   "metadata": {
    "id": "NQ2CCWmRhqvH"
   },
   "source": [
    "# Tuning XGboost"
   ]
  },
  {
   "cell_type": "code",
   "execution_count": null,
   "metadata": {
    "colab": {
     "base_uri": "https://localhost:8080/",
     "height": 425
    },
    "executionInfo": {
     "elapsed": 34135,
     "status": "error",
     "timestamp": 1697284353231,
     "user": {
      "displayName": "Leenmel",
      "userId": "15039834560745532025"
     },
     "user_tz": -480
    },
    "id": "t9zG3OxGhtQY",
    "outputId": "6d7d8cda-189b-4f0d-ac09-83917383b84b"
   },
   "outputs": [],
   "source": [
    "import xgboost as xgb\n",
    "from sklearn.model_selection import RandomizedSearchCV\n",
    "\n",
    "# Set the hyperparameters' range\n",
    "param_dist = {\n",
    "    'learning_rate': [0.01, 0.05, 0.1, 0.3, 0.5],\n",
    "    'n_estimators': [50, 100, 250, 500, 1000],\n",
    "    'max_depth': [3, 5, 7, 9, 10],\n",
    "    'subsample': [0.5, 0.6, 0.7, 0.8, 0.9, 1.0],\n",
    "    'colsample_bytree': [0.4, 0.5, 0.6, 0.7, 0.8, 0.9, 1.0],\n",
    "    'gamma': [0, 0.25, 0.5, 1.0],\n",
    "    'reg_lambda': [0.1, 1.0, 5.0, 10.0],\n",
    "    'min_child_weight': [1, 2, 3, 4]\n",
    "}\n",
    "\n",
    "# Initialize XGBoost classifier\n",
    "xgb_tunedmodel = xgb.XGBClassifier(objective=\"binary:logistic\", random_state=42)\n",
    "\n",
    "# Random search\n",
    "random_search = RandomizedSearchCV(\n",
    "    xgb_tunedmodel,\n",
    "    param_distributions=param_dist,\n",
    "    n_iter=100,\n",
    "    scoring='accuracy',\n",
    "    cv=5,\n",
    "    verbose=1,\n",
    "    n_jobs=-1,\n",
    "    random_state=42\n",
    ")\n",
    "\n",
    "random_search.fit(X2_train, y2_train)\n",
    "\n",
    "# Output the best parameters and corresponding score\n",
    "print(\"Best parameters found: \", random_search.best_params_)\n",
    "print(\"Best cross-validation accuracy: {:.2f}\".format(random_search.best_score_))\n"
   ]
  },
  {
   "cell_type": "code",
   "execution_count": null,
   "metadata": {
    "colab": {
     "base_uri": "https://localhost:8080/",
     "height": 623
    },
    "executionInfo": {
     "elapsed": 2506,
     "status": "ok",
     "timestamp": 1697246040802,
     "user": {
      "displayName": "Leenmel",
      "userId": "15039834560745532025"
     },
     "user_tz": -480
    },
    "id": "AN8NKRpPvbg0",
    "outputId": "f0079bfe-6f29-4b41-88ba-5dc9c3de8310"
   },
   "outputs": [],
   "source": [
    "best_xgb = random_search.best_estimator_\n",
    "\n",
    "# Predictions\n",
    "y_pred_train6 = best_xgb.predict(X2_train)\n",
    "metrics_score(y2_train, y_pred_train6)\n",
    "\n",
    "\n"
   ]
  },
  {
   "cell_type": "code",
   "execution_count": null,
   "metadata": {
    "colab": {
     "base_uri": "https://localhost:8080/",
     "height": 622
    },
    "executionInfo": {
     "elapsed": 2175,
     "status": "ok",
     "timestamp": 1697246069657,
     "user": {
      "displayName": "Leenmel",
      "userId": "15039834560745532025"
     },
     "user_tz": -480
    },
    "id": "E-BfN-SFv13K",
    "outputId": "173b8cdd-c77b-4cb0-a6c6-9072c58fa19d"
   },
   "outputs": [],
   "source": [
    "# Predictions\n",
    "y_pred_test6 = best_xgb.predict(X2_test)\n",
    "metrics_score(y2_test, y_pred_test6)\n"
   ]
  },
  {
   "cell_type": "markdown",
   "metadata": {
    "id": "0H0NyqRUwFwb"
   },
   "source": [
    "**Testing with tuned XGboost**"
   ]
  },
  {
   "cell_type": "code",
   "execution_count": null,
   "metadata": {
    "id": "BBKT-pIqwFwb"
   },
   "outputs": [],
   "source": [
    "new_test_data2_xgboost = best_xgb.predict(new_test_data2)"
   ]
  },
  {
   "cell_type": "code",
   "execution_count": null,
   "metadata": {
    "id": "HbvVC3GTwFwb"
   },
   "outputs": [],
   "source": [
    "#Putting back ID column\n",
    "original_test_data = pd.read_csv(\"/content/drive/MyDrive/Colab Notebooks/Traveldata_test.csv\")\n",
    "IDs = original_test_data[\"ID\"].values"
   ]
  },
  {
   "cell_type": "code",
   "execution_count": null,
   "metadata": {
    "id": "qaTShcj3wFwb"
   },
   "outputs": [],
   "source": [
    "#Create a dataframe\n",
    "df_output3 = pd.DataFrame({\n",
    "    'ID': IDs,\n",
    "    'Overall_Experience': new_test_data2_xgboost\n",
    "})"
   ]
  },
  {
   "cell_type": "code",
   "execution_count": null,
   "metadata": {
    "id": "RzZv3ycmwFwc"
   },
   "outputs": [],
   "source": [
    "# Save to CSV\n",
    "df_output3.to_csv('xgboostoutput3.csv', index=False)"
   ]
  },
  {
   "cell_type": "markdown",
   "metadata": {
    "id": "QEsXfjTi65CT"
   },
   "source": [
    "# Tuning XGboost GridSearch"
   ]
  },
  {
   "cell_type": "code",
   "execution_count": null,
   "metadata": {
    "colab": {
     "base_uri": "https://localhost:8080/"
    },
    "id": "J2MM-e0H65CU",
    "outputId": "4b0dbd0e-9019-48b0-c677-320fff3b9859"
   },
   "outputs": [],
   "source": [
    "import xgboost as xgb\n",
    "from sklearn.model_selection import GridSearchCV\n",
    "\n",
    "# Set the hyperparameters' range\n",
    "param_grid = {\n",
    "    'learning_rate': [0.01, 0.1, 0.5],\n",
    "    'n_estimators': [50, 250, 1000],\n",
    "    'max_depth': [3, 6, 9],\n",
    "    'subsample': [0.5, 0.8, 1.0],\n",
    "    'colsample_bytree': [0.4, 0.7, 1.0],\n",
    "    'gamma': [0, 0.5, 1.0],\n",
    "    'reg_lambda': [0.1, 1.0, 10.0],\n",
    "    'min_child_weight': [1, 3]\n",
    "}\n",
    "\n",
    "# [rest of the code remains the same]\n",
    "\n",
    "\n",
    "# Initialize XGBoost classifier\n",
    "xgb_tunedmodel2 = xgb.XGBClassifier(objective=\"binary:logistic\", random_state=42)\n",
    "\n",
    "# Grid search\n",
    "grid_search2 = GridSearchCV(\n",
    "    xgb_tunedmodel2,\n",
    "    param_grid=param_grid,\n",
    "    scoring='accuracy',\n",
    "    cv=5,\n",
    "    verbose=1,\n",
    "    n_jobs=-1\n",
    ")\n",
    "\n",
    "grid_search2.fit(X2_train, y2_train)\n",
    "\n",
    "# Output the best parameters and corresponding score\n",
    "print(\"Best parameters found: \", grid_search2.best_params_)\n",
    "print(\"Best cross-validation accuracy: {:.2f}\".format(grid_search2.best_score_))\n",
    "\n"
   ]
  },
  {
   "cell_type": "code",
   "execution_count": null,
   "metadata": {
    "colab": {
     "base_uri": "https://localhost:8080/",
     "height": 623
    },
    "executionInfo": {
     "elapsed": 2506,
     "status": "ok",
     "timestamp": 1697246040802,
     "user": {
      "displayName": "Leenmel",
      "userId": "15039834560745532025"
     },
     "user_tz": -480
    },
    "id": "jyI3eVvv65CU",
    "outputId": "f0079bfe-6f29-4b41-88ba-5dc9c3de8310"
   },
   "outputs": [],
   "source": [
    "best_xgb2 = grid_search2.best_estimator_\n",
    "\n",
    "# Predictions\n",
    "y_pred_train7 = best_xgb2.predict(X2_train)\n",
    "metrics_score(y2_train, y_pred_train7)\n",
    "\n",
    "\n"
   ]
  },
  {
   "cell_type": "code",
   "execution_count": null,
   "metadata": {
    "colab": {
     "base_uri": "https://localhost:8080/",
     "height": 622
    },
    "executionInfo": {
     "elapsed": 2175,
     "status": "ok",
     "timestamp": 1697246069657,
     "user": {
      "displayName": "Leenmel",
      "userId": "15039834560745532025"
     },
     "user_tz": -480
    },
    "id": "JwFPX5lh65CV",
    "outputId": "173b8cdd-c77b-4cb0-a6c6-9072c58fa19d"
   },
   "outputs": [],
   "source": [
    "# Predictions\n",
    "y_pred_test7 = best_xgb2.predict(X2_test)\n",
    "metrics_score(y2_test, y_pred_test7)\n"
   ]
  },
  {
   "cell_type": "markdown",
   "metadata": {
    "id": "dv-QYa1Q65CV"
   },
   "source": [
    "**Testing with tuned XGboost**"
   ]
  },
  {
   "cell_type": "code",
   "execution_count": null,
   "metadata": {
    "id": "OB98ypAZ65CV"
   },
   "outputs": [],
   "source": [
    "new_test_data2_xgboost_tuned = best_xgb2.predict(new_test_data2)"
   ]
  },
  {
   "cell_type": "code",
   "execution_count": null,
   "metadata": {
    "id": "IhI9pZzg65CW"
   },
   "outputs": [],
   "source": [
    "#Putting back ID column\n",
    "original_test_data = pd.read_csv(\"/content/drive/MyDrive/Colab Notebooks/Traveldata_test.csv\")\n",
    "IDs = original_test_data[\"ID\"].values"
   ]
  },
  {
   "cell_type": "code",
   "execution_count": null,
   "metadata": {
    "id": "9DUZu2U-65CW"
   },
   "outputs": [],
   "source": [
    "#Create a dataframe\n",
    "df_output4 = pd.DataFrame({\n",
    "    'ID': IDs,\n",
    "    'Overall_Experience': new_test_data2_xgboost_tuned\n",
    "})"
   ]
  },
  {
   "cell_type": "code",
   "execution_count": null,
   "metadata": {
    "id": "_2aM1On765CW"
   },
   "outputs": [],
   "source": [
    "# Save to CSV\n",
    "df_output4.to_csv('xgboostoutput4.csv', index=False)"
   ]
  }
 ],
 "metadata": {
  "colab": {
   "collapsed_sections": [
    "41VouC6wlroP",
    "ITxTkivdlZbw",
    "SSSGDhMPlkUR"
   ],
   "provenance": []
  },
  "kernelspec": {
   "display_name": "Python 3 (ipykernel)",
   "language": "python",
   "name": "python3"
  },
  "language_info": {
   "codemirror_mode": {
    "name": "ipython",
    "version": 3
   },
   "file_extension": ".py",
   "mimetype": "text/x-python",
   "name": "python",
   "nbconvert_exporter": "python",
   "pygments_lexer": "ipython3",
   "version": "3.11.5"
  }
 },
 "nbformat": 4,
 "nbformat_minor": 1
}
